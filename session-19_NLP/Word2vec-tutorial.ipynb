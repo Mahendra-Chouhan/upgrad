{
 "cells": [
  {
   "cell_type": "markdown",
   "metadata": {
    "_uuid": "84163f3ca19c0b7c9fda47121b3bc4cadfaf1fcc"
   },
   "source": [
    "# Gensim Word2Vec Tutorial"
   ]
  },
  {
   "cell_type": "markdown",
   "metadata": {
    "_uuid": "6721f3a77cbc903d996b88c42f22c3e5e920e909"
   },
   "source": [
    "\n",
    "<img src=\"https://images.freeimages.com/images/large-previews/2b9/letters-1-yes-1188348.jpg\" alt=\"drawing\" width=\"350\"/>"
   ]
  },
  {
   "cell_type": "markdown",
   "metadata": {
    "_uuid": "9e858d8c6e56ee78629e1cc21ce8fee6dc3cec0b"
   },
   "source": [
    "# Motivation\n",
    "\n",
    "As I started working at [Supportiv](http://www.supportiv.com), the support network for instant peer support, a few months ago, I began looking into Language Models and Word2Vec particularly. A python native, I naturally decided to focus on Gensim's implementation of Word2Vec, and went on to look for tutorials on the web. As all good data scientists, I directly applied and reproduced the code samples from multiple website. Confused and often disappointed by the results I got, I went deeper and deeper, from stackoverflow threads, to Gensim's Google Groups, onto the documentation of the library, to try and understand what went wrong in my approach. After weeks of hard labor, I finally managed to get decent results, but I was frustrated by these online tutorials which were, for the most part, misleading.\n",
    "\n",
    "What troubled me the most in these online tutorials was their mismanagement of the model training: the code worked, and I got results which appeared to be decent at first, but the more I looked into them, the more disturbing they were. I wasted a lot of time figuring out what was wrong.\n",
    "\n",
    "Another issue I had with these tutorials was the data preparation step: too often, the authors chose to load an existing preprocessed dataset, use a toy example or skip this part. However, I always thought that one of the most important parts of the creation of a Word2Vec model was then missing. During my experimentations, I noticed that lemmatizing the sentences or looking for phrases/bigrams in them had a big impact over the results and performance of my models. Though the influence of the preprocessing varies with each dataset and application, I thought I would include the data preparation steps in this tutorial and use the great spaCy library along with it.\n",
    "\n",
    "I am not the only one annoyed by some of these [issues](https://groups.google.com/d/msg/gensim/jom4JFt7EV8/y5fjhupbAgAJ), so I decided to write my own tutorial.\n",
    "\n",
    "I do not pledge that it is perfect, nor the best way to implement Word2Vec, simply that it is better than a good chunk of what is out there 😉"
   ]
  },
  {
   "cell_type": "markdown",
   "metadata": {
    "_uuid": "aa10f4823faa729e96f15bb865e9f20769ea7a4b"
   },
   "source": [
    "# Plan\n",
    "\n",
    "1. [Briefing about Word2Vec](#Briefing-about-Word2Vec:)\n",
    "    * [Purpose of the tutorial](#Purpose-of-the-tutorial:)\n",
    "    * [Brief explanation](#Brief-explanation:)\n",
    "\n",
    "2. [Getting Started](#Getting-Started)\n",
    "    * [Setting up the environment](#Setting-up-the-environment:)\n",
    "    * [The data](#The-data:)\n",
    "3. [Preprocessing](#Preprocessing)\n",
    "    * [Cleaning](#Cleaning)\n",
    "    * [Bigrams](#Bigrams)\n",
    "    * [Most frequent words](#Most-Frequent-Words)\n",
    "    \n",
    "4. [Training the Model](#Training-the-model)\n",
    "    * [Gensim Word2Vec Implementation](#Gensim-Word2Vec-Implementation:)\n",
    "    * [Why I seperate the training of the model in 3 steps](#Why-I-seperate-the-training-of-the-model-in-3-steps:)\n",
    "    * [Training the model](#Training-the-model)\n",
    "        * [The parameters](#The-parameters)\n",
    "        * [Building the vocabulary table](#Building-the-Vocabulary-Table)\n",
    "        * [Training of the model](#Training-of-the-model)\n",
    "        * [Saving the model](#Saving-the-model:)\n",
    "5. [Exploring the Model](#Exploring-the-model)\n",
    "    * [Most similar to](#Most-similar-to:)\n",
    "    * [Similarities](#Similarities:)\n",
    "    * [Odd-one-out](#Odd-One-Out:)\n",
    "    * [Analogy difference](#Analogy-difference:)\n",
    "    * [t-SNE visualizations](#t-SNE-visualizations:)\n",
    "        * [10 Most similar words vs. 8 Random words](#10-Most-similar-words-vs.-8-Random-words:)\n",
    "        * [10 Most similar words vs. 10 Most dissimilar](#10-Most-similar-words-vs.-10-Most-dissimilar:)\n",
    "        * [10 Most similar words vs. 11th to 20th Most similar words](#10-Most-similar-words-vs.-11th-to-20th-Most-similar-words:)\n",
    "6. [Final Thoughts](#Final-Thoughts)\n",
    "7. [Material for more in depths understanding](#Material-for-more-in-depths-understanding:)\n",
    "8. [Acknowledgements](#Acknowledgements)\n",
    "9. [References](#References:)\n",
    "10. [End](#End)"
   ]
  },
  {
   "cell_type": "markdown",
   "metadata": {
    "_uuid": "7d96105f0c90bf052b2afdb684bf31549e1e6c81"
   },
   "source": [
    "# Briefing about Word2Vec:\n",
    "\n",
    "<img src=\"http://mccormickml.com/assets/word2vec/skip_gram_net_arch.png\" alt=\"drawing\" width=\"550\"/>\n",
    "\n",
    "[[1]](#References:)\n",
    "\n",
    "\n",
    "## Purpose of the tutorial:\n",
    "As I said before, this tutorial focuses on the right use of the Word2Vec package from the Gensim libray; therefore, I am not going to explain the concepts and ideas behind Word2Vec here. I am simply going to give a very brief explanation, and provide you with links to good, in depth tutorials.\n",
    "\n",
    "## Brief explanation:\n",
    "\n",
    "Word2Vec was introduced in two [papers](#Material-for-more-in-depths-understanding:) between September and October 2013, by a team of researchers at Google. Along with the papers, the researchers published their implementation in C. The Python implementation was done soon after the 1st paper, by [Gensim](https://radimrehurek.com/gensim/index.html). \n",
    "\n",
    "The underlying assumption of Word2Vec is that two words sharing similar contexts also share a similar meaning and consequently a similar vector representation from the model. For instance: \"dog\", \"puppy\" and \"pup\" are often used in similar situations, with similar surrounding words like \"good\", \"fluffy\" or \"cute\", and according to Word2Vec they will therefore share a similar vector representation.<br>\n",
    "\n",
    "From this assumption, Word2Vec can be used to find out the relations between words in a dataset, compute the similarity between them, or use the vector representation of those words as input for other applications such as text classification or clustering.\n",
    "\n",
    "# Getting Started\n",
    "\n",
    "## Setting up the environment:\n",
    "\n",
    "`python==3.6.3`\n",
    "\n",
    "Libraries used:\n",
    " * `xlrd==1.1.0`: https://pypi.org/project/xlrd/\n",
    " * `spaCy==2.0.12`: https://spacy.io/usage/\n",
    " * `gensim==3.4.0`: https://radimrehurek.com/gensim/install.html\n",
    " * `scikit-learn==0.19.1`: http://scikit-learn.org/stable/install.html\n",
    " * `seaborn==0.8`: https://seaborn.pydata.org/installing.html"
   ]
  },
  {
   "cell_type": "code",
   "execution_count": 1,
   "metadata": {
    "_uuid": "cc7b3e6ca62670ff13626705402f626778487204"
   },
   "outputs": [],
   "source": [
    "import re  # For preprocessing\n",
    "import pandas as pd  # For data handling\n",
    "from time import time  # To time our operations\n",
    "from collections import defaultdict  # For word frequency\n",
    "\n",
    "import spacy  # For preprocessing\n",
    "\n",
    "import logging  # Setting up the loggings to monitor gensim\n",
    "logging.basicConfig(format=\"%(levelname)s - %(asctime)s: %(message)s\", datefmt= '%H:%M:%S', level=logging.INFO)"
   ]
  },
  {
   "cell_type": "markdown",
   "metadata": {
    "_uuid": "8ec7ce784f6d9e7f71e2b5789b1e65ec4414628b"
   },
   "source": [
    "<img src=\"https://upload.wikimedia.org/wikipedia/commons/4/44/Logo_The_Simpsons.svg\" alt=\"drawing\" width=\"400\"/>\n",
    "\n",
    "## The data:\n",
    "I chose to play with the script from the Simpsons, both because I love the Simpsons and because with more than 150k lines of dialogues, the dataset was substantial!\n",
    "\n",
    "This dataset contains the characters, locations, episode details, and script lines for approximately 600 Simpsons episodes, dating back to 1989. It can be found here: https://www.kaggle.com/ambarish/fun-in-text-mining-with-simpsons/data (~25MB)"
   ]
  },
  {
   "cell_type": "markdown",
   "metadata": {
    "_uuid": "0c36323d9aa62f74ab348cda5ee0f571aa1d4a96"
   },
   "source": [
    "# Preprocessing\n",
    "\n",
    "We keep only two columns:\n",
    "* `raw_character_text`: the character who speaks (can be useful when monitoring the preprocessing steps)\n",
    "* `spoken_words`: the raw text from the line of dialogue\n",
    "\n",
    "We do not keep `normalized_text` because we want to do our own preprocessing.\n",
    "\n",
    "You can find the resulting file here: https://www.kaggle.com/pierremegret/dialogue-lines-of-the-simpsons"
   ]
  },
  {
   "cell_type": "code",
   "execution_count": 2,
   "metadata": {
    "_uuid": "6453b9c3f797e51923e030090ead659253f4e459"
   },
   "outputs": [
    {
     "data": {
      "text/plain": [
       "(158314, 2)"
      ]
     },
     "execution_count": 2,
     "metadata": {},
     "output_type": "execute_result"
    }
   ],
   "source": [
    "df = pd.read_csv('data/simpsons_dataset.csv')\n",
    "df.shape"
   ]
  },
  {
   "cell_type": "code",
   "execution_count": 3,
   "metadata": {
    "_uuid": "c6c6bf4462fb4bc00c2abdbf65eced888219f364"
   },
   "outputs": [
    {
     "data": {
      "text/html": [
       "<div>\n",
       "<style scoped>\n",
       "    .dataframe tbody tr th:only-of-type {\n",
       "        vertical-align: middle;\n",
       "    }\n",
       "\n",
       "    .dataframe tbody tr th {\n",
       "        vertical-align: top;\n",
       "    }\n",
       "\n",
       "    .dataframe thead th {\n",
       "        text-align: right;\n",
       "    }\n",
       "</style>\n",
       "<table border=\"1\" class=\"dataframe\">\n",
       "  <thead>\n",
       "    <tr style=\"text-align: right;\">\n",
       "      <th></th>\n",
       "      <th>raw_character_text</th>\n",
       "      <th>spoken_words</th>\n",
       "    </tr>\n",
       "  </thead>\n",
       "  <tbody>\n",
       "    <tr>\n",
       "      <th>0</th>\n",
       "      <td>Miss Hoover</td>\n",
       "      <td>No, actually, it was a little of both. Sometim...</td>\n",
       "    </tr>\n",
       "    <tr>\n",
       "      <th>1</th>\n",
       "      <td>Lisa Simpson</td>\n",
       "      <td>Where's Mr. Bergstrom?</td>\n",
       "    </tr>\n",
       "    <tr>\n",
       "      <th>2</th>\n",
       "      <td>Miss Hoover</td>\n",
       "      <td>I don't know. Although I'd sure like to talk t...</td>\n",
       "    </tr>\n",
       "    <tr>\n",
       "      <th>3</th>\n",
       "      <td>Lisa Simpson</td>\n",
       "      <td>That life is worth living.</td>\n",
       "    </tr>\n",
       "    <tr>\n",
       "      <th>4</th>\n",
       "      <td>Edna Krabappel-Flanders</td>\n",
       "      <td>The polls will be open from now until the end ...</td>\n",
       "    </tr>\n",
       "  </tbody>\n",
       "</table>\n",
       "</div>"
      ],
      "text/plain": [
       "        raw_character_text                                       spoken_words\n",
       "0              Miss Hoover  No, actually, it was a little of both. Sometim...\n",
       "1             Lisa Simpson                             Where's Mr. Bergstrom?\n",
       "2              Miss Hoover  I don't know. Although I'd sure like to talk t...\n",
       "3             Lisa Simpson                         That life is worth living.\n",
       "4  Edna Krabappel-Flanders  The polls will be open from now until the end ..."
      ]
     },
     "execution_count": 3,
     "metadata": {},
     "output_type": "execute_result"
    }
   ],
   "source": [
    "df.head()"
   ]
  },
  {
   "cell_type": "markdown",
   "metadata": {
    "_uuid": "caf6838463d56f79e92d87d5a3827fcd5f04fc54"
   },
   "source": [
    "The missing values comes from the part of the script where something happens, but with no dialogue. For instance \"(Springfield Elementary School: EXT. ELEMENTARY - SCHOOL PLAYGROUND - AFTERNOON)\""
   ]
  },
  {
   "cell_type": "code",
   "execution_count": 4,
   "metadata": {
    "_uuid": "3a15727caeba1c8d10573456640d0b8b9f2f2e2d"
   },
   "outputs": [
    {
     "data": {
      "text/plain": [
       "raw_character_text    17814\n",
       "spoken_words          26459\n",
       "dtype: int64"
      ]
     },
     "execution_count": 4,
     "metadata": {},
     "output_type": "execute_result"
    }
   ],
   "source": [
    "df.isnull().sum()"
   ]
  },
  {
   "cell_type": "markdown",
   "metadata": {
    "_uuid": "885a555596d7484841ea54c94405d03d90572396"
   },
   "source": [
    "Removing the missing values:"
   ]
  },
  {
   "cell_type": "code",
   "execution_count": 5,
   "metadata": {
    "_uuid": "82cb38f176526679f66ee31e11cfe4f5eebdab51"
   },
   "outputs": [
    {
     "data": {
      "text/plain": [
       "raw_character_text    0\n",
       "spoken_words          0\n",
       "dtype: int64"
      ]
     },
     "execution_count": 5,
     "metadata": {},
     "output_type": "execute_result"
    }
   ],
   "source": [
    "df = df.dropna().reset_index(drop=True)\n",
    "df.isnull().sum()"
   ]
  },
  {
   "cell_type": "markdown",
   "metadata": {
    "_uuid": "7f07dca2a2656dcd9e0c315afa36af32a992eef7"
   },
   "source": [
    "## Cleaning:\n",
    "We are lemmatizing and removing the stopwords and non-alphabetic characters for each line of dialogue."
   ]
  },
  {
   "cell_type": "code",
   "execution_count": 6,
   "metadata": {
    "_uuid": "b26a0c01c5701630d3951cfc808a9d944eea6371"
   },
   "outputs": [],
   "source": [
    "nlp = spacy.load('en_core_web_sm', disable=['ner', 'parser']) # disabling Named Entity Recognition for speed\n",
    "\n",
    "def cleaning(doc):\n",
    "    # Lemmatizes and removes stopwords\n",
    "    # doc needs to be a spacy Doc object\n",
    "    txt = [token.lemma_ for token in doc if not token.is_stop]\n",
    "    # Word2Vec uses context words to learn the vector representation of a target word,\n",
    "    # if a sentence is only one or two words long,\n",
    "    # the benefit for the training is very small\n",
    "    if len(txt) > 2:\n",
    "        return ' '.join(txt)"
   ]
  },
  {
   "cell_type": "markdown",
   "metadata": {
    "_uuid": "f686964722eede40e5961cd232aee7b6dd587bd1"
   },
   "source": [
    "Removes non-alphabetic characters:"
   ]
  },
  {
   "cell_type": "code",
   "execution_count": 7,
   "metadata": {
    "_uuid": "b45598934171607242ca7d50f8c5f7c91411aace"
   },
   "outputs": [],
   "source": [
    "brief_cleaning = (re.sub(\"[^A-Za-z']+\", ' ', str(row)).lower() for row in df['spoken_words'])"
   ]
  },
  {
   "cell_type": "markdown",
   "metadata": {
    "_uuid": "2360160a7f326a32d56f2f18782d7ce2f4ac1def"
   },
   "source": [
    "Taking advantage of spaCy .pipe() attribute to speed-up the cleaning process:"
   ]
  },
  {
   "cell_type": "code",
   "execution_count": 8,
   "metadata": {
    "_uuid": "fa44ca458c970ca229426779e6ffcd46c2de313c"
   },
   "outputs": [
    {
     "name": "stdout",
     "output_type": "stream",
     "text": [
      "Time to clean up everything: 2.9 mins\n"
     ]
    }
   ],
   "source": [
    "t = time()\n",
    "\n",
    "txt = [cleaning(doc) for doc in nlp.pipe(brief_cleaning, batch_size=5000, n_threads=-1)]\n",
    "\n",
    "print('Time to clean up everything: {} mins'.format(round((time() - t) / 60, 2)))"
   ]
  },
  {
   "cell_type": "markdown",
   "metadata": {
    "_uuid": "65ec76c60f9fe93bba6909f4e696f90e3e54710b"
   },
   "source": [
    "Put the results in a DataFrame to remove missing values and duplicates:"
   ]
  },
  {
   "cell_type": "code",
   "execution_count": 9,
   "metadata": {
    "_uuid": "57f1eb8382554bc592d48915a903230b5b6d6cf7"
   },
   "outputs": [
    {
     "data": {
      "text/plain": [
       "(85964, 1)"
      ]
     },
     "execution_count": 9,
     "metadata": {},
     "output_type": "execute_result"
    }
   ],
   "source": [
    "df_clean = pd.DataFrame({'clean': txt})\n",
    "df_clean = df_clean.dropna().drop_duplicates()\n",
    "df_clean.shape"
   ]
  },
  {
   "cell_type": "markdown",
   "metadata": {
    "_uuid": "31b4a744059df490ddb47ab6cdec008dc929ede3"
   },
   "source": [
    "## Bigrams:\n",
    "We are using Gensim Phrases package to automatically detect common phrases (bigrams) from a list of sentences.\n",
    "https://radimrehurek.com/gensim/models/phrases.html\n",
    "\n",
    "The main reason we do this is to catch words like \"mr_burns\" or \"bart_simpson\" !"
   ]
  },
  {
   "cell_type": "code",
   "execution_count": 10,
   "metadata": {
    "_uuid": "af6d420284a0ff7a7407d4c526754ffe850d6170"
   },
   "outputs": [],
   "source": [
    "from gensim.models.phrases import Phrases, Phraser"
   ]
  },
  {
   "cell_type": "markdown",
   "metadata": {
    "_uuid": "788aec3c82788101db25d4ca6105ee133fecae7c"
   },
   "source": [
    "As `Phrases()` takes a list of list of words as input:"
   ]
  },
  {
   "cell_type": "code",
   "execution_count": 11,
   "metadata": {
    "_uuid": "f58487ff08d8812622fd7aef36139f1c850add18"
   },
   "outputs": [],
   "source": [
    "sent = [row.split() for row in df_clean['clean']]"
   ]
  },
  {
   "cell_type": "markdown",
   "metadata": {
    "_uuid": "bb7766b322cbc1d3381912b890585eb249ac5304"
   },
   "source": [
    "Creates the relevant phrases from the list of sentences:"
   ]
  },
  {
   "cell_type": "code",
   "execution_count": 12,
   "metadata": {
    "_uuid": "8befad8c76c54bd2b831b0942a2f626f7d8a6dac"
   },
   "outputs": [
    {
     "name": "stderr",
     "output_type": "stream",
     "text": [
      "INFO - 23:08:36: collecting all words and their counts\n",
      "INFO - 23:08:36: PROGRESS: at sentence #0, processed 0 words and 0 word types\n",
      "INFO - 23:08:37: PROGRESS: at sentence #10000, processed 63561 words and 52816 word types\n",
      "INFO - 23:08:37: PROGRESS: at sentence #20000, processed 130943 words and 99866 word types\n",
      "INFO - 23:08:37: PROGRESS: at sentence #30000, processed 192972 words and 138532 word types\n",
      "INFO - 23:08:37: PROGRESS: at sentence #40000, processed 249842 words and 172659 word types\n",
      "INFO - 23:08:38: PROGRESS: at sentence #50000, processed 311265 words and 208566 word types\n",
      "INFO - 23:08:38: PROGRESS: at sentence #60000, processed 373588 words and 243702 word types\n",
      "INFO - 23:08:38: PROGRESS: at sentence #70000, processed 436441 words and 278740 word types\n",
      "INFO - 23:08:38: PROGRESS: at sentence #80000, processed 497829 words and 311886 word types\n",
      "INFO - 23:08:38: collected 330804 word types from a corpus of 537160 words (unigram + bigrams) and 85964 sentences\n",
      "INFO - 23:08:38: using 330804 counts as vocab in Phrases<0 vocab, min_count=30, threshold=10.0, max_vocab_size=40000000>\n"
     ]
    }
   ],
   "source": [
    "phrases = Phrases(sent, min_count=30, progress_per=10000)"
   ]
  },
  {
   "cell_type": "markdown",
   "metadata": {
    "_uuid": "45bae4a953f2ad8951e4efb234e1e357857a33b3"
   },
   "source": [
    "The goal of Phraser() is to cut down memory consumption of Phrases(), by discarding model state not strictly needed for the bigram detection task:"
   ]
  },
  {
   "cell_type": "code",
   "execution_count": 13,
   "metadata": {
    "_kg_hide-input": true,
    "_uuid": "b8ae81ba230013aefe7c584338de7376fedf6294"
   },
   "outputs": [
    {
     "name": "stderr",
     "output_type": "stream",
     "text": [
      "INFO - 23:08:38: source_vocab length 330804\n",
      "INFO - 23:08:44: Phraser built with 126 phrasegrams\n"
     ]
    }
   ],
   "source": [
    "bigram = Phraser(phrases)"
   ]
  },
  {
   "cell_type": "markdown",
   "metadata": {
    "_uuid": "4a58380f19d159688aeee665d1afb96289fdd4b8"
   },
   "source": [
    "Transform the corpus based on the bigrams detected:"
   ]
  },
  {
   "cell_type": "code",
   "execution_count": 14,
   "metadata": {
    "_uuid": "8051b56890c147119db3df529d3cfd3cf675fdca"
   },
   "outputs": [],
   "source": [
    "sentences = bigram[sent]"
   ]
  },
  {
   "cell_type": "markdown",
   "metadata": {
    "_uuid": "a4f81e8bb2c09a67b00cd24db28353eca8ae188c"
   },
   "source": [
    "## Most Frequent Words:\n",
    "Mainly a sanity check of the effectiveness of the lemmatization, removal of stopwords, and addition of bigrams."
   ]
  },
  {
   "cell_type": "code",
   "execution_count": 15,
   "metadata": {
    "_uuid": "eeb8afe1cfcb7ba65bd14d657455600acacf39ba"
   },
   "outputs": [
    {
     "data": {
      "text/plain": [
       "30178"
      ]
     },
     "execution_count": 15,
     "metadata": {},
     "output_type": "execute_result"
    }
   ],
   "source": [
    "word_freq = defaultdict(int)\n",
    "for sent in sentences:\n",
    "    for i in sent:\n",
    "        word_freq[i] += 1\n",
    "len(word_freq)"
   ]
  },
  {
   "cell_type": "code",
   "execution_count": 16,
   "metadata": {
    "_uuid": "5b010149150b2b2eaf332d79bcde0649b8a3c2b5"
   },
   "outputs": [
    {
     "data": {
      "text/plain": [
       "['oh', 'like', 'know', 'get', 'hey', 'think', 'right', 'look', 'want', 'come']"
      ]
     },
     "execution_count": 16,
     "metadata": {},
     "output_type": "execute_result"
    }
   ],
   "source": [
    "sorted(word_freq, key=word_freq.get, reverse=True)[:10]"
   ]
  },
  {
   "cell_type": "markdown",
   "metadata": {
    "_uuid": "500ab7b5c84dc006d7945f339c40725a82856fdf"
   },
   "source": [
    "# Training the model\n",
    "## Gensim Word2Vec Implementation:\n",
    "We use Gensim implementation of word2vec: https://radimrehurek.com/gensim/models/word2vec.html"
   ]
  },
  {
   "cell_type": "code",
   "execution_count": 17,
   "metadata": {
    "_uuid": "3269be205cadbad499aa87890893d92da6adc796"
   },
   "outputs": [],
   "source": [
    "import multiprocessing\n",
    "\n",
    "from gensim.models import Word2Vec"
   ]
  },
  {
   "cell_type": "markdown",
   "metadata": {
    "_uuid": "7c524bc49c41a6c37f9e754a38797c9501202090"
   },
   "source": [
    "## Why I seperate the training of the model in 3 steps:\n",
    "I prefer to separate the training in 3 distinctive steps for clarity and monitoring.\n",
    "1. `Word2Vec()`: \n",
    ">In this first step, I set up the parameters of the model one-by-one. <br>I do not supply the parameter `sentences`, and therefore leave the model uninitialized, purposefully.\n",
    "2. `.build_vocab()`: \n",
    ">Here it builds the vocabulary from a sequence of sentences and thus initialized the model. <br>With the loggings, I can follow the progress and even more important, the effect of `min_count` and `sample` on the word corpus. I noticed that these two parameters, and in particular `sample`, have a great influence over the performance of a model. Displaying both allows for a more accurate and an easier management of their influence.\n",
    "3. `.train()`:\n",
    ">Finally, trains the model.<br>\n",
    "The loggings here are mainly useful for monitoring, making sure that no threads are executed instantaneously."
   ]
  },
  {
   "cell_type": "code",
   "execution_count": 18,
   "metadata": {
    "_uuid": "03488d9b68963579c96094aca88a302c9f2753a7"
   },
   "outputs": [],
   "source": [
    "cores = multiprocessing.cpu_count() # Count the number of cores in a computer"
   ]
  },
  {
   "cell_type": "markdown",
   "metadata": {
    "_uuid": "89c305fcd163488441ac2ac6133678bd973b4419"
   },
   "source": [
    "## The parameters:\n",
    "\n",
    "* `min_count` <font color='purple'>=</font> <font color='green'>int</font> - Ignores all words with total absolute frequency lower than this - (2, 100)\n",
    "\n",
    "\n",
    "* `window` <font color='purple'>=</font> <font color='green'>int</font> - The maximum distance between the current and predicted word within a sentence. E.g. `window` words on the left and `window` words on the left of our target - (2, 10)\n",
    "\n",
    "\n",
    "* `size` <font color='purple'>=</font> <font color='green'>int</font> - Dimensionality of the feature vectors. - (50, 300)\n",
    "\n",
    "\n",
    "* `sample` <font color='purple'>=</font> <font color='green'>float</font> - The threshold for configuring which higher-frequency words are randomly downsampled. Highly influencial.  - (0, 1e-5)\n",
    "\n",
    "\n",
    "* `alpha` <font color='purple'>=</font> <font color='green'>float</font> - The initial learning rate - (0.01, 0.05)\n",
    "\n",
    "\n",
    "* `min_alpha` <font color='purple'>=</font> <font color='green'>float</font> - Learning rate will linearly drop to `min_alpha` as training progresses. To set it: alpha - (min_alpha * epochs) ~ 0.00\n",
    "\n",
    "\n",
    "* `negative` <font color='purple'>=</font> <font color='green'>int</font> - If > 0, negative sampling will be used, the int for negative specifies how many \"noise words\" should be drown. If set to 0, no negative sampling is used. - (5, 20)\n",
    "\n",
    "\n",
    "* `workers` <font color='purple'>=</font> <font color='green'>int</font> - Use these many worker threads to train the model (=faster training with multicore machines)"
   ]
  },
  {
   "cell_type": "code",
   "execution_count": 19,
   "metadata": {
    "_uuid": "ad619db82c219d6cb81fad516563feb0c4d474cd"
   },
   "outputs": [],
   "source": [
    "w2v_model = Word2Vec(min_count=20,\n",
    "                     window=2,\n",
    "                     size=300,\n",
    "                     sample=6e-5, \n",
    "                     alpha=0.03, \n",
    "                     min_alpha=0.0007, \n",
    "                     negative=20,\n",
    "                     workers=cores-1)"
   ]
  },
  {
   "cell_type": "markdown",
   "metadata": {
    "_uuid": "d7e9f1bd338f9e15647b5209ffd8fbb131cd7ee5"
   },
   "source": [
    "## Building the Vocabulary Table:\n",
    "Word2Vec requires us to build the vocabulary table (simply digesting all the words and filtering out the unique words, and doing some basic counts on them):"
   ]
  },
  {
   "cell_type": "code",
   "execution_count": 20,
   "metadata": {
    "_uuid": "66358ad743e05e17dfbed3899af9c41056143daa"
   },
   "outputs": [
    {
     "name": "stderr",
     "output_type": "stream",
     "text": [
      "INFO - 23:08:48: collecting all words and their counts\n",
      "INFO - 23:08:48: PROGRESS: at sentence #0, processed 0 words, keeping 0 word types\n",
      "INFO - 23:08:48: PROGRESS: at sentence #10000, processed 61718 words, keeping 9558 word types\n",
      "INFO - 23:08:49: PROGRESS: at sentence #20000, processed 127351 words, keeping 14506 word types\n",
      "INFO - 23:08:49: PROGRESS: at sentence #30000, processed 187829 words, keeping 17619 word types\n",
      "INFO - 23:08:49: PROGRESS: at sentence #40000, processed 243332 words, keeping 20385 word types\n",
      "INFO - 23:08:50: PROGRESS: at sentence #50000, processed 303182 words, keeping 22878 word types\n",
      "INFO - 23:08:50: PROGRESS: at sentence #60000, processed 363940 words, keeping 25200 word types\n",
      "INFO - 23:08:50: PROGRESS: at sentence #70000, processed 425408 words, keeping 27401 word types\n",
      "INFO - 23:08:51: PROGRESS: at sentence #80000, processed 485464 words, keeping 29275 word types\n",
      "INFO - 23:08:51: collected 30178 word types from a corpus of 523700 raw words and 85964 sentences\n",
      "INFO - 23:08:51: Loading a fresh vocabulary\n",
      "INFO - 23:08:51: effective_min_count=20 retains 3319 unique words (10% of original 30178, drops 26859)\n",
      "INFO - 23:08:51: effective_min_count=20 leaves 437324 word corpus (83% of original 523700, drops 86376)\n",
      "INFO - 23:08:51: deleting the raw counts dictionary of 30178 items\n",
      "INFO - 23:08:51: sample=6e-05 downsamples 1200 most-common words\n",
      "INFO - 23:08:51: downsampling leaves estimated 199161 word corpus (45.5% of prior 437324)\n",
      "INFO - 23:08:51: estimated required memory for 3319 words and 300 dimensions: 9625100 bytes\n",
      "INFO - 23:08:51: resetting layer weights\n"
     ]
    },
    {
     "name": "stdout",
     "output_type": "stream",
     "text": [
      "Time to build vocab: 0.07 mins\n"
     ]
    }
   ],
   "source": [
    "t = time()\n",
    "\n",
    "w2v_model.build_vocab(sentences, progress_per=10000)\n",
    "\n",
    "print('Time to build vocab: {} mins'.format(round((time() - t) / 60, 2)))"
   ]
  },
  {
   "cell_type": "markdown",
   "metadata": {
    "_uuid": "63260d82061abb47db7f2f8b23e07ec629adf5a9"
   },
   "source": [
    "## Training of the model:\n",
    "_Parameters of the training:_\n",
    "* `total_examples` <font color='purple'>=</font> <font color='green'>int</font> - Count of sentences;\n",
    "* `epochs` <font color='purple'>=</font> <font color='green'>int</font> - Number of iterations (epochs) over the corpus - [10, 20, 30]"
   ]
  },
  {
   "cell_type": "code",
   "execution_count": 21,
   "metadata": {
    "_uuid": "07a2a047e701e512fd758edff186daadaeea6461"
   },
   "outputs": [
    {
     "name": "stderr",
     "output_type": "stream",
     "text": [
      "INFO - 23:08:52: training model with 7 workers on 3319 vocabulary and 300 features, using sg=0 hs=0 sample=6e-05 negative=20 window=2\n",
      "INFO - 23:08:53: EPOCH 1 - PROGRESS: at 31.39% examples, 64109 words/s, in_qsize 0, out_qsize 0\n",
      "INFO - 23:08:54: EPOCH 1 - PROGRESS: at 65.21% examples, 63741 words/s, in_qsize 0, out_qsize 0\n",
      "INFO - 23:08:55: worker thread finished; awaiting finish of 6 more threads\n",
      "INFO - 23:08:55: worker thread finished; awaiting finish of 5 more threads\n",
      "INFO - 23:08:55: worker thread finished; awaiting finish of 4 more threads\n",
      "INFO - 23:08:55: worker thread finished; awaiting finish of 3 more threads\n",
      "INFO - 23:08:55: worker thread finished; awaiting finish of 2 more threads\n",
      "INFO - 23:08:55: worker thread finished; awaiting finish of 1 more threads\n",
      "INFO - 23:08:55: EPOCH 1 - PROGRESS: at 100.00% examples, 65641 words/s, in_qsize 0, out_qsize 1\n",
      "INFO - 23:08:55: worker thread finished; awaiting finish of 0 more threads\n",
      "INFO - 23:08:55: EPOCH - 1 : training on 523700 raw words (198820 effective words) took 3.0s, 65596 effective words/s\n",
      "INFO - 23:08:57: EPOCH 2 - PROGRESS: at 9.45% examples, 8662 words/s, in_qsize 0, out_qsize 0\n",
      "INFO - 23:08:59: EPOCH 2 - PROGRESS: at 29.42% examples, 18436 words/s, in_qsize 0, out_qsize 1\n",
      "INFO - 23:09:00: EPOCH 2 - PROGRESS: at 49.85% examples, 22938 words/s, in_qsize 3, out_qsize 1\n",
      "INFO - 23:09:01: EPOCH 2 - PROGRESS: at 74.72% examples, 27472 words/s, in_qsize 13, out_qsize 0\n",
      "INFO - 23:09:01: worker thread finished; awaiting finish of 6 more threads\n",
      "INFO - 23:09:01: worker thread finished; awaiting finish of 5 more threads\n",
      "INFO - 23:09:01: worker thread finished; awaiting finish of 4 more threads\n",
      "INFO - 23:09:01: worker thread finished; awaiting finish of 3 more threads\n",
      "INFO - 23:09:01: worker thread finished; awaiting finish of 2 more threads\n",
      "INFO - 23:09:01: worker thread finished; awaiting finish of 1 more threads\n",
      "INFO - 23:09:01: worker thread finished; awaiting finish of 0 more threads\n",
      "INFO - 23:09:01: EPOCH - 2 : training on 523700 raw words (199514 effective words) took 5.5s, 36087 effective words/s\n",
      "INFO - 23:09:02: EPOCH 3 - PROGRESS: at 20.13% examples, 40268 words/s, in_qsize 0, out_qsize 0\n",
      "INFO - 23:09:03: EPOCH 3 - PROGRESS: at 41.53% examples, 31366 words/s, in_qsize 0, out_qsize 0\n",
      "INFO - 23:09:05: EPOCH 3 - PROGRESS: at 63.30% examples, 33031 words/s, in_qsize 0, out_qsize 0\n",
      "INFO - 23:09:06: EPOCH 3 - PROGRESS: at 82.28% examples, 33797 words/s, in_qsize 0, out_qsize 0\n",
      "INFO - 23:09:06: worker thread finished; awaiting finish of 6 more threads\n",
      "INFO - 23:09:06: worker thread finished; awaiting finish of 5 more threads\n",
      "INFO - 23:09:06: worker thread finished; awaiting finish of 4 more threads\n",
      "INFO - 23:09:06: worker thread finished; awaiting finish of 3 more threads\n",
      "INFO - 23:09:06: worker thread finished; awaiting finish of 2 more threads\n",
      "INFO - 23:09:06: worker thread finished; awaiting finish of 1 more threads\n",
      "INFO - 23:09:06: worker thread finished; awaiting finish of 0 more threads\n",
      "INFO - 23:09:06: EPOCH - 3 : training on 523700 raw words (199297 effective words) took 5.5s, 36454 effective words/s\n",
      "INFO - 23:09:07: EPOCH 4 - PROGRESS: at 20.13% examples, 39802 words/s, in_qsize 0, out_qsize 0\n",
      "INFO - 23:09:08: EPOCH 4 - PROGRESS: at 41.53% examples, 40012 words/s, in_qsize 0, out_qsize 0\n",
      "INFO - 23:09:09: EPOCH 4 - PROGRESS: at 61.40% examples, 38725 words/s, in_qsize 0, out_qsize 0\n",
      "INFO - 23:09:10: EPOCH 4 - PROGRESS: at 78.53% examples, 37662 words/s, in_qsize 0, out_qsize 0\n",
      "INFO - 23:09:11: worker thread finished; awaiting finish of 6 more threads\n",
      "INFO - 23:09:11: worker thread finished; awaiting finish of 5 more threads\n",
      "INFO - 23:09:11: worker thread finished; awaiting finish of 4 more threads\n",
      "INFO - 23:09:11: worker thread finished; awaiting finish of 3 more threads\n",
      "INFO - 23:09:11: worker thread finished; awaiting finish of 2 more threads\n",
      "INFO - 23:09:11: worker thread finished; awaiting finish of 1 more threads\n",
      "INFO - 23:09:11: worker thread finished; awaiting finish of 0 more threads\n",
      "INFO - 23:09:11: EPOCH - 4 : training on 523700 raw words (199118 effective words) took 4.9s, 40471 effective words/s\n",
      "INFO - 23:09:12: EPOCH 5 - PROGRESS: at 20.13% examples, 39637 words/s, in_qsize 1, out_qsize 0\n",
      "INFO - 23:09:13: EPOCH 5 - PROGRESS: at 45.81% examples, 41994 words/s, in_qsize 0, out_qsize 0\n",
      "INFO - 23:09:14: EPOCH 5 - PROGRESS: at 65.21% examples, 40565 words/s, in_qsize 1, out_qsize 0\n",
      "INFO - 23:09:15: EPOCH 5 - PROGRESS: at 80.39% examples, 37869 words/s, in_qsize 0, out_qsize 0\n",
      "INFO - 23:09:16: worker thread finished; awaiting finish of 6 more threads\n",
      "INFO - 23:09:16: worker thread finished; awaiting finish of 5 more threads\n",
      "INFO - 23:09:16: worker thread finished; awaiting finish of 4 more threads\n",
      "INFO - 23:09:16: worker thread finished; awaiting finish of 3 more threads\n",
      "INFO - 23:09:16: worker thread finished; awaiting finish of 2 more threads\n",
      "INFO - 23:09:16: worker thread finished; awaiting finish of 1 more threads\n",
      "INFO - 23:09:16: worker thread finished; awaiting finish of 0 more threads\n",
      "INFO - 23:09:16: EPOCH - 5 : training on 523700 raw words (199232 effective words) took 5.2s, 38644 effective words/s\n",
      "INFO - 23:09:18: EPOCH 6 - PROGRESS: at 11.31% examples, 17143 words/s, in_qsize 0, out_qsize 0\n",
      "INFO - 23:09:19: EPOCH 6 - PROGRESS: at 37.40% examples, 31068 words/s, in_qsize 0, out_qsize 0\n",
      "INFO - 23:09:20: EPOCH 6 - PROGRESS: at 59.44% examples, 33553 words/s, in_qsize 0, out_qsize 0\n",
      "INFO - 23:09:21: EPOCH 6 - PROGRESS: at 76.60% examples, 33574 words/s, in_qsize 0, out_qsize 0\n",
      "INFO - 23:09:21: worker thread finished; awaiting finish of 6 more threads\n",
      "INFO - 23:09:21: worker thread finished; awaiting finish of 5 more threads\n",
      "INFO - 23:09:21: worker thread finished; awaiting finish of 4 more threads\n",
      "INFO - 23:09:21: worker thread finished; awaiting finish of 3 more threads\n",
      "INFO - 23:09:21: worker thread finished; awaiting finish of 2 more threads\n",
      "INFO - 23:09:21: worker thread finished; awaiting finish of 1 more threads\n",
      "INFO - 23:09:21: worker thread finished; awaiting finish of 0 more threads\n",
      "INFO - 23:09:21: EPOCH - 6 : training on 523700 raw words (199015 effective words) took 5.0s, 39418 effective words/s\n",
      "INFO - 23:09:23: EPOCH 7 - PROGRESS: at 25.54% examples, 45498 words/s, in_qsize 0, out_qsize 0\n",
      "INFO - 23:09:24: EPOCH 7 - PROGRESS: at 39.55% examples, 34986 words/s, in_qsize 0, out_qsize 1\n",
      "INFO - 23:09:25: EPOCH 7 - PROGRESS: at 61.40% examples, 35048 words/s, in_qsize 2, out_qsize 1\n",
      "INFO - 23:09:26: EPOCH 7 - PROGRESS: at 84.20% examples, 37509 words/s, in_qsize 9, out_qsize 0\n",
      "INFO - 23:09:26: worker thread finished; awaiting finish of 6 more threads\n",
      "INFO - 23:09:26: worker thread finished; awaiting finish of 5 more threads\n",
      "INFO - 23:09:26: worker thread finished; awaiting finish of 4 more threads\n",
      "INFO - 23:09:26: worker thread finished; awaiting finish of 3 more threads\n",
      "INFO - 23:09:26: worker thread finished; awaiting finish of 2 more threads\n",
      "INFO - 23:09:26: worker thread finished; awaiting finish of 1 more threads\n",
      "INFO - 23:09:26: worker thread finished; awaiting finish of 0 more threads\n",
      "INFO - 23:09:26: EPOCH - 7 : training on 523700 raw words (198994 effective words) took 4.5s, 43844 effective words/s\n",
      "INFO - 23:09:27: EPOCH 8 - PROGRESS: at 14.84% examples, 27638 words/s, in_qsize 0, out_qsize 0\n",
      "INFO - 23:09:28: EPOCH 8 - PROGRESS: at 35.34% examples, 33820 words/s, in_qsize 0, out_qsize 0\n",
      "INFO - 23:09:29: EPOCH 8 - PROGRESS: at 61.40% examples, 37636 words/s, in_qsize 0, out_qsize 0\n",
      "INFO - 23:09:31: EPOCH 8 - PROGRESS: at 84.20% examples, 34049 words/s, in_qsize 0, out_qsize 0\n",
      "INFO - 23:09:32: worker thread finished; awaiting finish of 6 more threads\n",
      "INFO - 23:09:32: worker thread finished; awaiting finish of 5 more threads\n",
      "INFO - 23:09:32: worker thread finished; awaiting finish of 4 more threads\n",
      "INFO - 23:09:32: worker thread finished; awaiting finish of 3 more threads\n",
      "INFO - 23:09:32: worker thread finished; awaiting finish of 2 more threads\n",
      "INFO - 23:09:32: worker thread finished; awaiting finish of 1 more threads\n",
      "INFO - 23:09:32: worker thread finished; awaiting finish of 0 more threads\n",
      "INFO - 23:09:32: EPOCH - 8 : training on 523700 raw words (199379 effective words) took 5.7s, 35279 effective words/s\n"
     ]
    },
    {
     "name": "stderr",
     "output_type": "stream",
     "text": [
      "INFO - 23:09:33: EPOCH 9 - PROGRESS: at 23.75% examples, 46987 words/s, in_qsize 1, out_qsize 0\n",
      "INFO - 23:09:34: EPOCH 9 - PROGRESS: at 47.87% examples, 44274 words/s, in_qsize 0, out_qsize 0\n",
      "INFO - 23:09:35: EPOCH 9 - PROGRESS: at 69.05% examples, 43564 words/s, in_qsize 0, out_qsize 0\n",
      "INFO - 23:09:36: EPOCH 9 - PROGRESS: at 90.02% examples, 42928 words/s, in_qsize 0, out_qsize 0\n",
      "INFO - 23:09:36: worker thread finished; awaiting finish of 6 more threads\n",
      "INFO - 23:09:36: worker thread finished; awaiting finish of 5 more threads\n",
      "INFO - 23:09:36: worker thread finished; awaiting finish of 4 more threads\n",
      "INFO - 23:09:36: worker thread finished; awaiting finish of 3 more threads\n",
      "INFO - 23:09:36: worker thread finished; awaiting finish of 2 more threads\n",
      "INFO - 23:09:36: worker thread finished; awaiting finish of 1 more threads\n",
      "INFO - 23:09:36: worker thread finished; awaiting finish of 0 more threads\n",
      "INFO - 23:09:36: EPOCH - 9 : training on 523700 raw words (199218 effective words) took 4.6s, 43567 effective words/s\n",
      "INFO - 23:09:37: EPOCH 10 - PROGRESS: at 18.46% examples, 35894 words/s, in_qsize 0, out_qsize 0\n",
      "INFO - 23:09:40: EPOCH 10 - PROGRESS: at 20.13% examples, 12491 words/s, in_qsize 0, out_qsize 0\n",
      "INFO - 23:09:41: EPOCH 10 - PROGRESS: at 29.42% examples, 13888 words/s, in_qsize 0, out_qsize 0\n",
      "INFO - 23:09:42: EPOCH 10 - PROGRESS: at 45.81% examples, 16700 words/s, in_qsize 0, out_qsize 1\n",
      "INFO - 23:09:43: EPOCH 10 - PROGRESS: at 67.17% examples, 20649 words/s, in_qsize 0, out_qsize 0\n",
      "INFO - 23:09:44: EPOCH 10 - PROGRESS: at 93.81% examples, 24897 words/s, in_qsize 0, out_qsize 0\n",
      "INFO - 23:09:44: worker thread finished; awaiting finish of 6 more threads\n",
      "INFO - 23:09:44: worker thread finished; awaiting finish of 5 more threads\n",
      "INFO - 23:09:44: worker thread finished; awaiting finish of 4 more threads\n",
      "INFO - 23:09:44: worker thread finished; awaiting finish of 3 more threads\n",
      "INFO - 23:09:44: worker thread finished; awaiting finish of 2 more threads\n",
      "INFO - 23:09:44: worker thread finished; awaiting finish of 1 more threads\n",
      "INFO - 23:09:44: worker thread finished; awaiting finish of 0 more threads\n",
      "INFO - 23:09:44: EPOCH - 10 : training on 523700 raw words (198688 effective words) took 7.6s, 26012 effective words/s\n",
      "INFO - 23:09:45: EPOCH 11 - PROGRESS: at 21.90% examples, 43089 words/s, in_qsize 0, out_qsize 0\n",
      "INFO - 23:09:46: EPOCH 11 - PROGRESS: at 43.67% examples, 41924 words/s, in_qsize 0, out_qsize 0\n",
      "INFO - 23:09:48: EPOCH 11 - PROGRESS: at 55.67% examples, 26286 words/s, in_qsize 0, out_qsize 0\n",
      "INFO - 23:09:49: EPOCH 11 - PROGRESS: at 67.17% examples, 25563 words/s, in_qsize 0, out_qsize 0\n",
      "INFO - 23:09:50: EPOCH 11 - PROGRESS: at 78.53% examples, 24599 words/s, in_qsize 0, out_qsize 0\n",
      "INFO - 23:09:52: EPOCH 11 - PROGRESS: at 91.98% examples, 24364 words/s, in_qsize 0, out_qsize 0\n",
      "INFO - 23:09:52: worker thread finished; awaiting finish of 6 more threads\n",
      "INFO - 23:09:52: worker thread finished; awaiting finish of 5 more threads\n",
      "INFO - 23:09:52: worker thread finished; awaiting finish of 4 more threads\n",
      "INFO - 23:09:52: worker thread finished; awaiting finish of 3 more threads\n",
      "INFO - 23:09:52: worker thread finished; awaiting finish of 2 more threads\n",
      "INFO - 23:09:52: worker thread finished; awaiting finish of 1 more threads\n",
      "INFO - 23:09:52: worker thread finished; awaiting finish of 0 more threads\n",
      "INFO - 23:09:52: EPOCH - 11 : training on 523700 raw words (198920 effective words) took 8.1s, 24511 effective words/s\n",
      "INFO - 23:09:53: EPOCH 12 - PROGRESS: at 14.84% examples, 28099 words/s, in_qsize 1, out_qsize 0\n",
      "INFO - 23:09:54: EPOCH 12 - PROGRESS: at 35.34% examples, 33376 words/s, in_qsize 0, out_qsize 0\n",
      "INFO - 23:09:55: EPOCH 12 - PROGRESS: at 53.70% examples, 32607 words/s, in_qsize 0, out_qsize 0\n",
      "INFO - 23:09:57: EPOCH 12 - PROGRESS: at 67.17% examples, 31003 words/s, in_qsize 1, out_qsize 0\n",
      "INFO - 23:09:58: EPOCH 12 - PROGRESS: at 80.39% examples, 29616 words/s, in_qsize 0, out_qsize 0\n",
      "INFO - 23:10:01: EPOCH 12 - PROGRESS: at 91.98% examples, 21380 words/s, in_qsize 0, out_qsize 0\n",
      "INFO - 23:10:01: worker thread finished; awaiting finish of 6 more threads\n",
      "INFO - 23:10:01: worker thread finished; awaiting finish of 5 more threads\n",
      "INFO - 23:10:01: worker thread finished; awaiting finish of 4 more threads\n",
      "INFO - 23:10:01: worker thread finished; awaiting finish of 3 more threads\n",
      "INFO - 23:10:01: worker thread finished; awaiting finish of 2 more threads\n",
      "INFO - 23:10:01: worker thread finished; awaiting finish of 1 more threads\n",
      "INFO - 23:10:01: worker thread finished; awaiting finish of 0 more threads\n",
      "INFO - 23:10:01: EPOCH - 12 : training on 523700 raw words (198681 effective words) took 8.9s, 22402 effective words/s\n",
      "INFO - 23:10:02: EPOCH 13 - PROGRESS: at 13.09% examples, 24914 words/s, in_qsize 0, out_qsize 0\n",
      "INFO - 23:10:03: EPOCH 13 - PROGRESS: at 35.34% examples, 34523 words/s, in_qsize 0, out_qsize 0\n",
      "INFO - 23:10:04: EPOCH 13 - PROGRESS: at 59.44% examples, 37061 words/s, in_qsize 0, out_qsize 0\n",
      "INFO - 23:10:05: EPOCH 13 - PROGRESS: at 84.20% examples, 40078 words/s, in_qsize 0, out_qsize 0\n",
      "INFO - 23:10:06: worker thread finished; awaiting finish of 6 more threads\n",
      "INFO - 23:10:06: worker thread finished; awaiting finish of 5 more threads\n",
      "INFO - 23:10:06: worker thread finished; awaiting finish of 4 more threads\n",
      "INFO - 23:10:06: worker thread finished; awaiting finish of 3 more threads\n",
      "INFO - 23:10:06: worker thread finished; awaiting finish of 2 more threads\n",
      "INFO - 23:10:06: worker thread finished; awaiting finish of 1 more threads\n",
      "INFO - 23:10:06: worker thread finished; awaiting finish of 0 more threads\n",
      "INFO - 23:10:06: EPOCH - 13 : training on 523700 raw words (199364 effective words) took 5.0s, 39905 effective words/s\n",
      "INFO - 23:10:07: EPOCH 14 - PROGRESS: at 14.84% examples, 28122 words/s, in_qsize 0, out_qsize 0\n",
      "INFO - 23:10:10: EPOCH 14 - PROGRESS: at 23.75% examples, 13563 words/s, in_qsize 0, out_qsize 0\n",
      "INFO - 23:10:11: EPOCH 14 - PROGRESS: at 41.53% examples, 17927 words/s, in_qsize 0, out_qsize 0\n",
      "INFO - 23:10:12: EPOCH 14 - PROGRESS: at 57.54% examples, 19701 words/s, in_qsize 1, out_qsize 0\n",
      "INFO - 23:10:13: EPOCH 14 - PROGRESS: at 74.71% examples, 21700 words/s, in_qsize 0, out_qsize 0\n",
      "INFO - 23:10:14: EPOCH 14 - PROGRESS: at 91.98% examples, 23317 words/s, in_qsize 0, out_qsize 0\n",
      "INFO - 23:10:14: worker thread finished; awaiting finish of 6 more threads\n",
      "INFO - 23:10:14: worker thread finished; awaiting finish of 5 more threads\n",
      "INFO - 23:10:14: worker thread finished; awaiting finish of 4 more threads\n",
      "INFO - 23:10:14: worker thread finished; awaiting finish of 3 more threads\n",
      "INFO - 23:10:15: worker thread finished; awaiting finish of 2 more threads\n",
      "INFO - 23:10:15: worker thread finished; awaiting finish of 1 more threads\n",
      "INFO - 23:10:15: worker thread finished; awaiting finish of 0 more threads\n",
      "INFO - 23:10:15: EPOCH - 14 : training on 523700 raw words (199584 effective words) took 8.3s, 23962 effective words/s\n",
      "INFO - 23:10:16: EPOCH 15 - PROGRESS: at 20.13% examples, 40445 words/s, in_qsize 0, out_qsize 0\n",
      "INFO - 23:10:17: EPOCH 15 - PROGRESS: at 47.87% examples, 45595 words/s, in_qsize 0, out_qsize 0\n",
      "INFO - 23:10:18: EPOCH 15 - PROGRESS: at 55.67% examples, 31260 words/s, in_qsize 0, out_qsize 0\n",
      "INFO - 23:10:19: EPOCH 15 - PROGRESS: at 78.53% examples, 33888 words/s, in_qsize 0, out_qsize 0\n",
      "INFO - 23:10:20: EPOCH 15 - PROGRESS: at 91.98% examples, 31782 words/s, in_qsize 0, out_qsize 0\n",
      "INFO - 23:10:21: worker thread finished; awaiting finish of 6 more threads\n",
      "INFO - 23:10:21: worker thread finished; awaiting finish of 5 more threads\n",
      "INFO - 23:10:21: worker thread finished; awaiting finish of 4 more threads\n",
      "INFO - 23:10:21: worker thread finished; awaiting finish of 3 more threads\n",
      "INFO - 23:10:21: worker thread finished; awaiting finish of 2 more threads\n",
      "INFO - 23:10:21: worker thread finished; awaiting finish of 1 more threads\n",
      "INFO - 23:10:21: worker thread finished; awaiting finish of 0 more threads\n",
      "INFO - 23:10:21: EPOCH - 15 : training on 523700 raw words (199315 effective words) took 6.4s, 31067 effective words/s\n",
      "INFO - 23:10:22: EPOCH 16 - PROGRESS: at 16.67% examples, 30657 words/s, in_qsize 1, out_qsize 0\n",
      "INFO - 23:10:23: EPOCH 16 - PROGRESS: at 33.37% examples, 31731 words/s, in_qsize 0, out_qsize 0\n"
     ]
    },
    {
     "name": "stderr",
     "output_type": "stream",
     "text": [
      "INFO - 23:10:24: EPOCH 16 - PROGRESS: at 49.85% examples, 30224 words/s, in_qsize 0, out_qsize 0\n",
      "INFO - 23:10:25: EPOCH 16 - PROGRESS: at 65.21% examples, 29851 words/s, in_qsize 0, out_qsize 0\n",
      "INFO - 23:10:27: EPOCH 16 - PROGRESS: at 80.39% examples, 29099 words/s, in_qsize 1, out_qsize 0\n",
      "INFO - 23:10:29: EPOCH 16 - PROGRESS: at 86.13% examples, 20695 words/s, in_qsize 0, out_qsize 0\n",
      "INFO - 23:10:30: worker thread finished; awaiting finish of 6 more threads\n",
      "INFO - 23:10:30: worker thread finished; awaiting finish of 5 more threads\n",
      "INFO - 23:10:30: worker thread finished; awaiting finish of 4 more threads\n",
      "INFO - 23:10:30: worker thread finished; awaiting finish of 3 more threads\n",
      "INFO - 23:10:30: worker thread finished; awaiting finish of 2 more threads\n",
      "INFO - 23:10:30: worker thread finished; awaiting finish of 1 more threads\n",
      "INFO - 23:10:30: worker thread finished; awaiting finish of 0 more threads\n",
      "INFO - 23:10:30: EPOCH - 16 : training on 523700 raw words (199542 effective words) took 9.2s, 21591 effective words/s\n",
      "INFO - 23:10:32: EPOCH 17 - PROGRESS: at 14.84% examples, 26736 words/s, in_qsize 0, out_qsize 0\n",
      "INFO - 23:10:33: EPOCH 17 - PROGRESS: at 31.39% examples, 29062 words/s, in_qsize 0, out_qsize 0\n",
      "INFO - 23:10:34: EPOCH 17 - PROGRESS: at 53.70% examples, 32575 words/s, in_qsize 0, out_qsize 0\n",
      "INFO - 23:10:35: EPOCH 17 - PROGRESS: at 74.71% examples, 34548 words/s, in_qsize 1, out_qsize 0\n",
      "INFO - 23:10:36: EPOCH 17 - PROGRESS: at 95.68% examples, 35858 words/s, in_qsize 1, out_qsize 0\n",
      "INFO - 23:10:36: worker thread finished; awaiting finish of 6 more threads\n",
      "INFO - 23:10:36: worker thread finished; awaiting finish of 5 more threads\n",
      "INFO - 23:10:36: worker thread finished; awaiting finish of 4 more threads\n",
      "INFO - 23:10:36: worker thread finished; awaiting finish of 3 more threads\n",
      "INFO - 23:10:36: worker thread finished; awaiting finish of 2 more threads\n",
      "INFO - 23:10:36: worker thread finished; awaiting finish of 1 more threads\n",
      "INFO - 23:10:36: worker thread finished; awaiting finish of 0 more threads\n",
      "INFO - 23:10:36: EPOCH - 17 : training on 523700 raw words (199194 effective words) took 5.5s, 36196 effective words/s\n",
      "INFO - 23:10:39: EPOCH 18 - PROGRESS: at 20.13% examples, 13603 words/s, in_qsize 0, out_qsize 0\n",
      "INFO - 23:10:40: EPOCH 18 - PROGRESS: at 47.87% examples, 23030 words/s, in_qsize 0, out_qsize 0\n",
      "INFO - 23:10:41: EPOCH 18 - PROGRESS: at 69.05% examples, 26529 words/s, in_qsize 1, out_qsize 0\n",
      "INFO - 23:10:42: EPOCH 18 - PROGRESS: at 95.68% examples, 30820 words/s, in_qsize 0, out_qsize 0\n",
      "INFO - 23:10:42: worker thread finished; awaiting finish of 6 more threads\n",
      "INFO - 23:10:42: worker thread finished; awaiting finish of 5 more threads\n",
      "INFO - 23:10:42: worker thread finished; awaiting finish of 4 more threads\n",
      "INFO - 23:10:42: worker thread finished; awaiting finish of 3 more threads\n",
      "INFO - 23:10:42: worker thread finished; awaiting finish of 2 more threads\n",
      "INFO - 23:10:42: worker thread finished; awaiting finish of 1 more threads\n",
      "INFO - 23:10:42: worker thread finished; awaiting finish of 0 more threads\n",
      "INFO - 23:10:42: EPOCH - 18 : training on 523700 raw words (198837 effective words) took 6.3s, 31772 effective words/s\n",
      "INFO - 23:10:43: EPOCH 19 - PROGRESS: at 16.67% examples, 30531 words/s, in_qsize 2, out_qsize 0\n",
      "INFO - 23:10:44: EPOCH 19 - PROGRESS: at 41.53% examples, 37705 words/s, in_qsize 4, out_qsize 0\n",
      "INFO - 23:10:46: EPOCH 19 - PROGRESS: at 61.40% examples, 36417 words/s, in_qsize 10, out_qsize 0\n",
      "INFO - 23:10:46: worker thread finished; awaiting finish of 6 more threads\n",
      "INFO - 23:10:46: worker thread finished; awaiting finish of 5 more threads\n",
      "INFO - 23:10:46: worker thread finished; awaiting finish of 4 more threads\n",
      "INFO - 23:10:46: worker thread finished; awaiting finish of 3 more threads\n",
      "INFO - 23:10:46: worker thread finished; awaiting finish of 2 more threads\n",
      "INFO - 23:10:46: worker thread finished; awaiting finish of 1 more threads\n",
      "INFO - 23:10:46: worker thread finished; awaiting finish of 0 more threads\n",
      "INFO - 23:10:46: EPOCH - 19 : training on 523700 raw words (199559 effective words) took 3.9s, 50543 effective words/s\n",
      "INFO - 23:10:47: EPOCH 20 - PROGRESS: at 20.13% examples, 38673 words/s, in_qsize 1, out_qsize 0\n",
      "INFO - 23:10:48: EPOCH 20 - PROGRESS: at 39.38% examples, 37940 words/s, in_qsize 0, out_qsize 0\n",
      "INFO - 23:10:49: EPOCH 20 - PROGRESS: at 61.40% examples, 38543 words/s, in_qsize 0, out_qsize 0\n",
      "INFO - 23:10:50: EPOCH 20 - PROGRESS: at 82.28% examples, 38623 words/s, in_qsize 0, out_qsize 0\n",
      "INFO - 23:10:51: EPOCH 20 - PROGRESS: at 97.45% examples, 36877 words/s, in_qsize 0, out_qsize 0\n",
      "INFO - 23:10:52: worker thread finished; awaiting finish of 6 more threads\n",
      "INFO - 23:10:52: worker thread finished; awaiting finish of 5 more threads\n",
      "INFO - 23:10:52: worker thread finished; awaiting finish of 4 more threads\n",
      "INFO - 23:10:52: worker thread finished; awaiting finish of 3 more threads\n",
      "INFO - 23:10:52: worker thread finished; awaiting finish of 2 more threads\n",
      "INFO - 23:10:52: worker thread finished; awaiting finish of 1 more threads\n",
      "INFO - 23:10:52: worker thread finished; awaiting finish of 0 more threads\n",
      "INFO - 23:10:52: EPOCH - 20 : training on 523700 raw words (199265 effective words) took 5.4s, 37141 effective words/s\n",
      "INFO - 23:10:53: EPOCH 21 - PROGRESS: at 18.46% examples, 36783 words/s, in_qsize 0, out_qsize 0\n",
      "INFO - 23:10:54: EPOCH 21 - PROGRESS: at 35.34% examples, 34229 words/s, in_qsize 0, out_qsize 0\n",
      "INFO - 23:10:55: EPOCH 21 - PROGRESS: at 53.70% examples, 32610 words/s, in_qsize 0, out_qsize 0\n",
      "INFO - 23:10:56: EPOCH 21 - PROGRESS: at 65.21% examples, 29802 words/s, in_qsize 0, out_qsize 0\n",
      "INFO - 23:10:57: EPOCH 21 - PROGRESS: at 76.60% examples, 28449 words/s, in_qsize 0, out_qsize 0\n",
      "INFO - 23:10:58: EPOCH 21 - PROGRESS: at 90.02% examples, 27560 words/s, in_qsize 0, out_qsize 0\n",
      "INFO - 23:10:59: worker thread finished; awaiting finish of 6 more threads\n",
      "INFO - 23:10:59: worker thread finished; awaiting finish of 5 more threads\n",
      "INFO - 23:10:59: worker thread finished; awaiting finish of 4 more threads\n",
      "INFO - 23:10:59: worker thread finished; awaiting finish of 3 more threads\n",
      "INFO - 23:10:59: worker thread finished; awaiting finish of 2 more threads\n",
      "INFO - 23:10:59: worker thread finished; awaiting finish of 1 more threads\n",
      "INFO - 23:10:59: worker thread finished; awaiting finish of 0 more threads\n",
      "INFO - 23:10:59: EPOCH - 21 : training on 523700 raw words (199118 effective words) took 7.1s, 27860 effective words/s\n",
      "INFO - 23:11:00: EPOCH 22 - PROGRESS: at 13.09% examples, 22714 words/s, in_qsize 0, out_qsize 0\n",
      "INFO - 23:11:17: EPOCH 22 - PROGRESS: at 14.84% examples, 1660 words/s, in_qsize 0, out_qsize 0\n",
      "INFO - 23:11:18: EPOCH 22 - PROGRESS: at 23.75% examples, 2547 words/s, in_qsize 0, out_qsize 0\n",
      "INFO - 23:11:19: EPOCH 22 - PROGRESS: at 35.34% examples, 3479 words/s, in_qsize 0, out_qsize 0\n",
      "INFO - 23:11:21: EPOCH 22 - PROGRESS: at 45.81% examples, 4174 words/s, in_qsize 0, out_qsize 0\n",
      "INFO - 23:11:22: EPOCH 22 - PROGRESS: at 57.54% examples, 4946 words/s, in_qsize 0, out_qsize 0\n",
      "INFO - 23:11:23: EPOCH 22 - PROGRESS: at 67.17% examples, 5419 words/s, in_qsize 0, out_qsize 0\n",
      "INFO - 23:11:24: EPOCH 22 - PROGRESS: at 78.53% examples, 6083 words/s, in_qsize 0, out_qsize 0\n",
      "INFO - 23:11:25: EPOCH 22 - PROGRESS: at 90.02% examples, 6701 words/s, in_qsize 0, out_qsize 0\n",
      "INFO - 23:11:26: worker thread finished; awaiting finish of 6 more threads\n",
      "INFO - 23:11:26: worker thread finished; awaiting finish of 5 more threads\n",
      "INFO - 23:11:26: worker thread finished; awaiting finish of 4 more threads\n",
      "INFO - 23:11:26: worker thread finished; awaiting finish of 3 more threads\n",
      "INFO - 23:11:26: worker thread finished; awaiting finish of 2 more threads\n",
      "INFO - 23:11:26: worker thread finished; awaiting finish of 1 more threads\n",
      "INFO - 23:11:26: worker thread finished; awaiting finish of 0 more threads\n",
      "INFO - 23:11:26: EPOCH - 22 : training on 523700 raw words (198819 effective words) took 27.6s, 7209 effective words/s\n",
      "INFO - 23:11:28: EPOCH 23 - PROGRESS: at 11.31% examples, 21475 words/s, in_qsize 1, out_qsize 0\n",
      "INFO - 23:11:29: EPOCH 23 - PROGRESS: at 23.75% examples, 22033 words/s, in_qsize 0, out_qsize 0\n",
      "INFO - 23:11:30: EPOCH 23 - PROGRESS: at 35.34% examples, 21945 words/s, in_qsize 0, out_qsize 0\n"
     ]
    },
    {
     "name": "stderr",
     "output_type": "stream",
     "text": [
      "INFO - 23:11:36: EPOCH 23 - PROGRESS: at 45.81% examples, 10061 words/s, in_qsize 0, out_qsize 0\n",
      "INFO - 23:11:37: EPOCH 23 - PROGRESS: at 57.54% examples, 11212 words/s, in_qsize 0, out_qsize 0\n",
      "INFO - 23:11:38: EPOCH 23 - PROGRESS: at 69.05% examples, 12226 words/s, in_qsize 0, out_qsize 0\n",
      "INFO - 23:11:39: EPOCH 23 - PROGRESS: at 80.39% examples, 12935 words/s, in_qsize 0, out_qsize 0\n",
      "INFO - 23:11:40: EPOCH 23 - PROGRESS: at 93.81% examples, 13971 words/s, in_qsize 0, out_qsize 0\n",
      "INFO - 23:11:40: worker thread finished; awaiting finish of 6 more threads\n",
      "INFO - 23:11:40: worker thread finished; awaiting finish of 5 more threads\n",
      "INFO - 23:11:40: worker thread finished; awaiting finish of 4 more threads\n",
      "INFO - 23:11:40: worker thread finished; awaiting finish of 3 more threads\n",
      "INFO - 23:11:40: worker thread finished; awaiting finish of 2 more threads\n",
      "INFO - 23:11:40: worker thread finished; awaiting finish of 1 more threads\n",
      "INFO - 23:11:40: worker thread finished; awaiting finish of 0 more threads\n",
      "INFO - 23:11:40: EPOCH - 23 : training on 523700 raw words (198947 effective words) took 13.7s, 14503 effective words/s\n",
      "INFO - 23:11:41: EPOCH 24 - PROGRESS: at 13.09% examples, 24906 words/s, in_qsize 0, out_qsize 0\n",
      "INFO - 23:11:42: EPOCH 24 - PROGRESS: at 35.34% examples, 34609 words/s, in_qsize 0, out_qsize 0\n",
      "INFO - 23:11:43: EPOCH 24 - PROGRESS: at 59.44% examples, 37365 words/s, in_qsize 0, out_qsize 0\n",
      "INFO - 23:11:46: EPOCH 24 - PROGRESS: at 72.83% examples, 27472 words/s, in_qsize 1, out_qsize 0\n",
      "INFO - 23:11:47: worker thread finished; awaiting finish of 6 more threads\n",
      "INFO - 23:11:47: worker thread finished; awaiting finish of 5 more threads\n",
      "INFO - 23:11:47: worker thread finished; awaiting finish of 4 more threads\n",
      "INFO - 23:11:47: worker thread finished; awaiting finish of 3 more threads\n",
      "INFO - 23:11:47: worker thread finished; awaiting finish of 2 more threads\n",
      "INFO - 23:11:47: worker thread finished; awaiting finish of 1 more threads\n",
      "INFO - 23:11:47: EPOCH 24 - PROGRESS: at 100.00% examples, 31743 words/s, in_qsize 0, out_qsize 1\n",
      "INFO - 23:11:47: worker thread finished; awaiting finish of 0 more threads\n",
      "INFO - 23:11:47: EPOCH - 24 : training on 523700 raw words (199047 effective words) took 6.3s, 31725 effective words/s\n",
      "INFO - 23:11:48: EPOCH 25 - PROGRESS: at 23.75% examples, 48203 words/s, in_qsize 1, out_qsize 0\n",
      "INFO - 23:11:49: EPOCH 25 - PROGRESS: at 51.79% examples, 50410 words/s, in_qsize 0, out_qsize 0\n",
      "INFO - 23:11:50: EPOCH 25 - PROGRESS: at 80.39% examples, 52006 words/s, in_qsize 0, out_qsize 0\n",
      "INFO - 23:11:50: worker thread finished; awaiting finish of 6 more threads\n",
      "INFO - 23:11:50: worker thread finished; awaiting finish of 5 more threads\n",
      "INFO - 23:11:50: worker thread finished; awaiting finish of 4 more threads\n",
      "INFO - 23:11:50: worker thread finished; awaiting finish of 3 more threads\n",
      "INFO - 23:11:50: worker thread finished; awaiting finish of 2 more threads\n",
      "INFO - 23:11:50: worker thread finished; awaiting finish of 1 more threads\n",
      "INFO - 23:11:50: worker thread finished; awaiting finish of 0 more threads\n",
      "INFO - 23:11:50: EPOCH - 25 : training on 523700 raw words (199199 effective words) took 3.8s, 52040 effective words/s\n",
      "INFO - 23:11:52: EPOCH 26 - PROGRESS: at 23.75% examples, 47377 words/s, in_qsize 0, out_qsize 0\n",
      "INFO - 23:11:53: EPOCH 26 - PROGRESS: at 47.87% examples, 46009 words/s, in_qsize 0, out_qsize 0\n",
      "INFO - 23:11:54: EPOCH 26 - PROGRESS: at 80.39% examples, 51730 words/s, in_qsize 0, out_qsize 0\n",
      "INFO - 23:11:54: worker thread finished; awaiting finish of 6 more threads\n",
      "INFO - 23:11:54: worker thread finished; awaiting finish of 5 more threads\n",
      "INFO - 23:11:54: worker thread finished; awaiting finish of 4 more threads\n",
      "INFO - 23:11:54: worker thread finished; awaiting finish of 3 more threads\n",
      "INFO - 23:11:54: worker thread finished; awaiting finish of 2 more threads\n",
      "INFO - 23:11:54: worker thread finished; awaiting finish of 1 more threads\n",
      "INFO - 23:11:54: worker thread finished; awaiting finish of 0 more threads\n",
      "INFO - 23:11:54: EPOCH - 26 : training on 523700 raw words (199219 effective words) took 4.0s, 50295 effective words/s\n",
      "INFO - 23:11:56: EPOCH 27 - PROGRESS: at 21.90% examples, 43826 words/s, in_qsize 0, out_qsize 0\n",
      "INFO - 23:11:57: EPOCH 27 - PROGRESS: at 43.67% examples, 38786 words/s, in_qsize 0, out_qsize 0\n",
      "INFO - 23:11:58: EPOCH 27 - PROGRESS: at 72.83% examples, 42795 words/s, in_qsize 0, out_qsize 1\n",
      "INFO - 23:11:59: worker thread finished; awaiting finish of 6 more threads\n",
      "INFO - 23:11:59: worker thread finished; awaiting finish of 5 more threads\n",
      "INFO - 23:11:59: worker thread finished; awaiting finish of 4 more threads\n",
      "INFO - 23:11:59: worker thread finished; awaiting finish of 3 more threads\n",
      "INFO - 23:11:59: worker thread finished; awaiting finish of 2 more threads\n",
      "INFO - 23:11:59: worker thread finished; awaiting finish of 1 more threads\n",
      "INFO - 23:11:59: worker thread finished; awaiting finish of 0 more threads\n",
      "INFO - 23:11:59: EPOCH - 27 : training on 523700 raw words (199116 effective words) took 4.2s, 47083 effective words/s\n",
      "INFO - 23:12:00: EPOCH 28 - PROGRESS: at 23.75% examples, 43175 words/s, in_qsize 0, out_qsize 0\n",
      "INFO - 23:12:01: EPOCH 28 - PROGRESS: at 39.38% examples, 36295 words/s, in_qsize 1, out_qsize 0\n",
      "INFO - 23:12:02: EPOCH 28 - PROGRESS: at 55.67% examples, 33493 words/s, in_qsize 0, out_qsize 0\n",
      "INFO - 23:12:03: EPOCH 28 - PROGRESS: at 76.60% examples, 35353 words/s, in_qsize 1, out_qsize 0\n",
      "INFO - 23:12:05: EPOCH 28 - PROGRESS: at 78.53% examples, 24910 words/s, in_qsize 0, out_qsize 0\n",
      "INFO - 23:12:06: EPOCH 28 - PROGRESS: at 90.02% examples, 24627 words/s, in_qsize 0, out_qsize 0\n",
      "INFO - 23:12:07: worker thread finished; awaiting finish of 6 more threads\n",
      "INFO - 23:12:07: worker thread finished; awaiting finish of 5 more threads\n",
      "INFO - 23:12:07: worker thread finished; awaiting finish of 4 more threads\n",
      "INFO - 23:12:07: worker thread finished; awaiting finish of 3 more threads\n",
      "INFO - 23:12:07: worker thread finished; awaiting finish of 2 more threads\n",
      "INFO - 23:12:07: worker thread finished; awaiting finish of 1 more threads\n",
      "INFO - 23:12:07: worker thread finished; awaiting finish of 0 more threads\n",
      "INFO - 23:12:07: EPOCH - 28 : training on 523700 raw words (198844 effective words) took 7.9s, 25026 effective words/s\n",
      "INFO - 23:12:08: EPOCH 29 - PROGRESS: at 11.31% examples, 20626 words/s, in_qsize 0, out_qsize 0\n",
      "INFO - 23:12:09: EPOCH 29 - PROGRESS: at 25.54% examples, 23784 words/s, in_qsize 0, out_qsize 0\n",
      "INFO - 23:12:10: EPOCH 29 - PROGRESS: at 37.40% examples, 23202 words/s, in_qsize 0, out_qsize 0\n",
      "INFO - 23:12:11: EPOCH 29 - PROGRESS: at 53.70% examples, 24325 words/s, in_qsize 0, out_qsize 0\n",
      "INFO - 23:12:12: EPOCH 29 - PROGRESS: at 65.21% examples, 23916 words/s, in_qsize 0, out_qsize 0\n",
      "INFO - 23:12:13: EPOCH 29 - PROGRESS: at 74.71% examples, 23090 words/s, in_qsize 0, out_qsize 0\n",
      "INFO - 23:12:14: EPOCH 29 - PROGRESS: at 88.11% examples, 23451 words/s, in_qsize 0, out_qsize 0\n",
      "INFO - 23:12:15: worker thread finished; awaiting finish of 6 more threads\n",
      "INFO - 23:12:15: worker thread finished; awaiting finish of 5 more threads\n",
      "INFO - 23:12:15: worker thread finished; awaiting finish of 4 more threads\n",
      "INFO - 23:12:15: worker thread finished; awaiting finish of 3 more threads\n",
      "INFO - 23:12:15: worker thread finished; awaiting finish of 2 more threads\n",
      "INFO - 23:12:15: EPOCH 29 - PROGRESS: at 98.12% examples, 22862 words/s, in_qsize 1, out_qsize 1\n",
      "INFO - 23:12:15: worker thread finished; awaiting finish of 1 more threads\n",
      "INFO - 23:12:15: worker thread finished; awaiting finish of 0 more threads\n",
      "INFO - 23:12:15: EPOCH - 29 : training on 523700 raw words (199474 effective words) took 8.6s, 23229 effective words/s\n",
      "INFO - 23:12:19: EPOCH 30 - PROGRESS: at 5.43% examples, 3672 words/s, in_qsize 0, out_qsize 0\n",
      "INFO - 23:12:20: EPOCH 30 - PROGRESS: at 35.34% examples, 17402 words/s, in_qsize 0, out_qsize 0\n",
      "INFO - 23:12:21: EPOCH 30 - PROGRESS: at 59.44% examples, 22423 words/s, in_qsize 0, out_qsize 1\n",
      "INFO - 23:12:22: EPOCH 30 - PROGRESS: at 84.20% examples, 26507 words/s, in_qsize 0, out_qsize 0\n",
      "INFO - 23:12:22: worker thread finished; awaiting finish of 6 more threads\n",
      "INFO - 23:12:22: worker thread finished; awaiting finish of 5 more threads\n"
     ]
    },
    {
     "name": "stderr",
     "output_type": "stream",
     "text": [
      "INFO - 23:12:22: worker thread finished; awaiting finish of 4 more threads\n",
      "INFO - 23:12:22: worker thread finished; awaiting finish of 3 more threads\n",
      "INFO - 23:12:22: worker thread finished; awaiting finish of 2 more threads\n",
      "INFO - 23:12:22: worker thread finished; awaiting finish of 1 more threads\n",
      "INFO - 23:12:22: worker thread finished; awaiting finish of 0 more threads\n",
      "INFO - 23:12:22: EPOCH - 30 : training on 523700 raw words (199190 effective words) took 7.0s, 28436 effective words/s\n",
      "INFO - 23:12:22: training on a 15711000 raw words (5974509 effective words) took 210.4s, 28400 effective words/s\n"
     ]
    },
    {
     "name": "stdout",
     "output_type": "stream",
     "text": [
      "Time to train the model: 3.51 mins\n"
     ]
    }
   ],
   "source": [
    "t = time()\n",
    "\n",
    "w2v_model.train(sentences, total_examples=w2v_model.corpus_count, epochs=30, report_delay=1)\n",
    "\n",
    "print('Time to train the model: {} mins'.format(round((time() - t) / 60, 2)))"
   ]
  },
  {
   "cell_type": "markdown",
   "metadata": {
    "_uuid": "48e12768512b82c2d5cf6a543e3a9f2515699a22"
   },
   "source": [
    "As we do not plan to train the model any further, we are calling init_sims(), which will make the model much more memory-efficient:"
   ]
  },
  {
   "cell_type": "code",
   "execution_count": 22,
   "metadata": {
    "_uuid": "34dd51c7f2f39d016b982ef81e4df576f6b31bcb"
   },
   "outputs": [
    {
     "name": "stderr",
     "output_type": "stream",
     "text": [
      "INFO - 23:12:23: precomputing L2-norms of word weight vectors\n"
     ]
    }
   ],
   "source": [
    "w2v_model.init_sims(replace=True)"
   ]
  },
  {
   "cell_type": "markdown",
   "metadata": {
    "_uuid": "a420d5a98eb860cff1f4bbac8cbe2054459b6200"
   },
   "source": [
    "# Exploring the model\n",
    "## Most similar to:\n",
    "\n",
    "Here, we will ask our model to find the word most similar to some of the most iconic characters of the Simpsons!"
   ]
  },
  {
   "cell_type": "markdown",
   "metadata": {
    "_uuid": "a8f3cfd8ac88978a4df31c90afa194bd6fa4f3f5"
   },
   "source": [
    "<img src=\"https://vignette.wikia.nocookie.net/simpsons/images/0/02/Homer_Simpson_2006.png/revision/latest?cb=20091207194310\" alt=\"drawing\" width=\"130\"/>\n",
    "\n",
    "Let's see what we get for the show's main character:"
   ]
  },
  {
   "cell_type": "code",
   "execution_count": 23,
   "metadata": {
    "_uuid": "339207a733a1ac42fe60e32a29f9e5d5ca0a9275"
   },
   "outputs": [
    {
     "data": {
      "text/plain": [
       "[('marge', 0.8157753348350525),\n",
       " ('sweetheart', 0.7605730891227722),\n",
       " ('hammock', 0.757431149482727),\n",
       " ('eliza', 0.7500876188278198),\n",
       " ('bongo', 0.7498899698257446),\n",
       " ('homie', 0.7482819557189941),\n",
       " ('straighten', 0.7459826469421387),\n",
       " ('happen', 0.7454730272293091),\n",
       " ('crummy', 0.7422494292259216),\n",
       " ('awww', 0.7383065223693848)]"
      ]
     },
     "execution_count": 23,
     "metadata": {},
     "output_type": "execute_result"
    }
   ],
   "source": [
    "w2v_model.wv.most_similar(positive=[\"homer\"])"
   ]
  },
  {
   "cell_type": "markdown",
   "metadata": {
    "_uuid": "3b6686e6fa956a98450259b063b4cf51019a6d0b"
   },
   "source": [
    "_A small precision here:_<br>\n",
    "The dataset is the Simpsons' lines of dialogue; therefore, when we look at the most similar words from \"homer\" we do **not** necessary get his family members, personality traits, or even his most quotable words. No, we get what other characters (as Homer does not often refers to himself at the 3rd person) said along with \"homer\", such as how he feels or looks (\"depressed\"), where he is (\"hammock\"), or with whom (\"marge\").\n",
    "\n",
    "Let's see what the bigram \"homer_simpson\" gives us by comparison:"
   ]
  },
  {
   "cell_type": "code",
   "execution_count": 24,
   "metadata": {
    "_uuid": "23e5149b19f18f4f2f456d4c72afc5c188bcfba4"
   },
   "outputs": [
    {
     "data": {
      "text/plain": [
       "[('congratulation', 0.8167460560798645),\n",
       " ('council', 0.8049775958061218),\n",
       " ('request', 0.7996824383735657),\n",
       " ('dedicate', 0.785405158996582),\n",
       " ('select', 0.7697843313217163),\n",
       " ('charles', 0.7661731243133545),\n",
       " ('pleased', 0.766069769859314),\n",
       " ('nuclear_plant', 0.765862762928009),\n",
       " ('easily', 0.7630844712257385),\n",
       " ('recent', 0.7627694010734558)]"
      ]
     },
     "execution_count": 24,
     "metadata": {},
     "output_type": "execute_result"
    }
   ],
   "source": [
    "w2v_model.wv.most_similar(positive=[\"homer_simpson\"])"
   ]
  },
  {
   "cell_type": "markdown",
   "metadata": {
    "_uuid": "0e3e121e022f2f659cf97bba42cecd3f3c9afb01"
   },
   "source": [
    "<img src=\"https://vignette.wikia.nocookie.net/simpsons/images/0/0b/Marge_Simpson.png/revision/latest?cb=20180626055729\" alt=\"drawing\" width=\"150\"/>\n",
    "\n",
    "What about Marge now?"
   ]
  },
  {
   "cell_type": "code",
   "execution_count": 25,
   "metadata": {
    "_uuid": "22595f98c675a9697243b7e826b2840e5fc3e5f5"
   },
   "outputs": [
    {
     "data": {
      "text/plain": [
       "[('homer', 0.8157752752304077),\n",
       " ('spoil', 0.7824549674987793),\n",
       " ('homie', 0.774373471736908),\n",
       " ('arrange', 0.772297739982605),\n",
       " ('brunch', 0.7697991132736206),\n",
       " ('loving', 0.7678346037864685),\n",
       " ('sweetheart', 0.7672615647315979),\n",
       " ('awww', 0.7597576975822449),\n",
       " ('vegas', 0.7574135661125183),\n",
       " ('manjula', 0.7561569809913635)]"
      ]
     },
     "execution_count": 25,
     "metadata": {},
     "output_type": "execute_result"
    }
   ],
   "source": [
    "w2v_model.wv.most_similar(positive=[\"marge\"])"
   ]
  },
  {
   "cell_type": "markdown",
   "metadata": {
    "_uuid": "2b4857ff1159695c72c22417cf52dc84e0dfc9ea"
   },
   "source": [
    "<img src=\"https://vignette.wikia.nocookie.net/simpsons/images/6/65/Bart_Simpson.png/revision/latest?cb=20180319061933\" alt=\"drawing\" width=\"100\"/>\n",
    "\n",
    "Let's check Bart now:"
   ]
  },
  {
   "cell_type": "code",
   "execution_count": 26,
   "metadata": {
    "_uuid": "ac9ba47738e596dce6552099e76f303f28577943"
   },
   "outputs": [
    {
     "data": {
      "text/plain": [
       "[('lisa', 0.877322256565094),\n",
       " ('mom', 0.8095089197158813),\n",
       " ('homework', 0.7978336811065674),\n",
       " ('upset', 0.7924963235855103),\n",
       " ('jealous', 0.7902423143386841),\n",
       " ('selfish', 0.7896707057952881),\n",
       " ('badly', 0.7811740636825562),\n",
       " ('janey', 0.7781528830528259),\n",
       " ('grownup', 0.7775136232376099),\n",
       " ('exploit', 0.7771778106689453)]"
      ]
     },
     "execution_count": 26,
     "metadata": {},
     "output_type": "execute_result"
    }
   ],
   "source": [
    "w2v_model.wv.most_similar(positive=[\"bart\"])"
   ]
  },
  {
   "cell_type": "markdown",
   "metadata": {
    "_uuid": "c9afcf59e71f797f8e4d6d4b4ce39e359b19a450"
   },
   "source": [
    "Looks like it is making sense!\n",
    "\n",
    "<img src=\"https://vignette.wikia.nocookie.net/simpsons/images/9/9d/Groundskeeper_Willie.png/revision/latest?cb=20130424154035\" alt=\"drawing\" width=\"150\"/>\n",
    "\n",
    "Willie the groundskeeper for the last one:"
   ]
  },
  {
   "cell_type": "markdown",
   "metadata": {
    "_uuid": "d8b5937dfd7584f168a33060c435036cad5b390b"
   },
   "source": [
    "## Similarities:\n",
    "Here, we will see how similar are two words to each other :"
   ]
  },
  {
   "cell_type": "code",
   "execution_count": 27,
   "metadata": {
    "_uuid": "367755f5c9e00de4bc5056c978f5b50a38c1368b"
   },
   "outputs": [
    {
     "data": {
      "text/plain": [
       "0.87574935"
      ]
     },
     "execution_count": 27,
     "metadata": {},
     "output_type": "execute_result"
    }
   ],
   "source": [
    "w2v_model.wv.similarity(\"moe\", 'tavern')"
   ]
  },
  {
   "cell_type": "markdown",
   "metadata": {
    "_uuid": "d31383aa2f6310a38ec671f2ca4b0fcb195551dd"
   },
   "source": [
    "Who could forget Moe's tavern? Not Barney.\n",
    "\n",
    "<img src=\"https://vignette.wikia.nocookie.net/simpsons/images/6/6c/MaggieSimpson.PNG/revision/latest?cb=20180314210204\" alt=\"drawing\" width=\"100\"/>"
   ]
  },
  {
   "cell_type": "code",
   "execution_count": 28,
   "metadata": {
    "_uuid": "349828078b5a438d93e5494478e88095913dc58e"
   },
   "outputs": [
    {
     "data": {
      "text/plain": [
       "0.7025332"
      ]
     },
     "execution_count": 28,
     "metadata": {},
     "output_type": "execute_result"
    }
   ],
   "source": [
    "w2v_model.wv.similarity('maggie', 'baby')"
   ]
  },
  {
   "cell_type": "markdown",
   "metadata": {
    "_uuid": "7d7842e5b5cab743db56ff120d75ad3974c429d8"
   },
   "source": [
    "Maggie is indeed the most renown baby in the Simpsons!"
   ]
  },
  {
   "cell_type": "code",
   "execution_count": 29,
   "metadata": {
    "_uuid": "9ee5e2532214b20fef0a597bc5ad355762fcc281"
   },
   "outputs": [
    {
     "data": {
      "text/plain": [
       "0.637649"
      ]
     },
     "execution_count": 29,
     "metadata": {},
     "output_type": "execute_result"
    }
   ],
   "source": [
    "w2v_model.wv.similarity('bart', 'nelson')"
   ]
  },
  {
   "cell_type": "markdown",
   "metadata": {
    "_uuid": "08a999d758ac687d626b631a8ce393eaa26f41e7"
   },
   "source": [
    "Bart and Nelson, though friends, are not that close, makes sense!\n",
    "\n",
    "## Odd-One-Out:\n",
    "\n",
    "Here, we ask our model to give us the word that does not belong to the list!\n",
    "\n",
    "Between Jimbo, Milhouse, and Kearney, who is the one who is not a bully?"
   ]
  },
  {
   "cell_type": "code",
   "execution_count": 30,
   "metadata": {
    "_uuid": "d982e44d9c212b5ee09bcaebd050a725ab5e508e"
   },
   "outputs": [
    {
     "name": "stderr",
     "output_type": "stream",
     "text": [
      "WARNING - 23:12:23: vectors for words {'kearney'} are not present in the model, ignoring these words\n",
      "C:\\Users\\mahendra.chouhan\\Anaconda3\\lib\\site-packages\\gensim\\models\\keyedvectors.py:877: FutureWarning: arrays to stack must be passed as a \"sequence\" type such as list or tuple. Support for non-sequence iterables such as generators is deprecated as of NumPy 1.16 and will raise an error in the future.\n",
      "  vectors = vstack(self.word_vec(word, use_norm=True) for word in used_words).astype(REAL)\n"
     ]
    },
    {
     "data": {
      "text/plain": [
       "'jimbo'"
      ]
     },
     "execution_count": 30,
     "metadata": {},
     "output_type": "execute_result"
    }
   ],
   "source": [
    "w2v_model.wv.doesnt_match(['jimbo', 'milhouse', 'kearney'])\n"
   ]
  },
  {
   "cell_type": "markdown",
   "metadata": {
    "_uuid": "12d3c035c89718e70c193f095b46e38dccef6b0d"
   },
   "source": [
    "Milhouse of course!\n",
    "<img src=\"https://vignette.wikia.nocookie.net/simpsons/images/9/91/Milhouse_Van_Houten_2.png/revision/latest?cb=20180429212659\" alt=\"drawing\" width=\"150\"/>\n",
    "\n",
    "What if we compared the friendship between Nelson, Bart, and Milhouse?"
   ]
  },
  {
   "cell_type": "code",
   "execution_count": 31,
   "metadata": {
    "_uuid": "cafd4a7bec6d6255ea3f5f06df951546c0d783a9"
   },
   "outputs": [
    {
     "data": {
      "text/plain": [
       "'nelson'"
      ]
     },
     "execution_count": 31,
     "metadata": {},
     "output_type": "execute_result"
    }
   ],
   "source": [
    "w2v_model.wv.doesnt_match([\"nelson\", \"bart\", \"milhouse\"])"
   ]
  },
  {
   "cell_type": "markdown",
   "metadata": {
    "_uuid": "01c0148dc758db74ed8078ca54e8393ada090c8c"
   },
   "source": [
    "Seems like Nelson is the odd one here!\n",
    "\n",
    "<img src=\"https://vignette.wikia.nocookie.net/simpsons/images/4/40/Picture0003.jpg/revision/latest?cb=20110623042517\" alt=\"drawing\" width=\"200\"/>\n",
    "\n",
    "Last but not least, how is the relationship between Homer and his two sister-in-laws?"
   ]
  },
  {
   "cell_type": "code",
   "execution_count": 32,
   "metadata": {
    "_uuid": "445912f7d89b3cb1550926be161d134e6689f54f"
   },
   "outputs": [
    {
     "data": {
      "text/plain": [
       "'homer'"
      ]
     },
     "execution_count": 32,
     "metadata": {},
     "output_type": "execute_result"
    }
   ],
   "source": [
    "w2v_model.wv.doesnt_match(['homer', 'patty', 'selma'])"
   ]
  },
  {
   "cell_type": "markdown",
   "metadata": {
    "_uuid": "df95cdff693e843ab4b4c174fea24029447573cd"
   },
   "source": [
    "Damn, they really do not like you Homer!\n",
    "\n",
    "## Analogy difference:\n",
    "Which word is to woman as homer is to marge?"
   ]
  },
  {
   "cell_type": "code",
   "execution_count": 33,
   "metadata": {
    "_uuid": "812961e79dde9f2032f708755ca287c0aef838d0"
   },
   "outputs": [
    {
     "data": {
      "text/plain": [
       "[('admire', 0.704132616519928),\n",
       " ('wealthy', 0.6840367913246155),\n",
       " ('foolish', 0.6655163764953613)]"
      ]
     },
     "execution_count": 33,
     "metadata": {},
     "output_type": "execute_result"
    }
   ],
   "source": [
    "w2v_model.wv.most_similar(positive=[\"woman\", \"homer\"], negative=[\"marge\"], topn=3)"
   ]
  },
  {
   "cell_type": "markdown",
   "metadata": {
    "_uuid": "5a4ff4a8c8c582c6d9c704a042e8cc5d18b7bd6c"
   },
   "source": [
    "\"man\" comes at the first position, that looks about right!\n",
    "\n",
    "Which word is to woman as bart is to man?"
   ]
  },
  {
   "cell_type": "code",
   "execution_count": 34,
   "metadata": {
    "_uuid": "4cfef57b94b635abb58a4ff191785506c78ec9d9"
   },
   "outputs": [
    {
     "data": {
      "text/plain": [
       "[('lisa', 0.7724104523658752),\n",
       " ('upset', 0.7189521789550781),\n",
       " ('mom', 0.6940728425979614)]"
      ]
     },
     "execution_count": 34,
     "metadata": {},
     "output_type": "execute_result"
    }
   ],
   "source": [
    "w2v_model.wv.most_similar(positive=[\"woman\", \"bart\"], negative=[\"man\"], topn=3)"
   ]
  },
  {
   "cell_type": "markdown",
   "metadata": {
    "_uuid": "ef520bd7dd974d14afcb8e69266579ac0b703714"
   },
   "source": [
    "Lisa is Bart's sister, her male counterpart!\n",
    "<img src=\"https://vignette.wikia.nocookie.net/simpsons/images/5/57/Lisa_Simpson2.png/revision/latest?cb=20180319000458\" alt=\"drawing\" width=\"100\"/>"
   ]
  },
  {
   "cell_type": "markdown",
   "metadata": {
    "_uuid": "773c0acc8750ba8e728ff261f2e9ec39694c245c"
   },
   "source": [
    "### t-SNE visualizations:\n",
    "t-SNE is a non-linear dimensionality reduction algorithm that attempts to represent high-dimensional data and the underlying relationships between vectors in a lower-dimensional space.<br>\n",
    "Here is a good tutorial on it: https://medium.com/@luckylwk/visualising-high-dimensional-datasets-using-pca-and-t-sne-in-python-8ef87e7915b"
   ]
  },
  {
   "cell_type": "code",
   "execution_count": 35,
   "metadata": {
    "_uuid": "27ec46110042fc28da900b1b344ae4e0692d5dc2"
   },
   "outputs": [],
   "source": [
    "import numpy as np\n",
    "import matplotlib.pyplot as plt\n",
    "%matplotlib inline\n",
    " \n",
    "import seaborn as sns\n",
    "sns.set_style(\"darkgrid\")\n",
    "\n",
    "from sklearn.decomposition import PCA\n",
    "from sklearn.manifold import TSNE"
   ]
  },
  {
   "cell_type": "markdown",
   "metadata": {
    "_uuid": "22693eaa25253b38cee3c5cd5db6b6fdddb575a4"
   },
   "source": [
    "Our goal in this section is to plot our 300 dimensions vectors into 2 dimensional graphs, and see if we can spot interesting patterns.<br>\n",
    "For that we are going to use t-SNE implementation from scikit-learn.\n",
    "\n",
    "To make the visualizations more relevant, we will look at the relationships between a query word (in <font color='red'>**red**</font>), its most similar words in the model (in <font color=\"blue\">**blue**</font>), and other words from the vocabulary (in <font color='green'>**green**</font>)."
   ]
  },
  {
   "cell_type": "code",
   "execution_count": 36,
   "metadata": {
    "_uuid": "489a7d160dcd92da0ce42a3b5b461368c9ffe5f1"
   },
   "outputs": [],
   "source": [
    "def tsnescatterplot(model, word, list_names):\n",
    "    \"\"\" Plot in seaborn the results from the t-SNE dimensionality reduction algorithm of the vectors of a query word,\n",
    "    its list of most similar words, and a list of words.\n",
    "    \"\"\"\n",
    "    arrays = np.empty((0, 300), dtype='f')\n",
    "    word_labels = [word]\n",
    "    color_list  = ['red']\n",
    "\n",
    "    # adds the vector of the query word\n",
    "    arrays = np.append(arrays, model.wv.__getitem__([word]), axis=0)\n",
    "    \n",
    "    # gets list of most similar words\n",
    "    close_words = model.wv.most_similar([word])\n",
    "    \n",
    "    # adds the vector for each of the closest words to the array\n",
    "    for wrd_score in close_words:\n",
    "        wrd_vector = model.wv.__getitem__([wrd_score[0]])\n",
    "        word_labels.append(wrd_score[0])\n",
    "        color_list.append('blue')\n",
    "        arrays = np.append(arrays, wrd_vector, axis=0)\n",
    "    \n",
    "    # adds the vector for each of the words from list_names to the array\n",
    "    for wrd in list_names:\n",
    "        wrd_vector = model.wv.__getitem__([wrd])\n",
    "        word_labels.append(wrd)\n",
    "        color_list.append('green')\n",
    "        arrays = np.append(arrays, wrd_vector, axis=0)\n",
    "        \n",
    "    # Reduces the dimensionality from 300 to 50 dimensions with PCA\n",
    "    reduc = PCA(n_components=19).fit_transform(arrays)\n",
    "    \n",
    "    # Finds t-SNE coordinates for 2 dimensions\n",
    "    np.set_printoptions(suppress=True)\n",
    "    \n",
    "    Y = TSNE(n_components=2, random_state=0, perplexity=15).fit_transform(reduc)\n",
    "    \n",
    "    # Sets everything up to plot\n",
    "    df = pd.DataFrame({'x': [x for x in Y[:, 0]],\n",
    "                       'y': [y for y in Y[:, 1]],\n",
    "                       'words': word_labels,\n",
    "                       'color': color_list})\n",
    "    \n",
    "    fig, _ = plt.subplots()\n",
    "    fig.set_size_inches(9, 9)\n",
    "    \n",
    "    # Basic plot\n",
    "    p1 = sns.regplot(data=df,\n",
    "                     x=\"x\",\n",
    "                     y=\"y\",\n",
    "                     fit_reg=False,\n",
    "                     marker=\"o\",\n",
    "                     scatter_kws={'s': 40,\n",
    "                                  'facecolors': df['color']\n",
    "                                 }\n",
    "                    )\n",
    "    \n",
    "    # Adds annotations one by one with a loop\n",
    "    for line in range(0, df.shape[0]):\n",
    "         p1.text(df[\"x\"][line],\n",
    "                 df['y'][line],\n",
    "                 '  ' + df[\"words\"][line].title(),\n",
    "                 horizontalalignment='left',\n",
    "                 verticalalignment='bottom', size='medium',\n",
    "                 color=df['color'][line],\n",
    "                 weight='normal'\n",
    "                ).set_size(15)\n",
    "\n",
    "    \n",
    "    plt.xlim(Y[:, 0].min()-50, Y[:, 0].max()+50)\n",
    "    plt.ylim(Y[:, 1].min()-50, Y[:, 1].max()+50)\n",
    "            \n",
    "    plt.title('t-SNE visualization for {}'.format(word.title()))\n",
    "    "
   ]
  },
  {
   "cell_type": "markdown",
   "metadata": {
    "_uuid": "3943c170a5f5f09974d90c89bdb9ec761e63a416"
   },
   "source": [
    "Code inspired by: [[2]](#References:)\n",
    "\n",
    "## 10 Most similar words vs. 8 Random words:\n",
    "Let's compare where the vector representation of Homer, his 10 most similar words from the model, as well as 8 random ones, lies in a 2D graph:"
   ]
  },
  {
   "cell_type": "markdown",
   "metadata": {
    "_uuid": "c73fc2faaf0baecc84f02a97b50cb9ccefa48686"
   },
   "source": [
    "Interestingly, the 10 most similar words to Homer ends up around him, so does Apu and (sideshow) Bob, two recurrent characters.\n",
    "\n",
    "## 10 Most similar words vs. 10 Most dissimilar\n",
    "\n",
    "This time, let's compare where the vector representation of Maggie and her 10 most similar words from the model lies compare to the vector representation of the 10 most dissimilar words to Maggie:"
   ]
  },
  {
   "cell_type": "code",
   "execution_count": null,
   "metadata": {
    "_uuid": "10c77b072f7c281f2be919341be116565c20d8a8"
   },
   "outputs": [],
   "source": [
    "tsnescatterplot(w2v_model, 'maggie', [i[0] for i in w2v_model.wv.most_similar(negative=[\"maggie\"])])"
   ]
  },
  {
   "cell_type": "markdown",
   "metadata": {
    "_uuid": "87315bfbaceb3733bd7af035db6c59cfc4b1ba7f"
   },
   "source": [
    "Neat! Maggie and her most similar words form a distinctive cluster from the most dissimilar words, it is a really encouraging plot!\n",
    "\n",
    "## 10 Most similar words vs. 11th to 20th Most similar words:\n",
    "\n",
    "Finally, we are going to plot the most similar words to Mr. Burns ranked 1st to 10th versus the ones ranked 11th to 20th:\n",
    "\n",
    "(PS: Mr. Burns became mr_burn after the preprocessing)"
   ]
  },
  {
   "cell_type": "code",
   "execution_count": null,
   "metadata": {
    "_uuid": "e6f0bc598922f4f2cd17d2511560242a3c35fdd9"
   },
   "outputs": [],
   "source": [
    "tsnescatterplot(w2v_model, \"mr_burn\", [t[0] for t in w2v_model.wv.most_similar(positive=[\"mr_burn\"], topn=20)][10:])"
   ]
  },
  {
   "cell_type": "markdown",
   "metadata": {
    "_uuid": "011aa35b717d985f1d9fb820208531222055ff7b"
   },
   "source": [
    "As we can see, and that is very nice, all the 20 words are forming one cluster around Mr. Burns.\n",
    "\n",
    "# Final Thoughts\n",
    "\n",
    "I hope you found this tutorial useful and had as much fun reading it as I had writing it. Please do not hesitate to leave any comments, questions or suggestions you might have. See you around!\n",
    "\n",
    "Also, please check [Supportiv](http://www.supportiv.com) around! (Simpson-ized logo)\n",
    "\n",
    "<img src=\"https://fontmeme.com/permalink/180904/cc3d27a8aaa88189e764ee9d02331d0d.png\" alt=\"drawing\" width=\"500\"/>\n",
    "\n",
    "\n",
    "# Materials for more in depths understanding:\n",
    "* Word Embeddings introduction: https://www.analyticsvidhya.com/blog/2017/06/word-embeddings-count-word2veec/\n",
    "* Word2Vec introduction: https://skymind.ai/wiki/word2vec\n",
    "* Another Word2Vec introduction: http://mccormickml.com/2016/04/19/word2vec-tutorial-the-skip-gram-model/\n",
    "* A great Gensim implentation tutorial: http://kavita-ganesan.com/gensim-word2vec-tutorial-starter-code/#.W467ScBjM2x\n",
    "* Original articles from Mikolov et al.: https://arxiv.org/abs/1301.3781 and https://arxiv.org/abs/1310.4546\n",
    "\n",
    "\n",
    "# Acknowledgements\n",
    "\n",
    "* [Pouria Mojabi](https://www.linkedin.com/in/pouria-mojabi-1873615/), co-fouder of Supportiv Inc.\n",
    "\n",
    "# References:\n",
    "* [1]. Neural Net picture: McCormick, C. (2016, April 19). Word2Vec Tutorial - The Skip-Gram Model. Retrieved from http://www.mccormickml.com\n",
    "* [2]. Aneesha Bakharia Medium article: https://medium.com/@aneesha/using-tsne-to-plot-a-subset-of-similar-words-from-word2vec-bb8eeaea6229\n",
    "\n",
    "# End"
   ]
  }
 ],
 "metadata": {
  "kernelspec": {
   "display_name": "Python 3",
   "language": "python",
   "name": "python3"
  },
  "language_info": {
   "codemirror_mode": {
    "name": "ipython",
    "version": 3
   },
   "file_extension": ".py",
   "mimetype": "text/x-python",
   "name": "python",
   "nbconvert_exporter": "python",
   "pygments_lexer": "ipython3",
   "version": "3.7.6"
  }
 },
 "nbformat": 4,
 "nbformat_minor": 1
}
