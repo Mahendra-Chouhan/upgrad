{
 "cells": [
  {
   "cell_type": "code",
   "execution_count": 1,
   "metadata": {
    "_cell_guid": "b1076dfc-b9ad-4769-8c92-a6c4dae69d19",
    "_kg_hide-input": true,
    "_uuid": "8f2839f25d086af736a60e9eeb907d3b93b6e0e5"
   },
   "outputs": [],
   "source": [
    "import numpy as np # linear algebra\n",
    "import pandas as pd # data processing, CSV file I/O (e.g. pd.read_csv)\n",
    "import gensim\n",
    "from sklearn.manifold import TSNE\n",
    "import matplotlib.pyplot as plt\n",
    "%matplotlib inline"
   ]
  },
  {
   "cell_type": "markdown",
   "metadata": {
    "_uuid": "4813dacf4c8943c95690579f33637d1bffda1aa1"
   },
   "source": [
    "# Simply about Word2Vec (Quora dataset)\n",
    "\n",
    "\n",
    "\n",
    "## Table of contents\n",
    "1. [Introduction](#introduction)\n",
    "2. [What is Word2Vec?](#word2vec)\n",
    "3. [Training of Word2Vec](#training)\n",
    "4. [Exploring the trained Word2Vec model](#exploring)\n",
    "5. [Playing with the trained Word2Vec model ](#playing)\n",
    "6. [When can we use Word2Vec?](#usage)\n",
    "\n",
    "\n",
    "\n",
    "## Introduction <a name=\"introduction\"></a>\n",
    "\n",
    "If you have never used Word2Vec, then this notebook is for you! Here I will apply Word2Vec to the questions asked in Quora. The goal of the notebook is to better understand how Word2Vec works. Basically I wanted to resolve my personal doubts regarding Word2Vec. I will be very glad if my small analysis would be useful for someone else."
   ]
  },
  {
   "cell_type": "code",
   "execution_count": 2,
   "metadata": {
    "_cell_guid": "79c7e3d0-c299-4dcb-8224-4455121ee9b0",
    "_uuid": "d629ff2d2480ee46fbb7e2d37f6b5fab8052498a"
   },
   "outputs": [
    {
     "data": {
      "text/html": [
       "<div>\n",
       "<style scoped>\n",
       "    .dataframe tbody tr th:only-of-type {\n",
       "        vertical-align: middle;\n",
       "    }\n",
       "\n",
       "    .dataframe tbody tr th {\n",
       "        vertical-align: top;\n",
       "    }\n",
       "\n",
       "    .dataframe thead th {\n",
       "        text-align: right;\n",
       "    }\n",
       "</style>\n",
       "<table border=\"1\" class=\"dataframe\">\n",
       "  <thead>\n",
       "    <tr style=\"text-align: right;\">\n",
       "      <th></th>\n",
       "      <th>id</th>\n",
       "      <th>qid1</th>\n",
       "      <th>qid2</th>\n",
       "      <th>question1</th>\n",
       "      <th>question2</th>\n",
       "      <th>is_duplicate</th>\n",
       "    </tr>\n",
       "  </thead>\n",
       "  <tbody>\n",
       "    <tr>\n",
       "      <th>0</th>\n",
       "      <td>0</td>\n",
       "      <td>1</td>\n",
       "      <td>2</td>\n",
       "      <td>What is the step by step guide to invest in sh...</td>\n",
       "      <td>What is the step by step guide to invest in sh...</td>\n",
       "      <td>0</td>\n",
       "    </tr>\n",
       "    <tr>\n",
       "      <th>1</th>\n",
       "      <td>1</td>\n",
       "      <td>3</td>\n",
       "      <td>4</td>\n",
       "      <td>What is the story of Kohinoor (Koh-i-Noor) Dia...</td>\n",
       "      <td>What would happen if the Indian government sto...</td>\n",
       "      <td>0</td>\n",
       "    </tr>\n",
       "    <tr>\n",
       "      <th>2</th>\n",
       "      <td>2</td>\n",
       "      <td>5</td>\n",
       "      <td>6</td>\n",
       "      <td>How can I increase the speed of my internet co...</td>\n",
       "      <td>How can Internet speed be increased by hacking...</td>\n",
       "      <td>0</td>\n",
       "    </tr>\n",
       "    <tr>\n",
       "      <th>3</th>\n",
       "      <td>3</td>\n",
       "      <td>7</td>\n",
       "      <td>8</td>\n",
       "      <td>Why am I mentally very lonely? How can I solve...</td>\n",
       "      <td>Find the remainder when [math]23^{24}[/math] i...</td>\n",
       "      <td>0</td>\n",
       "    </tr>\n",
       "    <tr>\n",
       "      <th>4</th>\n",
       "      <td>4</td>\n",
       "      <td>9</td>\n",
       "      <td>10</td>\n",
       "      <td>Which one dissolve in water quikly sugar, salt...</td>\n",
       "      <td>Which fish would survive in salt water?</td>\n",
       "      <td>0</td>\n",
       "    </tr>\n",
       "  </tbody>\n",
       "</table>\n",
       "</div>"
      ],
      "text/plain": [
       "   id  qid1  qid2                                          question1  \\\n",
       "0   0     1     2  What is the step by step guide to invest in sh...   \n",
       "1   1     3     4  What is the story of Kohinoor (Koh-i-Noor) Dia...   \n",
       "2   2     5     6  How can I increase the speed of my internet co...   \n",
       "3   3     7     8  Why am I mentally very lonely? How can I solve...   \n",
       "4   4     9    10  Which one dissolve in water quikly sugar, salt...   \n",
       "\n",
       "                                           question2  is_duplicate  \n",
       "0  What is the step by step guide to invest in sh...             0  \n",
       "1  What would happen if the Indian government sto...             0  \n",
       "2  How can Internet speed be increased by hacking...             0  \n",
       "3  Find the remainder when [math]23^{24}[/math] i...             0  \n",
       "4            Which fish would survive in salt water?             0  "
      ]
     },
     "execution_count": 2,
     "metadata": {},
     "output_type": "execute_result"
    }
   ],
   "source": [
    "df = pd.read_csv(\"data/train.csv\")\n",
    "df.head()"
   ]
  },
  {
   "cell_type": "code",
   "execution_count": 18,
   "metadata": {},
   "outputs": [
    {
     "data": {
      "text/html": [
       "<div>\n",
       "<style scoped>\n",
       "    .dataframe tbody tr th:only-of-type {\n",
       "        vertical-align: middle;\n",
       "    }\n",
       "\n",
       "    .dataframe tbody tr th {\n",
       "        vertical-align: top;\n",
       "    }\n",
       "\n",
       "    .dataframe thead th {\n",
       "        text-align: right;\n",
       "    }\n",
       "</style>\n",
       "<table border=\"1\" class=\"dataframe\">\n",
       "  <thead>\n",
       "    <tr style=\"text-align: right;\">\n",
       "      <th></th>\n",
       "      <th>id</th>\n",
       "      <th>qid1</th>\n",
       "      <th>qid2</th>\n",
       "      <th>question1</th>\n",
       "      <th>question2</th>\n",
       "      <th>is_duplicate</th>\n",
       "    </tr>\n",
       "  </thead>\n",
       "  <tbody>\n",
       "    <tr>\n",
       "      <th>5</th>\n",
       "      <td>5</td>\n",
       "      <td>11</td>\n",
       "      <td>12</td>\n",
       "      <td>Astrology: I am a Capricorn Sun Cap moon and c...</td>\n",
       "      <td>I'm a triple Capricorn (Sun, Moon and ascendan...</td>\n",
       "      <td>1</td>\n",
       "    </tr>\n",
       "    <tr>\n",
       "      <th>7</th>\n",
       "      <td>7</td>\n",
       "      <td>15</td>\n",
       "      <td>16</td>\n",
       "      <td>How can I be a good geologist?</td>\n",
       "      <td>What should I do to be a great geologist?</td>\n",
       "      <td>1</td>\n",
       "    </tr>\n",
       "    <tr>\n",
       "      <th>11</th>\n",
       "      <td>11</td>\n",
       "      <td>23</td>\n",
       "      <td>24</td>\n",
       "      <td>How do I read and find my YouTube comments?</td>\n",
       "      <td>How can I see all my Youtube comments?</td>\n",
       "      <td>1</td>\n",
       "    </tr>\n",
       "    <tr>\n",
       "      <th>12</th>\n",
       "      <td>12</td>\n",
       "      <td>25</td>\n",
       "      <td>26</td>\n",
       "      <td>What can make Physics easy to learn?</td>\n",
       "      <td>How can you make physics easy to learn?</td>\n",
       "      <td>1</td>\n",
       "    </tr>\n",
       "    <tr>\n",
       "      <th>13</th>\n",
       "      <td>13</td>\n",
       "      <td>27</td>\n",
       "      <td>28</td>\n",
       "      <td>What was your first sexual experience like?</td>\n",
       "      <td>What was your first sexual experience?</td>\n",
       "      <td>1</td>\n",
       "    </tr>\n",
       "    <tr>\n",
       "      <th>...</th>\n",
       "      <td>...</td>\n",
       "      <td>...</td>\n",
       "      <td>...</td>\n",
       "      <td>...</td>\n",
       "      <td>...</td>\n",
       "      <td>...</td>\n",
       "    </tr>\n",
       "    <tr>\n",
       "      <th>404280</th>\n",
       "      <td>404280</td>\n",
       "      <td>537922</td>\n",
       "      <td>537923</td>\n",
       "      <td>What are some outfit ideas to wear to a frat p...</td>\n",
       "      <td>What are some outfit ideas wear to a frat them...</td>\n",
       "      <td>1</td>\n",
       "    </tr>\n",
       "    <tr>\n",
       "      <th>404281</th>\n",
       "      <td>404281</td>\n",
       "      <td>99131</td>\n",
       "      <td>81495</td>\n",
       "      <td>Why is Manaphy childish in Pokémon Ranger and ...</td>\n",
       "      <td>Why is Manaphy annoying in Pokemon ranger and ...</td>\n",
       "      <td>1</td>\n",
       "    </tr>\n",
       "    <tr>\n",
       "      <th>404282</th>\n",
       "      <td>404282</td>\n",
       "      <td>1931</td>\n",
       "      <td>16773</td>\n",
       "      <td>How does a long distance relationship work?</td>\n",
       "      <td>How are long distance relationships maintained?</td>\n",
       "      <td>1</td>\n",
       "    </tr>\n",
       "    <tr>\n",
       "      <th>404284</th>\n",
       "      <td>404284</td>\n",
       "      <td>537926</td>\n",
       "      <td>537927</td>\n",
       "      <td>What does Jainism say about homosexuality?</td>\n",
       "      <td>What does Jainism say about Gays and Homosexua...</td>\n",
       "      <td>1</td>\n",
       "    </tr>\n",
       "    <tr>\n",
       "      <th>404286</th>\n",
       "      <td>404286</td>\n",
       "      <td>18840</td>\n",
       "      <td>155606</td>\n",
       "      <td>Do you believe there is life after death?</td>\n",
       "      <td>Is it true that there is life after death?</td>\n",
       "      <td>1</td>\n",
       "    </tr>\n",
       "  </tbody>\n",
       "</table>\n",
       "<p>149263 rows × 6 columns</p>\n",
       "</div>"
      ],
      "text/plain": [
       "            id    qid1    qid2  \\\n",
       "5            5      11      12   \n",
       "7            7      15      16   \n",
       "11          11      23      24   \n",
       "12          12      25      26   \n",
       "13          13      27      28   \n",
       "...        ...     ...     ...   \n",
       "404280  404280  537922  537923   \n",
       "404281  404281   99131   81495   \n",
       "404282  404282    1931   16773   \n",
       "404284  404284  537926  537927   \n",
       "404286  404286   18840  155606   \n",
       "\n",
       "                                                question1  \\\n",
       "5       Astrology: I am a Capricorn Sun Cap moon and c...   \n",
       "7                          How can I be a good geologist?   \n",
       "11            How do I read and find my YouTube comments?   \n",
       "12                   What can make Physics easy to learn?   \n",
       "13            What was your first sexual experience like?   \n",
       "...                                                   ...   \n",
       "404280  What are some outfit ideas to wear to a frat p...   \n",
       "404281  Why is Manaphy childish in Pokémon Ranger and ...   \n",
       "404282        How does a long distance relationship work?   \n",
       "404284         What does Jainism say about homosexuality?   \n",
       "404286          Do you believe there is life after death?   \n",
       "\n",
       "                                                question2  is_duplicate  \n",
       "5       I'm a triple Capricorn (Sun, Moon and ascendan...             1  \n",
       "7               What should I do to be a great geologist?             1  \n",
       "11                 How can I see all my Youtube comments?             1  \n",
       "12                How can you make physics easy to learn?             1  \n",
       "13                 What was your first sexual experience?             1  \n",
       "...                                                   ...           ...  \n",
       "404280  What are some outfit ideas wear to a frat them...             1  \n",
       "404281  Why is Manaphy annoying in Pokemon ranger and ...             1  \n",
       "404282    How are long distance relationships maintained?             1  \n",
       "404284  What does Jainism say about Gays and Homosexua...             1  \n",
       "404286         Is it true that there is life after death?             1  \n",
       "\n",
       "[149263 rows x 6 columns]"
      ]
     },
     "execution_count": 18,
     "metadata": {},
     "output_type": "execute_result"
    }
   ],
   "source": [
    "df[df[\"is_duplicate\"] ==1]"
   ]
  },
  {
   "cell_type": "code",
   "execution_count": 3,
   "metadata": {
    "_uuid": "525c4930df130c8078a576c6a05897bb6334df39"
   },
   "outputs": [
    {
     "data": {
      "text/plain": [
       "(404290, 6)"
      ]
     },
     "execution_count": 3,
     "metadata": {},
     "output_type": "execute_result"
    }
   ],
   "source": [
    "df.shape"
   ]
  },
  {
   "cell_type": "markdown",
   "metadata": {
    "_uuid": "ba9b0f86cc7b16015820d2c1649f2355bf3066bd"
   },
   "source": [
    "The Quora dataset consists of 404.290 rows and 6 columns. To reach the goal of this notebook, I am only interested in columns that contain questions. These columns are \"question1\" and \"question2\". To reduce training time, I will only use the column \"question1\"."
   ]
  },
  {
   "cell_type": "markdown",
   "metadata": {
    "_uuid": "0f737643d9fc4ed5310e424d3c0a232f44682370"
   },
   "source": [
    "## What is Word2Vec? <a name=\"word2vec\"></a>\n",
    "\n",
    "Word2Vec is one of many different word embedding techniques. In turn, word embedding is one of the most popular representation of document vocabulary. Thus, we get the following hierarchy:\n",
    "\n",
    "* Document vocabulary representation -> Word embedding -> Word2Vec\n",
    "\n",
    "So, what is word embedding? **Word embedding** is a vector representation of a word. For example, let's consider the folling three phases: \n",
    "* Agama is a reptile.\n",
    "* Snake is a reptile.\n",
    "* Reptile is a cold-blooded animal.\n",
    "\n",
    "The **dictionary** of this corpus of text (three phrases) consists of all unique words:\n",
    "> [\"agama\", \"reptile\", \"snake\", \"a\", \"is\", \"cold-blooded\", \"animal\"]\n",
    "\n",
    "A simple vector representation of the word \"agama\" would be:\n",
    "> [1, 0, 0, 0, 0, 0, 0]\n",
    "\n",
    "where 1 stands for the word \"agama\" in our dictionary. This word embedding is called one-hot encoding. For any word, the length of a vector is always 7 in our example, because the dictionary consists of 7 unique words. This word embedding technique is very simple, but has a tremendous disadvantage. Let's take vector representations of two words: \n",
    "> \"agama\" and \"reptile\" -> [1, 0, 0, 0, 0, 0, 0] and [0, 1, 0, 0, 0, 0, 0]\n",
    "\n",
    "These two vectors provide no useful information regarding the relationships that may exist between the \"agama\" and \"reptile\". In other words, the similarity between words is not captured by the one-hot encoding. Loosely speaking, one-hot encoding does not enable the system making conclusions about the word \"agama\" given the word \"reptile\" (for example, such that agama is a cold-blooded animal).\n",
    "\n",
    "**Word2Vec is a more sophisticated word embedding technique**. This technique is based on the idea that words that occur in the same **contexts** tend to have similar meanings. I like this definition from Wikipedia \n",
    "\n",
    "> Word2Vec is a **two-layer neural network** that takes as its input a large corpus of text and produces a vector space, typically of several hundred dimensions, with each unique word in the corpus being assigned a corresponding vector in the space (Wikipedia).\n",
    "\n",
    "Below I provide one of the best graphic representations of Word2Vec's word embedding that I found on Internet. This picture gives an intuition about how word embedding looks like in Word2Vec."
   ]
  },
  {
   "cell_type": "markdown",
   "metadata": {
    "_uuid": "01271c4f209df29e4016ff4b58b0f074a75e6b01"
   },
   "source": [
    "![](http://adriancolyer.files.wordpress.com/2016/04/word2vec-distributed-representation.png?w=566&zoom=2)\n",
    "\n",
    "Ref: [The amazing power of word vectors](http://blog.acolyer.org/2016/04/21/the-amazing-power-of-word-vectors/)"
   ]
  },
  {
   "cell_type": "markdown",
   "metadata": {
    "_uuid": "8aedf4c46f5d9fe634e2c97a95450e065ae73e43"
   },
   "source": [
    "**Word2Vec itself is not a deep neural network**, but it turns input text into a numerical form that deep neural networks can process as inputs."
   ]
  },
  {
   "cell_type": "markdown",
   "metadata": {
    "_uuid": "2344f77a4829a439379488785baa6298b093be5b"
   },
   "source": [
    "## Training of Word2Vec <a name=\"training\"></a>\n",
    "\n",
    "To train the Word2Vec two-layer neural network, the only thing that we need to do is to change the format of Quora dataset. In particular, I will transform the column \"question1\" into a list of lists. I will use the function \"simple_preprocess\" of GenSim package in order to transform each question (row) into a set of tokens, for example: \"what is your name\" -> \"what\", \"is\", \"your\", \"name\". "
   ]
  },
  {
   "cell_type": "code",
   "execution_count": 4,
   "metadata": {
    "_uuid": "27f155fbb44968d2d10e003ec2752ad9580be345"
   },
   "outputs": [],
   "source": [
    "def read_questions(row,column_name):\n",
    "    return gensim.utils.simple_preprocess(str(row[column_name]).encode('utf-8'))\n",
    "    \n",
    "documents = []\n",
    "for index, row in df.iterrows():\n",
    "    documents.append(read_questions(row,\"question1\"))\n",
    "    if row[\"is_duplicate\"] == 0:\n",
    "        documents.append(read_questions(row,\"question2\"))"
   ]
  },
  {
   "cell_type": "code",
   "execution_count": 5,
   "metadata": {
    "_uuid": "334796b667faec66552cef5727ee0d8eb83642a1"
   },
   "outputs": [
    {
     "name": "stdout",
     "output_type": "stream",
     "text": [
      "List of lists. Let's confirm:  <class 'list'>  of  <class 'list'>\n"
     ]
    }
   ],
   "source": [
    "print(\"List of lists. Let's confirm: \", type(documents), \" of \", type(documents[0]))"
   ]
  },
  {
   "cell_type": "markdown",
   "metadata": {
    "_uuid": "5c3a7d8985f51334f729ca206a744160455267d4"
   },
   "source": [
    "Now Word2Vec will retrieve all unique words from all sub-lists of \"documents\", thereby constructing the vocabulary (unique words). "
   ]
  },
  {
   "cell_type": "code",
   "execution_count": 6,
   "metadata": {
    "_uuid": "0d1956af61059aa4ddf611d1924600c67d3431c6"
   },
   "outputs": [],
   "source": [
    "model = gensim.models.Word2Vec(size=150, window=10, min_count=2, sg=1, workers=10)\n",
    "model.build_vocab(documents)  # prepare the model vocabulary"
   ]
  },
  {
   "cell_type": "markdown",
   "metadata": {
    "_uuid": "981d5e8ac087a30294810a18513e3626e2e43f9a"
   },
   "source": [
    "Below I provide the definition of four parameters that we used to define a Word2Vec model:\n",
    "\n",
    "* **size:** The size means the dimensionality of word vectors. It defines the number of tokens used to represent each word. For example, rake a look at the picture above. The size would be equal to 4 in this example. Each input word would be represented by 4 tokens: King, Queen, Women, Princess.  Rule-of-thumb: If a dataset is small, then size should be small too. If a dataset is large, then size should be greater too. It's the question of tuning.\n",
    "\n",
    "* **window:** The maximum distance between the target word and its neighboring word. For example, let's take the phrase \"agama is a reptile \" with 4 words (suppose that we do not exclude the stop words). If window size is 2, then the vector of word \"agama\" is directly affected by the word \"is\" and \"a\". Rule-of-thumb: a smaller window should provide terms that are more related (of course, the exclusion of stop words should be considered).\n",
    "\n",
    "* **min_count:** Ignores all words with total frequency lower than this. For example, if the word frequency is extremally low, then this word might be considered as unimportant.\n",
    "\n",
    "* **sg:** Selects training algorithm: 1 for Skip-Gram; 0 for CBOW (Continuous Bag of Words).\n",
    "\n",
    "* **workers:** The number of worker threads used to train the model.\n",
    "\n",
    "More details about input parameters can be found [here](http://radimrehurek.com/gensim/models/word2vec.html)."
   ]
  },
  {
   "cell_type": "markdown",
   "metadata": {
    "_uuid": "96ce87e5ea042e98cc1bbb58f8f0c87d8711da2c"
   },
   "source": [
    "Once the vocabulary is created and the Word2Vec model is specified, I will train this model by calling \"train\" function."
   ]
  },
  {
   "cell_type": "code",
   "execution_count": 7,
   "metadata": {
    "_uuid": "6d7629860aa0e7c9be43af0d24317e9d046fd339"
   },
   "outputs": [
    {
     "name": "stderr",
     "output_type": "stream",
     "text": [
      "C:\\Users\\mahendra.chouhan\\Anaconda3\\lib\\site-packages\\ipykernel_launcher.py:1: DeprecationWarning: Call to deprecated `iter` (Attribute will be removed in 4.0.0, use self.epochs instead).\n",
      "  \"\"\"Entry point for launching an IPython kernel.\n"
     ]
    },
    {
     "data": {
      "text/plain": [
       "(25465749, 35144510)"
      ]
     },
     "execution_count": 7,
     "metadata": {},
     "output_type": "execute_result"
    }
   ],
   "source": [
    "model.train(sentences=documents, total_examples=len(documents), epochs=model.iter)"
   ]
  },
  {
   "cell_type": "markdown",
   "metadata": {
    "_uuid": "98c4846760e19d393bd7b2429c4ca3b711a921ae"
   },
   "source": [
    "Let's see what happens when the function \"train\" is executed. I found a diagram (see below) that shows a Skip-Gram model architecture to produce a distributed representation of words. To understand this diagram, we should consider the size of vocablurary and the dimensionality of the word vectors (the parameter \"size\"). In our example, these are equal to 47.366 words and 150 tokens, respectively. If we take the word “immigration”, it will be one of the words in the 47.366 word vocabulary.  Therefore we can initially represent the word \"immigration\" as a 47.366 length one-hot vector.  We then link this input vector to a 150 node hidden layer.  There are totally 150 weights connecting the input layer and the hidden layer.  The activations of the nodes in this hidden layer are simply linear summations of the weighted inputs, e.g. `ohe*w1+ohe*w2+...+ohe*w150`.  These nodes are then fed into a softmax output layer.  During training, we want to change the weights of this neural network so that words surrounding “immigration” have a higher probability in the softmax output layer.  So, for instance, if our text data set has a lot of questions related to the immigration in Canada, we would want our network to assign large probabilities to words like “Canada”, \"Australia\"  (given lots of sentences containing “the immigration to Canada or Australia”)."
   ]
  },
  {
   "cell_type": "markdown",
   "metadata": {
    "_uuid": "6c8e4f4a9b33fb78087fd9f2bfa652b5c66dbd77"
   },
   "source": [
    "![](https://preview.ibb.co/iuzji0/Word2-Vec-skip-gram.jpg)"
   ]
  },
  {
   "cell_type": "markdown",
   "metadata": {
    "_uuid": "a1644a2fae2378a6bf4801bdca21c16ac4fde441"
   },
   "source": [
    "We finished training our Word2Vec model. What's next? The funny thing is that next we abandon the softmax layer and just use the 47.366 x 150 weight matrix as our word embedding lookup table. Sounds weird, isn't it? The only goal was to get the weights of the hidden layer. These weights are essentially the word embeddings that we had to learn. Once we know these word embeddings, we do not need the whole Word2Vec network anymore."
   ]
  },
  {
   "cell_type": "markdown",
   "metadata": {
    "_uuid": "7eb92af443a4bde0c37a6f75adb073be6a6c5fe3"
   },
   "source": [
    "## Exploring the trained Word2Vec model <a name=\"exploring\"></a>\n",
    "\n",
    "The learned vocabulary of tokens (words) is stored in \"model.wv.vocab\". In our case, the vocabulary includes 47.366 unique words. "
   ]
  },
  {
   "cell_type": "code",
   "execution_count": 8,
   "metadata": {
    "_uuid": "7bd5364fdad14bf523c499a9b7ab479a952b3c13"
   },
   "outputs": [
    {
     "name": "stdout",
     "output_type": "stream",
     "text": [
      "what\n",
      "is\n",
      "the\n",
      "step\n",
      "by\n",
      "guide\n",
      "to\n",
      "invest\n",
      "in\n",
      "share\n"
     ]
    }
   ],
   "source": [
    "word_vectors = model.wv\n",
    "count = 0\n",
    "for word in word_vectors.vocab:\n",
    "    if count<10:\n",
    "        print(word)\n",
    "        count += 1\n",
    "    else:\n",
    "        break"
   ]
  },
  {
   "cell_type": "code",
   "execution_count": 9,
   "metadata": {
    "_uuid": "31360854e9228b62cedf18314415d410c26016af"
   },
   "outputs": [
    {
     "data": {
      "text/plain": [
       "47336"
      ]
     },
     "execution_count": 9,
     "metadata": {},
     "output_type": "execute_result"
    }
   ],
   "source": [
    "len(word_vectors.vocab)"
   ]
  },
  {
   "cell_type": "markdown",
   "metadata": {
    "_uuid": "a45dc4f286e27b7449a45be4d5d2442833cdc987"
   },
   "source": [
    "The embedded vectors for a specific token are stored in a KeyedVectors instance in \"model.wv\". We can see that the length of a word vector is equal to 150 as we defined by the parameter \"size\":"
   ]
  },
  {
   "cell_type": "code",
   "execution_count": 29,
   "metadata": {
    "_uuid": "8a57556a59cdf75e00c1cba571dc8b48f52daf2b"
   },
   "outputs": [
    {
     "data": {
      "text/plain": [
       "150"
      ]
     },
     "execution_count": 29,
     "metadata": {},
     "output_type": "execute_result"
    }
   ],
   "source": [
    "vector = model.wv[\"find\"]  # numpy vector of a word\n",
    "len(vector)"
   ]
  },
  {
   "cell_type": "code",
   "execution_count": 30,
   "metadata": {
    "_uuid": "a8ba927edf82d97cd52749462dfed9644a712bbe"
   },
   "outputs": [
    {
     "data": {
      "text/plain": [
       "array([ 4.04283285e-01, -2.67674565e-01,  2.04147279e-01, -3.42464328e-01,\n",
       "        1.16926715e-01,  4.29689378e-01, -3.06203306e-01,  2.24766627e-01,\n",
       "        1.74896434e-01,  3.19926709e-01,  9.50790346e-02,  1.71366736e-01,\n",
       "       -1.06310479e-01,  1.57839898e-02, -1.90843865e-01,  9.05614987e-04,\n",
       "        4.65423822e-01, -2.48587176e-01,  2.33261272e-01, -2.66973495e-01,\n",
       "       -2.61952337e-02, -5.93901873e-02,  7.94887900e-01,  2.07121983e-01,\n",
       "       -1.31581221e-02,  1.67818472e-01,  4.67964381e-01,  3.34748566e-01,\n",
       "        6.32300913e-01, -3.01560700e-01, -3.33615780e-01,  5.31056046e-01,\n",
       "       -5.00213727e-03, -2.29121536e-01,  3.00828308e-01, -4.13524777e-01,\n",
       "       -3.58969390e-01, -6.77763999e-01, -3.86540502e-01,  9.88670290e-02,\n",
       "        4.56103295e-01,  1.95078403e-01,  6.48480654e-01, -1.58554167e-01,\n",
       "        6.28769219e-01, -9.36108604e-02, -9.25535023e-01,  4.23422962e-01,\n",
       "        1.70862272e-01,  1.22705519e-01,  1.14552930e-01,  2.37999648e-01,\n",
       "       -1.84992909e-01, -2.83970147e-01,  1.27958134e-01,  1.22274108e-01,\n",
       "       -4.47655410e-01,  3.73684436e-01, -1.33543573e-02, -5.63300066e-02,\n",
       "       -7.16066957e-02, -2.45479673e-01, -2.09570497e-01, -3.86191815e-01,\n",
       "        6.62433982e-01, -2.26478025e-01,  6.02520645e-01, -2.70479560e-01,\n",
       "        2.14328561e-02,  3.36393267e-01,  1.25901625e-01,  3.51165757e-02,\n",
       "       -7.18429834e-02,  5.65364599e-01, -2.81285256e-01,  4.12951797e-01,\n",
       "        3.55969697e-01,  1.47992775e-01, -8.03106844e-01,  2.76593387e-01,\n",
       "        1.69931084e-01, -4.06984240e-01, -3.44165176e-01, -1.40529096e-01,\n",
       "       -5.37101567e-01,  5.20748012e-02,  1.91505089e-01,  1.73370659e-01,\n",
       "       -4.54138517e-01,  1.55557021e-01,  4.30246830e-01,  3.79102528e-01,\n",
       "        8.48518610e-02, -1.95346981e-01, -2.27208927e-01, -1.30908892e-01,\n",
       "        7.92491287e-02, -4.65187311e-01,  2.72273302e-01, -7.74548575e-02,\n",
       "       -4.31890070e-01,  7.56952092e-02, -1.27015442e-01,  3.34755689e-01,\n",
       "        4.50854339e-02, -1.19088940e-01,  1.62036926e-01,  6.14104681e-02,\n",
       "        2.63635933e-01, -2.78687209e-01, -4.15742785e-01,  1.10264018e-01,\n",
       "       -1.43637389e-01,  3.92087728e-01, -2.80955046e-01, -2.37357412e-02,\n",
       "       -4.29571867e-01,  2.46674381e-02,  5.31982124e-01, -3.14851850e-01,\n",
       "       -3.62856030e-01, -1.12491600e-01,  4.10118669e-01,  9.40186158e-02,\n",
       "        5.40994883e-01, -1.54189825e-01, -1.00070648e-01, -4.52030599e-01,\n",
       "       -1.38294861e-01, -7.11661518e-01,  2.32121840e-01,  4.10804944e-03,\n",
       "       -2.39588857e-01, -3.45716536e-01,  1.86581284e-01, -3.29425484e-01,\n",
       "        2.81994581e-01,  3.27154785e-01, -1.03181079e-01, -1.04315579e-02,\n",
       "       -5.19307733e-01, -6.76393747e-01, -5.02352463e-03, -3.03796828e-01,\n",
       "        2.08910093e-01,  7.83686697e-01, -7.26506531e-01,  3.12194438e-03,\n",
       "        1.03095017e-01, -1.83620021e-01], dtype=float32)"
      ]
     },
     "execution_count": 30,
     "metadata": {},
     "output_type": "execute_result"
    }
   ],
   "source": [
    "vector"
   ]
  },
  {
   "cell_type": "markdown",
   "metadata": {
    "_uuid": "2e601b7b57c45004b877a3059354481655a5da52"
   },
   "source": [
    "We can now create a two-dimensional semantic representation of word embeddings using t-SNE."
   ]
  },
  {
   "cell_type": "code",
   "execution_count": 12,
   "metadata": {
    "_uuid": "bd7b0de2d192a07232fa1fc16dee300c753ad15d"
   },
   "outputs": [
    {
     "data": {
      "text/plain": [
       "{'what': <gensim.models.keyedvectors.Vocab at 0x224861cee08>,\n",
       " 'is': <gensim.models.keyedvectors.Vocab at 0x224861ce1c8>,\n",
       " 'the': <gensim.models.keyedvectors.Vocab at 0x224861cefc8>,\n",
       " 'step': <gensim.models.keyedvectors.Vocab at 0x224861ceec8>,\n",
       " 'by': <gensim.models.keyedvectors.Vocab at 0x224861d10c8>,\n",
       " 'guide': <gensim.models.keyedvectors.Vocab at 0x224861d1148>,\n",
       " 'to': <gensim.models.keyedvectors.Vocab at 0x224861d1188>,\n",
       " 'invest': <gensim.models.keyedvectors.Vocab at 0x224861d11c8>,\n",
       " 'in': <gensim.models.keyedvectors.Vocab at 0x224861d1088>,\n",
       " 'share': <gensim.models.keyedvectors.Vocab at 0x224861d1108>,\n",
       " 'market': <gensim.models.keyedvectors.Vocab at 0x224861d1208>,\n",
       " 'india': <gensim.models.keyedvectors.Vocab at 0x224861d1248>,\n",
       " 'story': <gensim.models.keyedvectors.Vocab at 0x224861d1288>,\n",
       " 'of': <gensim.models.keyedvectors.Vocab at 0x224861d12c8>,\n",
       " 'kohinoor': <gensim.models.keyedvectors.Vocab at 0x224861d1308>,\n",
       " 'koh': <gensim.models.keyedvectors.Vocab at 0x224861d1348>,\n",
       " 'noor': <gensim.models.keyedvectors.Vocab at 0x224861d1388>,\n",
       " 'diamond': <gensim.models.keyedvectors.Vocab at 0x224861d13c8>,\n",
       " 'would': <gensim.models.keyedvectors.Vocab at 0x224861d1408>,\n",
       " 'happen': <gensim.models.keyedvectors.Vocab at 0x224861d1448>,\n",
       " 'if': <gensim.models.keyedvectors.Vocab at 0x224861d1488>,\n",
       " 'indian': <gensim.models.keyedvectors.Vocab at 0x224861d14c8>,\n",
       " 'government': <gensim.models.keyedvectors.Vocab at 0x224861d1508>,\n",
       " 'stole': <gensim.models.keyedvectors.Vocab at 0x224861d1548>,\n",
       " 'back': <gensim.models.keyedvectors.Vocab at 0x224861d1588>,\n",
       " 'how': <gensim.models.keyedvectors.Vocab at 0x224861d15c8>,\n",
       " 'can': <gensim.models.keyedvectors.Vocab at 0x224861d1608>,\n",
       " 'increase': <gensim.models.keyedvectors.Vocab at 0x224861d1648>,\n",
       " 'speed': <gensim.models.keyedvectors.Vocab at 0x224861d1688>,\n",
       " 'my': <gensim.models.keyedvectors.Vocab at 0x224861d16c8>,\n",
       " 'internet': <gensim.models.keyedvectors.Vocab at 0x224861d1708>,\n",
       " 'connection': <gensim.models.keyedvectors.Vocab at 0x224861d1748>,\n",
       " 'while': <gensim.models.keyedvectors.Vocab at 0x224861d1788>,\n",
       " 'using': <gensim.models.keyedvectors.Vocab at 0x224861d17c8>,\n",
       " 'vpn': <gensim.models.keyedvectors.Vocab at 0x224861d1808>,\n",
       " 'be': <gensim.models.keyedvectors.Vocab at 0x224861d1848>,\n",
       " 'increased': <gensim.models.keyedvectors.Vocab at 0x224861d1888>,\n",
       " 'hacking': <gensim.models.keyedvectors.Vocab at 0x224861d18c8>,\n",
       " 'through': <gensim.models.keyedvectors.Vocab at 0x224861d1908>,\n",
       " 'dns': <gensim.models.keyedvectors.Vocab at 0x224861d1948>,\n",
       " 'why': <gensim.models.keyedvectors.Vocab at 0x224861d1988>,\n",
       " 'am': <gensim.models.keyedvectors.Vocab at 0x224861d19c8>,\n",
       " 'mentally': <gensim.models.keyedvectors.Vocab at 0x224861d1a08>,\n",
       " 'very': <gensim.models.keyedvectors.Vocab at 0x224861d1a48>,\n",
       " 'lonely': <gensim.models.keyedvectors.Vocab at 0x224861d1a88>,\n",
       " 'solve': <gensim.models.keyedvectors.Vocab at 0x224861d1ac8>,\n",
       " 'it': <gensim.models.keyedvectors.Vocab at 0x224861d1b08>,\n",
       " 'find': <gensim.models.keyedvectors.Vocab at 0x224861d1b48>,\n",
       " 'remainder': <gensim.models.keyedvectors.Vocab at 0x224861d1b88>,\n",
       " 'when': <gensim.models.keyedvectors.Vocab at 0x224861d1bc8>,\n",
       " 'math': <gensim.models.keyedvectors.Vocab at 0x224861d1c08>,\n",
       " 'divided': <gensim.models.keyedvectors.Vocab at 0x224861d1c48>,\n",
       " 'which': <gensim.models.keyedvectors.Vocab at 0x224861d1c88>,\n",
       " 'one': <gensim.models.keyedvectors.Vocab at 0x224861d1cc8>,\n",
       " 'dissolve': <gensim.models.keyedvectors.Vocab at 0x224861d1d08>,\n",
       " 'water': <gensim.models.keyedvectors.Vocab at 0x224861d1d48>,\n",
       " 'quikly': <gensim.models.keyedvectors.Vocab at 0x224861d1d88>,\n",
       " 'sugar': <gensim.models.keyedvectors.Vocab at 0x224861d1dc8>,\n",
       " 'salt': <gensim.models.keyedvectors.Vocab at 0x224861d1e08>,\n",
       " 'methane': <gensim.models.keyedvectors.Vocab at 0x224861d1e48>,\n",
       " 'and': <gensim.models.keyedvectors.Vocab at 0x224861d1e88>,\n",
       " 'carbon': <gensim.models.keyedvectors.Vocab at 0x224861d1ec8>,\n",
       " 'di': <gensim.models.keyedvectors.Vocab at 0x224861d1f08>,\n",
       " 'oxide': <gensim.models.keyedvectors.Vocab at 0x224861d1f48>,\n",
       " 'fish': <gensim.models.keyedvectors.Vocab at 0x224861d1f88>,\n",
       " 'survive': <gensim.models.keyedvectors.Vocab at 0x224861d1fc8>,\n",
       " 'astrology': <gensim.models.keyedvectors.Vocab at 0x224861e7048>,\n",
       " 'capricorn': <gensim.models.keyedvectors.Vocab at 0x224861e7088>,\n",
       " 'sun': <gensim.models.keyedvectors.Vocab at 0x224861e70c8>,\n",
       " 'cap': <gensim.models.keyedvectors.Vocab at 0x224861e7108>,\n",
       " 'moon': <gensim.models.keyedvectors.Vocab at 0x224861e7148>,\n",
       " 'rising': <gensim.models.keyedvectors.Vocab at 0x224861e7188>,\n",
       " 'does': <gensim.models.keyedvectors.Vocab at 0x224861e71c8>,\n",
       " 'that': <gensim.models.keyedvectors.Vocab at 0x224861e7208>,\n",
       " 'say': <gensim.models.keyedvectors.Vocab at 0x224861e7248>,\n",
       " 'about': <gensim.models.keyedvectors.Vocab at 0x224861e7288>,\n",
       " 'me': <gensim.models.keyedvectors.Vocab at 0x224861e72c8>,\n",
       " 'should': <gensim.models.keyedvectors.Vocab at 0x224861e7308>,\n",
       " 'buy': <gensim.models.keyedvectors.Vocab at 0x224861e7348>,\n",
       " 'tiago': <gensim.models.keyedvectors.Vocab at 0x224861e7388>,\n",
       " 'keeps': <gensim.models.keyedvectors.Vocab at 0x224861e73c8>,\n",
       " 'active': <gensim.models.keyedvectors.Vocab at 0x224861e7408>,\n",
       " 'far': <gensim.models.keyedvectors.Vocab at 0x224861e7448>,\n",
       " 'from': <gensim.models.keyedvectors.Vocab at 0x224861e7488>,\n",
       " 'phone': <gensim.models.keyedvectors.Vocab at 0x224861e74c8>,\n",
       " 'video': <gensim.models.keyedvectors.Vocab at 0x224861e7508>,\n",
       " 'games': <gensim.models.keyedvectors.Vocab at 0x224861e7548>,\n",
       " 'good': <gensim.models.keyedvectors.Vocab at 0x224861e7588>,\n",
       " 'geologist': <gensim.models.keyedvectors.Vocab at 0x224861e75c8>,\n",
       " 'do': <gensim.models.keyedvectors.Vocab at 0x224861e7608>,\n",
       " 'you': <gensim.models.keyedvectors.Vocab at 0x224861e7648>,\n",
       " 'use': <gensim.models.keyedvectors.Vocab at 0x224861e7688>,\n",
       " 'instead': <gensim.models.keyedvectors.Vocab at 0x224861e76c8>,\n",
       " 'motorola': <gensim.models.keyedvectors.Vocab at 0x224861e7708>,\n",
       " 'company': <gensim.models.keyedvectors.Vocab at 0x224861e7748>,\n",
       " 'hack': <gensim.models.keyedvectors.Vocab at 0x224861e7788>,\n",
       " 'charter': <gensim.models.keyedvectors.Vocab at 0x224861e77c8>,\n",
       " 'dcx': <gensim.models.keyedvectors.Vocab at 0x224861e7808>,\n",
       " 'for': <gensim.models.keyedvectors.Vocab at 0x224861e7848>,\n",
       " 'free': <gensim.models.keyedvectors.Vocab at 0x224861e7888>,\n",
       " 'method': <gensim.models.keyedvectors.Vocab at 0x224861e78c8>,\n",
       " 'separation': <gensim.models.keyedvectors.Vocab at 0x224861e7908>,\n",
       " 'slits': <gensim.models.keyedvectors.Vocab at 0x224861e7948>,\n",
       " 'fresnel': <gensim.models.keyedvectors.Vocab at 0x224861e7988>,\n",
       " 'are': <gensim.models.keyedvectors.Vocab at 0x224861e79c8>,\n",
       " 'some': <gensim.models.keyedvectors.Vocab at 0x224861e7a08>,\n",
       " 'things': <gensim.models.keyedvectors.Vocab at 0x224861e7a48>,\n",
       " 'technicians': <gensim.models.keyedvectors.Vocab at 0x224861e7a88>,\n",
       " 'tell': <gensim.models.keyedvectors.Vocab at 0x224861e7ac8>,\n",
       " 'durability': <gensim.models.keyedvectors.Vocab at 0x224861e7b08>,\n",
       " 'reliability': <gensim.models.keyedvectors.Vocab at 0x224861e7b48>,\n",
       " 'laptops': <gensim.models.keyedvectors.Vocab at 0x224861e7b88>,\n",
       " 'its': <gensim.models.keyedvectors.Vocab at 0x224861e7bc8>,\n",
       " 'components': <gensim.models.keyedvectors.Vocab at 0x224861e7c08>,\n",
       " 'read': <gensim.models.keyedvectors.Vocab at 0x224861e7c48>,\n",
       " 'youtube': <gensim.models.keyedvectors.Vocab at 0x224861e7c88>,\n",
       " 'comments': <gensim.models.keyedvectors.Vocab at 0x224861e7cc8>,\n",
       " 'make': <gensim.models.keyedvectors.Vocab at 0x224861e7d08>,\n",
       " 'physics': <gensim.models.keyedvectors.Vocab at 0x224861e7d48>,\n",
       " 'easy': <gensim.models.keyedvectors.Vocab at 0x224861e7d88>,\n",
       " 'learn': <gensim.models.keyedvectors.Vocab at 0x224861e7dc8>,\n",
       " 'was': <gensim.models.keyedvectors.Vocab at 0x224861e7e08>,\n",
       " 'your': <gensim.models.keyedvectors.Vocab at 0x224861e7e48>,\n",
       " 'first': <gensim.models.keyedvectors.Vocab at 0x224861e7e88>,\n",
       " 'sexual': <gensim.models.keyedvectors.Vocab at 0x224861e7ec8>,\n",
       " 'experience': <gensim.models.keyedvectors.Vocab at 0x224861e7f08>,\n",
       " 'like': <gensim.models.keyedvectors.Vocab at 0x224861e7f48>,\n",
       " 'laws': <gensim.models.keyedvectors.Vocab at 0x224861e7f88>,\n",
       " 'change': <gensim.models.keyedvectors.Vocab at 0x224861e7fc8>,\n",
       " 'status': <gensim.models.keyedvectors.Vocab at 0x224861ea048>,\n",
       " 'student': <gensim.models.keyedvectors.Vocab at 0x224861ea088>,\n",
       " 'visa': <gensim.models.keyedvectors.Vocab at 0x224861ea0c8>,\n",
       " 'green': <gensim.models.keyedvectors.Vocab at 0x224861ea108>,\n",
       " 'card': <gensim.models.keyedvectors.Vocab at 0x224861ea148>,\n",
       " 'us': <gensim.models.keyedvectors.Vocab at 0x224861ea188>,\n",
       " 'they': <gensim.models.keyedvectors.Vocab at 0x224861ea1c8>,\n",
       " 'compare': <gensim.models.keyedvectors.Vocab at 0x224861ea208>,\n",
       " 'immigration': <gensim.models.keyedvectors.Vocab at 0x224861ea248>,\n",
       " 'canada': <gensim.models.keyedvectors.Vocab at 0x224861ea288>,\n",
       " 'japan': <gensim.models.keyedvectors.Vocab at 0x224861ea2c8>,\n",
       " 'trump': <gensim.models.keyedvectors.Vocab at 0x224861ea308>,\n",
       " 'presidency': <gensim.models.keyedvectors.Vocab at 0x224861ea348>,\n",
       " 'mean': <gensim.models.keyedvectors.Vocab at 0x224861ea388>,\n",
       " 'current': <gensim.models.keyedvectors.Vocab at 0x224861ea3c8>,\n",
       " 'international': <gensim.models.keyedvectors.Vocab at 0x224861ea408>,\n",
       " 'master': <gensim.models.keyedvectors.Vocab at 0x224861ea448>,\n",
       " 'students': <gensim.models.keyedvectors.Vocab at 0x224861ea488>,\n",
       " 'on': <gensim.models.keyedvectors.Vocab at 0x224861ea4c8>,\n",
       " 'an': <gensim.models.keyedvectors.Vocab at 0x224861ea508>,\n",
       " 'manipulation': <gensim.models.keyedvectors.Vocab at 0x224861ea548>}"
      ]
     },
     "execution_count": 12,
     "metadata": {},
     "output_type": "execute_result"
    }
   ],
   "source": [
    "wanted_words = []\n",
    "count = 0\n",
    "for word in word_vectors.vocab:\n",
    "    if count<150:\n",
    "        wanted_words.append(word)\n",
    "        count += 1\n",
    "    else:\n",
    "        break\n",
    "wanted_vocab = dict((k, word_vectors.vocab[k]) for k in wanted_words if k in word_vectors.vocab)\n",
    "wanted_vocab"
   ]
  },
  {
   "cell_type": "code",
   "execution_count": 13,
   "metadata": {
    "_uuid": "5f5225c8d5c3e8bca0035b9c67082883ed8f659c"
   },
   "outputs": [
    {
     "name": "stderr",
     "output_type": "stream",
     "text": [
      "C:\\Users\\mahendra.chouhan\\Anaconda3\\lib\\site-packages\\ipykernel_launcher.py:1: DeprecationWarning: Call to deprecated `__getitem__` (Method will be removed in 4.0.0, use self.wv.__getitem__() instead).\n",
      "  \"\"\"Entry point for launching an IPython kernel.\n",
      "C:\\Users\\mahendra.chouhan\\Anaconda3\\lib\\site-packages\\sklearn\\manifold\\_t_sne.py:793: FutureWarning: The default learning rate in TSNE will change from 200.0 to 'auto' in 1.2.\n",
      "  FutureWarning,\n",
      "C:\\Users\\mahendra.chouhan\\Anaconda3\\lib\\site-packages\\sklearn\\manifold\\_t_sne.py:986: FutureWarning: The PCA initialization in TSNE will change to have the standard deviation of PC1 equal to 1e-4 in 1.2. This will ensure better convergence.\n",
      "  FutureWarning,\n"
     ]
    }
   ],
   "source": [
    "X = model[wanted_vocab] # X is an array of word vectors, each vector containing 150 tokens\n",
    "tsne_model = TSNE(perplexity=40, n_components=2, init=\"pca\", n_iter=5000, random_state=23)\n",
    "Y = tsne_model.fit_transform(X)"
   ]
  },
  {
   "cell_type": "code",
   "execution_count": 14,
   "metadata": {
    "_uuid": "0bb1c580c9d5b354965c5ddd279698c58716aa74"
   },
   "outputs": [
    {
     "data": {
      "image/png": "[encoded data removed]",
      "text/plain": [
       "<Figure size 1440x720 with 1 Axes>"
      ]
     },
     "metadata": {
      "needs_background": "light"
     },
     "output_type": "display_data"
    }
   ],
   "source": [
    "#Plot the t-SNE output\n",
    "fig, ax = plt.subplots(figsize=(20,10))\n",
    "ax.scatter(Y[:, 0], Y[:, 1])\n",
    "words = list(wanted_vocab)\n",
    "for i, word in enumerate(words):\n",
    "    plt.annotate(word, xy=(Y[i, 0], Y[i, 1]))\n",
    "ax.set_yticklabels([]) #Hide ticks\n",
    "ax.set_xticklabels([]) #Hide ticks\n",
    "_ = plt.show()"
   ]
  },
  {
   "cell_type": "markdown",
   "metadata": {
    "_uuid": "d2bfa2eef6692a8a85614bcad7e6aa9df9e3a9e4"
   },
   "source": [
    "Not that bad. It's interesting to see that, for example, the word pairs \"motorola\" and \"phone\" or \"youtube\" and \"video\" are located quite close to each other. It means that these words appeared in the same context in the corpus of text."
   ]
  },
  {
   "cell_type": "markdown",
   "metadata": {
    "_uuid": "b8ab644c772e8e4cf5310f10a145ef35ee83f2e3"
   },
   "source": [
    "## Playing with the trained Word2Vec model <a name=\"playing\"></a>\n",
    "\n",
    "Now we will see what we can actually do with our trained Word2Vec model. This overview does not pretend to be exhaustive. I will only check the most popular functionalities:\n",
    "* Given a word, find most similar words\n",
    "* Given words A and B, find other words that are similar to A and opposite to B\n",
    "* Given a sequence of words, find an odd word\n",
    "\n",
    "This first example shows a simple case of looking up top 5 words similar to the word \"phone\". To do this, I will call the \"most_similar\" function and provide the word \"phone\" as the positive example. This returns the top 5 similar words: \"mobile\", \"phones\", \"smartphone\", \"iphone\" and \"device\". \n",
    "\n",
    "You may notice that there is no word \"motorola\" in the list of top 5 similar words, while the word \"motorola\" appears in t-SNE graphic. Please remember that t-SNE was applied on a small subset of vocabulary (150 words). Therefore, the words \"mobile\", \"phones\", \"smartphone\", etc. were simply not included in these 150 words and therefore they have not appeared on the t-SNE graphic."
   ]
  },
  {
   "cell_type": "code",
   "execution_count": 26,
   "metadata": {
    "_uuid": "039de0546d5ba606b931f12a909f8d47112bcabb"
   },
   "outputs": [
    {
     "data": {
      "text/plain": [
       "[('disastrous', 0.5656231641769409),\n",
       " ('valparai', 0.5448888540267944),\n",
       " ('mirik', 0.5446635484695435),\n",
       " ('tamiya', 0.5435508489608765),\n",
       " ('topslip', 0.541578471660614),\n",
       " ('horsley', 0.5403908491134644),\n",
       " ('bulandshahr', 0.5376573204994202),\n",
       " ('saharanpur', 0.535821259021759),\n",
       " ('biharinath', 0.5344330668449402),\n",
       " ('khandala', 0.5343244671821594)]"
      ]
     },
     "execution_count": 26,
     "metadata": {},
     "output_type": "execute_result"
    }
   ],
   "source": [
    "w1 = \"be\"\n",
    "model.wv.most_similar(positive=w1, topn=10)"
   ]
  },
  {
   "cell_type": "markdown",
   "metadata": {
    "_uuid": "cba8407b1f9bc34b6ff63735d30969da8385ce58"
   },
   "source": [
    "Next, given positive and negative words, we will find top 2 words that are similar to positivie words and opposite to negative words."
   ]
  },
  {
   "cell_type": "code",
   "execution_count": 31,
   "metadata": {
    "_uuid": "78d2258bebde757c53fd015747e705b95e2c9655"
   },
   "outputs": [
    {
     "data": {
      "text/plain": [
       "[('could', 0.5566522479057312), ('able', 0.5018189549446106)]"
      ]
     },
     "execution_count": 31,
     "metadata": {},
     "output_type": "execute_result"
    }
   ],
   "source": [
    "w1 = [\"be\",\"can\"]\n",
    "w2 = [\"find\"]\n",
    "model.wv.most_similar (positive=w1,negative=w2,topn=2)"
   ]
  },
  {
   "cell_type": "markdown",
   "metadata": {
    "_uuid": "136be2d17113e9593b0fa975658a9cc58b69efbf"
   },
   "source": [
    "Finally, I will use Word2Vec to find odd items given a list of items \"government\",\"corruption\" and \"peace\". For most of people this is a rhetorical question."
   ]
  },
  {
   "cell_type": "code",
   "execution_count": 36,
   "metadata": {
    "_uuid": "6878e86a18d32c65dc22ac960781b2ae66e0df60"
   },
   "outputs": [
    {
     "data": {
      "text/plain": [
       "'be'"
      ]
     },
     "execution_count": 36,
     "metadata": {},
     "output_type": "execute_result"
    }
   ],
   "source": [
    "model.wv.doesnt_match([\"be\", \"can\", \"find\"])"
   ]
  },
  {
   "cell_type": "markdown",
   "metadata": {
    "_uuid": "4d92a21e3226d9423908b69a5055849263dc483e"
   },
   "source": [
    "Do you agree with the opinion of Word2Vec?:)"
   ]
  },
  {
   "cell_type": "markdown",
   "metadata": {
    "_uuid": "ec2e2a80dc6a5b1b5dcee7ba8ce4438fcce8cd73"
   },
   "source": [
    "\n",
    "## When can we use Word2Vec? <a name=\"usage\"></a>\n",
    "\n",
    "There are many application scenarios for Word2Vec: sentiment analysis, recommender systems, etc. For example, imagine that you have tags for a large amount of questions in Quora. Given a tag, you want to find similar tags in order to recommend them to a user for exploration. You can do this by treating each set of co-occuring tags as a \"sentence\" and train a Word2Vec model on this data. "
   ]
  }
 ],
 "metadata": {
  "kernelspec": {
   "display_name": "Python 3",
   "language": "python",
   "name": "python3"
  },
  "language_info": {
   "codemirror_mode": {
    "name": "ipython",
    "version": 3
   },
   "file_extension": ".py",
   "mimetype": "text/x-python",
   "name": "python",
   "nbconvert_exporter": "python",
   "pygments_lexer": "ipython3",
   "version": "3.7.6"
  }
 },
 "nbformat": 4,
 "nbformat_minor": 1
}
