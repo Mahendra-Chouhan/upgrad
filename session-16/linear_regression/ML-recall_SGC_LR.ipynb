{
 "cells": [
  {
   "cell_type": "code",
   "execution_count": 1,
   "metadata": {
    "id": "WyG26mV6cOfG"
   },
   "outputs": [],
   "source": [
    "# Importing all required packages\n",
    "import numpy as np\n",
    "import pandas as pd\n",
    "import matplotlib.pyplot as plt\n",
    "import seaborn as sns\n",
    "%matplotlib inline"
   ]
  },
  {
   "cell_type": "code",
   "execution_count": 2,
   "metadata": {
    "id": "hHrukTWbcOfP"
   },
   "outputs": [],
   "source": [
    "#Importing dataset\n",
    "df = pd.read_csv('50_Startups.csv')\n"
   ]
  },
  {
   "cell_type": "code",
   "execution_count": 3,
   "metadata": {
    "colab": {
     "base_uri": "https://localhost:8080/",
     "height": 204
    },
    "executionInfo": {
     "elapsed": 30,
     "status": "ok",
     "timestamp": 1627280553858,
     "user": {
      "displayName": "Vaishnavee M",
      "photoUrl": "",
      "userId": "00238996371145262943"
     },
     "user_tz": -330
    },
    "id": "ruXI08VicOfQ",
    "outputId": "f5c8969e-2b1c-4aef-e9e3-33960dc65086"
   },
   "outputs": [
    {
     "data": {
      "text/html": [
       "<div>\n",
       "<style scoped>\n",
       "    .dataframe tbody tr th:only-of-type {\n",
       "        vertical-align: middle;\n",
       "    }\n",
       "\n",
       "    .dataframe tbody tr th {\n",
       "        vertical-align: top;\n",
       "    }\n",
       "\n",
       "    .dataframe thead th {\n",
       "        text-align: right;\n",
       "    }\n",
       "</style>\n",
       "<table border=\"1\" class=\"dataframe\">\n",
       "  <thead>\n",
       "    <tr style=\"text-align: right;\">\n",
       "      <th></th>\n",
       "      <th>R&amp;D Spend</th>\n",
       "      <th>Administration</th>\n",
       "      <th>Marketing Spend</th>\n",
       "      <th>State</th>\n",
       "      <th>Profit</th>\n",
       "    </tr>\n",
       "  </thead>\n",
       "  <tbody>\n",
       "    <tr>\n",
       "      <th>0</th>\n",
       "      <td>165349.20</td>\n",
       "      <td>136897.80</td>\n",
       "      <td>471784.10</td>\n",
       "      <td>New York</td>\n",
       "      <td>192261.83</td>\n",
       "    </tr>\n",
       "    <tr>\n",
       "      <th>1</th>\n",
       "      <td>162597.70</td>\n",
       "      <td>151377.59</td>\n",
       "      <td>443898.53</td>\n",
       "      <td>California</td>\n",
       "      <td>191792.06</td>\n",
       "    </tr>\n",
       "    <tr>\n",
       "      <th>2</th>\n",
       "      <td>153441.51</td>\n",
       "      <td>101145.55</td>\n",
       "      <td>407934.54</td>\n",
       "      <td>Florida</td>\n",
       "      <td>191050.39</td>\n",
       "    </tr>\n",
       "    <tr>\n",
       "      <th>3</th>\n",
       "      <td>144372.41</td>\n",
       "      <td>118671.85</td>\n",
       "      <td>383199.62</td>\n",
       "      <td>New York</td>\n",
       "      <td>182901.99</td>\n",
       "    </tr>\n",
       "    <tr>\n",
       "      <th>4</th>\n",
       "      <td>142107.34</td>\n",
       "      <td>91391.77</td>\n",
       "      <td>366168.42</td>\n",
       "      <td>Florida</td>\n",
       "      <td>166187.94</td>\n",
       "    </tr>\n",
       "  </tbody>\n",
       "</table>\n",
       "</div>"
      ],
      "text/plain": [
       "   R&D Spend  Administration  Marketing Spend       State     Profit\n",
       "0  165349.20       136897.80        471784.10    New York  192261.83\n",
       "1  162597.70       151377.59        443898.53  California  191792.06\n",
       "2  153441.51       101145.55        407934.54     Florida  191050.39\n",
       "3  144372.41       118671.85        383199.62    New York  182901.99\n",
       "4  142107.34        91391.77        366168.42     Florida  166187.94"
      ]
     },
     "execution_count": 3,
     "metadata": {},
     "output_type": "execute_result"
    }
   ],
   "source": [
    "#Let's explore the top 5 rows\n",
    "df.head()"
   ]
  },
  {
   "cell_type": "code",
   "execution_count": 4,
   "metadata": {
    "colab": {
     "base_uri": "https://localhost:8080/"
    },
    "executionInfo": {
     "elapsed": 26,
     "status": "ok",
     "timestamp": 1627280553858,
     "user": {
      "displayName": "Vaishnavee M",
      "photoUrl": "",
      "userId": "00238996371145262943"
     },
     "user_tz": -330
    },
    "id": "9Xzldd1gcOfS",
    "outputId": "77973612-e177-4340-c94c-a4d0ce27d654"
   },
   "outputs": [
    {
     "data": {
      "text/plain": [
       "(50, 5)"
      ]
     },
     "execution_count": 4,
     "metadata": {},
     "output_type": "execute_result"
    }
   ],
   "source": [
    "df.shape"
   ]
  },
  {
   "cell_type": "code",
   "execution_count": 5,
   "metadata": {
    "colab": {
     "base_uri": "https://localhost:8080/",
     "height": 297
    },
    "executionInfo": {
     "elapsed": 24,
     "status": "ok",
     "timestamp": 1627280553859,
     "user": {
      "displayName": "Vaishnavee M",
      "photoUrl": "",
      "userId": "00238996371145262943"
     },
     "user_tz": -330
    },
    "id": "cAkn2419cOfS",
    "outputId": "fdb74253-40f4-41bc-fd86-7929955b014d"
   },
   "outputs": [
    {
     "data": {
      "text/html": [
       "<div>\n",
       "<style scoped>\n",
       "    .dataframe tbody tr th:only-of-type {\n",
       "        vertical-align: middle;\n",
       "    }\n",
       "\n",
       "    .dataframe tbody tr th {\n",
       "        vertical-align: top;\n",
       "    }\n",
       "\n",
       "    .dataframe thead th {\n",
       "        text-align: right;\n",
       "    }\n",
       "</style>\n",
       "<table border=\"1\" class=\"dataframe\">\n",
       "  <thead>\n",
       "    <tr style=\"text-align: right;\">\n",
       "      <th></th>\n",
       "      <th>R&amp;D Spend</th>\n",
       "      <th>Administration</th>\n",
       "      <th>Marketing Spend</th>\n",
       "      <th>Profit</th>\n",
       "    </tr>\n",
       "  </thead>\n",
       "  <tbody>\n",
       "    <tr>\n",
       "      <th>count</th>\n",
       "      <td>50.000000</td>\n",
       "      <td>50.000000</td>\n",
       "      <td>50.000000</td>\n",
       "      <td>50.000000</td>\n",
       "    </tr>\n",
       "    <tr>\n",
       "      <th>mean</th>\n",
       "      <td>73721.615600</td>\n",
       "      <td>121344.639600</td>\n",
       "      <td>211025.097800</td>\n",
       "      <td>112012.639200</td>\n",
       "    </tr>\n",
       "    <tr>\n",
       "      <th>std</th>\n",
       "      <td>45902.256482</td>\n",
       "      <td>28017.802755</td>\n",
       "      <td>122290.310726</td>\n",
       "      <td>40306.180338</td>\n",
       "    </tr>\n",
       "    <tr>\n",
       "      <th>min</th>\n",
       "      <td>0.000000</td>\n",
       "      <td>51283.140000</td>\n",
       "      <td>0.000000</td>\n",
       "      <td>14681.400000</td>\n",
       "    </tr>\n",
       "    <tr>\n",
       "      <th>25%</th>\n",
       "      <td>39936.370000</td>\n",
       "      <td>103730.875000</td>\n",
       "      <td>129300.132500</td>\n",
       "      <td>90138.902500</td>\n",
       "    </tr>\n",
       "    <tr>\n",
       "      <th>50%</th>\n",
       "      <td>73051.080000</td>\n",
       "      <td>122699.795000</td>\n",
       "      <td>212716.240000</td>\n",
       "      <td>107978.190000</td>\n",
       "    </tr>\n",
       "    <tr>\n",
       "      <th>75%</th>\n",
       "      <td>101602.800000</td>\n",
       "      <td>144842.180000</td>\n",
       "      <td>299469.085000</td>\n",
       "      <td>139765.977500</td>\n",
       "    </tr>\n",
       "    <tr>\n",
       "      <th>max</th>\n",
       "      <td>165349.200000</td>\n",
       "      <td>182645.560000</td>\n",
       "      <td>471784.100000</td>\n",
       "      <td>192261.830000</td>\n",
       "    </tr>\n",
       "  </tbody>\n",
       "</table>\n",
       "</div>"
      ],
      "text/plain": [
       "           R&D Spend  Administration  Marketing Spend         Profit\n",
       "count      50.000000       50.000000        50.000000      50.000000\n",
       "mean    73721.615600   121344.639600    211025.097800  112012.639200\n",
       "std     45902.256482    28017.802755    122290.310726   40306.180338\n",
       "min         0.000000    51283.140000         0.000000   14681.400000\n",
       "25%     39936.370000   103730.875000    129300.132500   90138.902500\n",
       "50%     73051.080000   122699.795000    212716.240000  107978.190000\n",
       "75%    101602.800000   144842.180000    299469.085000  139765.977500\n",
       "max    165349.200000   182645.560000    471784.100000  192261.830000"
      ]
     },
     "execution_count": 5,
     "metadata": {},
     "output_type": "execute_result"
    }
   ],
   "source": [
    "df.describe()"
   ]
  },
  {
   "cell_type": "code",
   "execution_count": 6,
   "metadata": {
    "colab": {
     "base_uri": "https://localhost:8080/"
    },
    "executionInfo": {
     "elapsed": 24,
     "status": "ok",
     "timestamp": 1627280553860,
     "user": {
      "displayName": "Vaishnavee M",
      "photoUrl": "",
      "userId": "00238996371145262943"
     },
     "user_tz": -330
    },
    "id": "_dy3tHW-cOfT",
    "outputId": "24bf2092-dea6-4457-e8e3-898574b2695b"
   },
   "outputs": [
    {
     "name": "stdout",
     "output_type": "stream",
     "text": [
      "<class 'pandas.core.frame.DataFrame'>\n",
      "RangeIndex: 50 entries, 0 to 49\n",
      "Data columns (total 5 columns):\n",
      " #   Column           Non-Null Count  Dtype  \n",
      "---  ------           --------------  -----  \n",
      " 0   R&D Spend        50 non-null     float64\n",
      " 1   Administration   50 non-null     float64\n",
      " 2   Marketing Spend  50 non-null     float64\n",
      " 3   State            50 non-null     object \n",
      " 4   Profit           50 non-null     float64\n",
      "dtypes: float64(4), object(1)\n",
      "memory usage: 2.1+ KB\n"
     ]
    }
   ],
   "source": [
    "df.info()"
   ]
  },
  {
   "cell_type": "markdown",
   "metadata": {
    "id": "Q1jSwSb7cOfU"
   },
   "source": [
    "There are no null values in the data set"
   ]
  },
  {
   "cell_type": "code",
   "execution_count": 7,
   "metadata": {
    "colab": {
     "base_uri": "https://localhost:8080/",
     "height": 726
    },
    "executionInfo": {
     "elapsed": 6222,
     "status": "ok",
     "timestamp": 1627280560061,
     "user": {
      "displayName": "Vaishnavee M",
      "photoUrl": "",
      "userId": "00238996371145262943"
     },
     "user_tz": -330
    },
    "id": "rwz1CxtNLWmH",
    "outputId": "80b92772-3201-4d61-bd68-7f761e16cc4b"
   },
   "outputs": [
    {
     "data": {
      "image/png": "[encoded data removed]",
      "text/plain": [
       "<Figure size 720x720 with 20 Axes>"
      ]
     },
     "metadata": {
      "needs_background": "light"
     },
     "output_type": "display_data"
    }
   ],
   "source": [
    "sns.pairplot(df)\n",
    "plt.show()"
   ]
  },
  {
   "cell_type": "code",
   "execution_count": 8,
   "metadata": {
    "id": "EsJvNvojcOfU"
   },
   "outputs": [],
   "source": [
    "#Reducing the numeric digits - convert to lakhs\n",
    "\n",
    "df[['R&D Spend','Administration','Marketing Spend','Profit']]=df[['R&D Spend','Administration','Marketing Spend','Profit']].apply(lambda x:x/100000)"
   ]
  },
  {
   "cell_type": "code",
   "execution_count": 9,
   "metadata": {
    "colab": {
     "base_uri": "https://localhost:8080/",
     "height": 204
    },
    "executionInfo": {
     "elapsed": 52,
     "status": "ok",
     "timestamp": 1627280560064,
     "user": {
      "displayName": "Vaishnavee M",
      "photoUrl": "",
      "userId": "00238996371145262943"
     },
     "user_tz": -330
    },
    "id": "drRlzLmycOfU",
    "outputId": "4c8b61ee-c571-4e1c-c708-4c5e7a038e9f"
   },
   "outputs": [
    {
     "data": {
      "text/html": [
       "<div>\n",
       "<style scoped>\n",
       "    .dataframe tbody tr th:only-of-type {\n",
       "        vertical-align: middle;\n",
       "    }\n",
       "\n",
       "    .dataframe tbody tr th {\n",
       "        vertical-align: top;\n",
       "    }\n",
       "\n",
       "    .dataframe thead th {\n",
       "        text-align: right;\n",
       "    }\n",
       "</style>\n",
       "<table border=\"1\" class=\"dataframe\">\n",
       "  <thead>\n",
       "    <tr style=\"text-align: right;\">\n",
       "      <th></th>\n",
       "      <th>R&amp;D Spend</th>\n",
       "      <th>Administration</th>\n",
       "      <th>Marketing Spend</th>\n",
       "      <th>State</th>\n",
       "      <th>Profit</th>\n",
       "    </tr>\n",
       "  </thead>\n",
       "  <tbody>\n",
       "    <tr>\n",
       "      <th>0</th>\n",
       "      <td>1.653492</td>\n",
       "      <td>1.368978</td>\n",
       "      <td>4.717841</td>\n",
       "      <td>New York</td>\n",
       "      <td>1.922618</td>\n",
       "    </tr>\n",
       "    <tr>\n",
       "      <th>1</th>\n",
       "      <td>1.625977</td>\n",
       "      <td>1.513776</td>\n",
       "      <td>4.438985</td>\n",
       "      <td>California</td>\n",
       "      <td>1.917921</td>\n",
       "    </tr>\n",
       "    <tr>\n",
       "      <th>2</th>\n",
       "      <td>1.534415</td>\n",
       "      <td>1.011456</td>\n",
       "      <td>4.079345</td>\n",
       "      <td>Florida</td>\n",
       "      <td>1.910504</td>\n",
       "    </tr>\n",
       "    <tr>\n",
       "      <th>3</th>\n",
       "      <td>1.443724</td>\n",
       "      <td>1.186719</td>\n",
       "      <td>3.831996</td>\n",
       "      <td>New York</td>\n",
       "      <td>1.829020</td>\n",
       "    </tr>\n",
       "    <tr>\n",
       "      <th>4</th>\n",
       "      <td>1.421073</td>\n",
       "      <td>0.913918</td>\n",
       "      <td>3.661684</td>\n",
       "      <td>Florida</td>\n",
       "      <td>1.661879</td>\n",
       "    </tr>\n",
       "  </tbody>\n",
       "</table>\n",
       "</div>"
      ],
      "text/plain": [
       "   R&D Spend  Administration  Marketing Spend       State    Profit\n",
       "0   1.653492        1.368978         4.717841    New York  1.922618\n",
       "1   1.625977        1.513776         4.438985  California  1.917921\n",
       "2   1.534415        1.011456         4.079345     Florida  1.910504\n",
       "3   1.443724        1.186719         3.831996    New York  1.829020\n",
       "4   1.421073        0.913918         3.661684     Florida  1.661879"
      ]
     },
     "execution_count": 9,
     "metadata": {},
     "output_type": "execute_result"
    }
   ],
   "source": [
    "\n",
    "df.head()"
   ]
  },
  {
   "cell_type": "code",
   "execution_count": 10,
   "metadata": {
    "colab": {
     "base_uri": "https://localhost:8080/",
     "height": 204
    },
    "executionInfo": {
     "elapsed": 52,
     "status": "ok",
     "timestamp": 1627280560065,
     "user": {
      "displayName": "Vaishnavee M",
      "photoUrl": "",
      "userId": "00238996371145262943"
     },
     "user_tz": -330
    },
    "id": "NwT_xxUhkZ2s",
    "outputId": "801bbd1f-3231-4d94-a153-2be2172eea68"
   },
   "outputs": [
    {
     "data": {
      "text/html": [
       "<div>\n",
       "<style scoped>\n",
       "    .dataframe tbody tr th:only-of-type {\n",
       "        vertical-align: middle;\n",
       "    }\n",
       "\n",
       "    .dataframe tbody tr th {\n",
       "        vertical-align: top;\n",
       "    }\n",
       "\n",
       "    .dataframe thead th {\n",
       "        text-align: right;\n",
       "    }\n",
       "</style>\n",
       "<table border=\"1\" class=\"dataframe\">\n",
       "  <thead>\n",
       "    <tr style=\"text-align: right;\">\n",
       "      <th></th>\n",
       "      <th>Florida</th>\n",
       "      <th>New York</th>\n",
       "    </tr>\n",
       "  </thead>\n",
       "  <tbody>\n",
       "    <tr>\n",
       "      <th>0</th>\n",
       "      <td>0</td>\n",
       "      <td>1</td>\n",
       "    </tr>\n",
       "    <tr>\n",
       "      <th>1</th>\n",
       "      <td>0</td>\n",
       "      <td>0</td>\n",
       "    </tr>\n",
       "    <tr>\n",
       "      <th>2</th>\n",
       "      <td>1</td>\n",
       "      <td>0</td>\n",
       "    </tr>\n",
       "    <tr>\n",
       "      <th>3</th>\n",
       "      <td>0</td>\n",
       "      <td>1</td>\n",
       "    </tr>\n",
       "    <tr>\n",
       "      <th>4</th>\n",
       "      <td>1</td>\n",
       "      <td>0</td>\n",
       "    </tr>\n",
       "  </tbody>\n",
       "</table>\n",
       "</div>"
      ],
      "text/plain": [
       "   Florida  New York\n",
       "0        0         1\n",
       "1        0         0\n",
       "2        1         0\n",
       "3        0         1\n",
       "4        1         0"
      ]
     },
     "execution_count": 10,
     "metadata": {},
     "output_type": "execute_result"
    }
   ],
   "source": [
    "#create dummies - (0,1) - New York (1,0)- Florida (0,0)-California\n",
    "states = pd.get_dummies(df['State'], drop_first=True)\n",
    "states.head()"
   ]
  },
  {
   "cell_type": "code",
   "execution_count": 11,
   "metadata": {
    "colab": {
     "base_uri": "https://localhost:8080/",
     "height": 204
    },
    "executionInfo": {
     "elapsed": 52,
     "status": "ok",
     "timestamp": 1627280560066,
     "user": {
      "displayName": "Vaishnavee M",
      "photoUrl": "",
      "userId": "00238996371145262943"
     },
     "user_tz": -330
    },
    "id": "ani0UO_ik1Wi",
    "outputId": "cbae03eb-1647-468b-d48d-713d8562fefe"
   },
   "outputs": [
    {
     "data": {
      "text/html": [
       "<div>\n",
       "<style scoped>\n",
       "    .dataframe tbody tr th:only-of-type {\n",
       "        vertical-align: middle;\n",
       "    }\n",
       "\n",
       "    .dataframe tbody tr th {\n",
       "        vertical-align: top;\n",
       "    }\n",
       "\n",
       "    .dataframe thead th {\n",
       "        text-align: right;\n",
       "    }\n",
       "</style>\n",
       "<table border=\"1\" class=\"dataframe\">\n",
       "  <thead>\n",
       "    <tr style=\"text-align: right;\">\n",
       "      <th></th>\n",
       "      <th>R&amp;D Spend</th>\n",
       "      <th>Administration</th>\n",
       "      <th>Marketing Spend</th>\n",
       "      <th>State</th>\n",
       "      <th>Profit</th>\n",
       "      <th>Florida</th>\n",
       "      <th>New York</th>\n",
       "    </tr>\n",
       "  </thead>\n",
       "  <tbody>\n",
       "    <tr>\n",
       "      <th>0</th>\n",
       "      <td>1.653492</td>\n",
       "      <td>1.368978</td>\n",
       "      <td>4.717841</td>\n",
       "      <td>New York</td>\n",
       "      <td>1.922618</td>\n",
       "      <td>0</td>\n",
       "      <td>1</td>\n",
       "    </tr>\n",
       "    <tr>\n",
       "      <th>1</th>\n",
       "      <td>1.625977</td>\n",
       "      <td>1.513776</td>\n",
       "      <td>4.438985</td>\n",
       "      <td>California</td>\n",
       "      <td>1.917921</td>\n",
       "      <td>0</td>\n",
       "      <td>0</td>\n",
       "    </tr>\n",
       "    <tr>\n",
       "      <th>2</th>\n",
       "      <td>1.534415</td>\n",
       "      <td>1.011456</td>\n",
       "      <td>4.079345</td>\n",
       "      <td>Florida</td>\n",
       "      <td>1.910504</td>\n",
       "      <td>1</td>\n",
       "      <td>0</td>\n",
       "    </tr>\n",
       "    <tr>\n",
       "      <th>3</th>\n",
       "      <td>1.443724</td>\n",
       "      <td>1.186719</td>\n",
       "      <td>3.831996</td>\n",
       "      <td>New York</td>\n",
       "      <td>1.829020</td>\n",
       "      <td>0</td>\n",
       "      <td>1</td>\n",
       "    </tr>\n",
       "    <tr>\n",
       "      <th>4</th>\n",
       "      <td>1.421073</td>\n",
       "      <td>0.913918</td>\n",
       "      <td>3.661684</td>\n",
       "      <td>Florida</td>\n",
       "      <td>1.661879</td>\n",
       "      <td>1</td>\n",
       "      <td>0</td>\n",
       "    </tr>\n",
       "  </tbody>\n",
       "</table>\n",
       "</div>"
      ],
      "text/plain": [
       "   R&D Spend  Administration  Marketing Spend       State    Profit  Florida  \\\n",
       "0   1.653492        1.368978         4.717841    New York  1.922618        0   \n",
       "1   1.625977        1.513776         4.438985  California  1.917921        0   \n",
       "2   1.534415        1.011456         4.079345     Florida  1.910504        1   \n",
       "3   1.443724        1.186719         3.831996    New York  1.829020        0   \n",
       "4   1.421073        0.913918         3.661684     Florida  1.661879        1   \n",
       "\n",
       "   New York  \n",
       "0         1  \n",
       "1         0  \n",
       "2         0  \n",
       "3         1  \n",
       "4         0  "
      ]
     },
     "execution_count": 11,
     "metadata": {},
     "output_type": "execute_result"
    }
   ],
   "source": [
    "# concat states with df\n",
    "\n",
    "df = pd.concat([df, states], axis=1)\n",
    "df.head()"
   ]
  },
  {
   "cell_type": "code",
   "execution_count": 12,
   "metadata": {
    "colab": {
     "base_uri": "https://localhost:8080/",
     "height": 1000
    },
    "executionInfo": {
     "elapsed": 53,
     "status": "ok",
     "timestamp": 1627280560068,
     "user": {
      "displayName": "Vaishnavee M",
      "photoUrl": "",
      "userId": "00238996371145262943"
     },
     "user_tz": -330
    },
    "id": "PXn4t76vL34J",
    "outputId": "a48e132f-9ed8-47db-c902-ea19c9c68401"
   },
   "outputs": [
    {
     "data": {
      "text/html": [
       "<div>\n",
       "<style scoped>\n",
       "    .dataframe tbody tr th:only-of-type {\n",
       "        vertical-align: middle;\n",
       "    }\n",
       "\n",
       "    .dataframe tbody tr th {\n",
       "        vertical-align: top;\n",
       "    }\n",
       "\n",
       "    .dataframe thead th {\n",
       "        text-align: right;\n",
       "    }\n",
       "</style>\n",
       "<table border=\"1\" class=\"dataframe\">\n",
       "  <thead>\n",
       "    <tr style=\"text-align: right;\">\n",
       "      <th></th>\n",
       "      <th>R&amp;D Spend</th>\n",
       "      <th>Administration</th>\n",
       "      <th>Marketing Spend</th>\n",
       "      <th>Profit</th>\n",
       "      <th>Florida</th>\n",
       "      <th>New York</th>\n",
       "    </tr>\n",
       "  </thead>\n",
       "  <tbody>\n",
       "    <tr>\n",
       "      <th>0</th>\n",
       "      <td>1.653492</td>\n",
       "      <td>1.368978</td>\n",
       "      <td>4.717841</td>\n",
       "      <td>1.922618</td>\n",
       "      <td>0</td>\n",
       "      <td>1</td>\n",
       "    </tr>\n",
       "    <tr>\n",
       "      <th>1</th>\n",
       "      <td>1.625977</td>\n",
       "      <td>1.513776</td>\n",
       "      <td>4.438985</td>\n",
       "      <td>1.917921</td>\n",
       "      <td>0</td>\n",
       "      <td>0</td>\n",
       "    </tr>\n",
       "    <tr>\n",
       "      <th>2</th>\n",
       "      <td>1.534415</td>\n",
       "      <td>1.011456</td>\n",
       "      <td>4.079345</td>\n",
       "      <td>1.910504</td>\n",
       "      <td>1</td>\n",
       "      <td>0</td>\n",
       "    </tr>\n",
       "    <tr>\n",
       "      <th>3</th>\n",
       "      <td>1.443724</td>\n",
       "      <td>1.186719</td>\n",
       "      <td>3.831996</td>\n",
       "      <td>1.829020</td>\n",
       "      <td>0</td>\n",
       "      <td>1</td>\n",
       "    </tr>\n",
       "    <tr>\n",
       "      <th>4</th>\n",
       "      <td>1.421073</td>\n",
       "      <td>0.913918</td>\n",
       "      <td>3.661684</td>\n",
       "      <td>1.661879</td>\n",
       "      <td>1</td>\n",
       "      <td>0</td>\n",
       "    </tr>\n",
       "    <tr>\n",
       "      <th>5</th>\n",
       "      <td>1.318769</td>\n",
       "      <td>0.998147</td>\n",
       "      <td>3.628614</td>\n",
       "      <td>1.569911</td>\n",
       "      <td>0</td>\n",
       "      <td>1</td>\n",
       "    </tr>\n",
       "    <tr>\n",
       "      <th>6</th>\n",
       "      <td>1.346155</td>\n",
       "      <td>1.471989</td>\n",
       "      <td>1.277168</td>\n",
       "      <td>1.561225</td>\n",
       "      <td>0</td>\n",
       "      <td>0</td>\n",
       "    </tr>\n",
       "    <tr>\n",
       "      <th>7</th>\n",
       "      <td>1.302981</td>\n",
       "      <td>1.455301</td>\n",
       "      <td>3.238767</td>\n",
       "      <td>1.557526</td>\n",
       "      <td>1</td>\n",
       "      <td>0</td>\n",
       "    </tr>\n",
       "    <tr>\n",
       "      <th>8</th>\n",
       "      <td>1.205425</td>\n",
       "      <td>1.487190</td>\n",
       "      <td>3.116133</td>\n",
       "      <td>1.522118</td>\n",
       "      <td>0</td>\n",
       "      <td>1</td>\n",
       "    </tr>\n",
       "    <tr>\n",
       "      <th>9</th>\n",
       "      <td>1.233349</td>\n",
       "      <td>1.086792</td>\n",
       "      <td>3.049816</td>\n",
       "      <td>1.497600</td>\n",
       "      <td>0</td>\n",
       "      <td>0</td>\n",
       "    </tr>\n",
       "    <tr>\n",
       "      <th>10</th>\n",
       "      <td>1.019131</td>\n",
       "      <td>1.105941</td>\n",
       "      <td>2.291610</td>\n",
       "      <td>1.461220</td>\n",
       "      <td>1</td>\n",
       "      <td>0</td>\n",
       "    </tr>\n",
       "    <tr>\n",
       "      <th>11</th>\n",
       "      <td>1.006720</td>\n",
       "      <td>0.917906</td>\n",
       "      <td>2.497445</td>\n",
       "      <td>1.442594</td>\n",
       "      <td>0</td>\n",
       "      <td>0</td>\n",
       "    </tr>\n",
       "    <tr>\n",
       "      <th>12</th>\n",
       "      <td>0.938638</td>\n",
       "      <td>1.273204</td>\n",
       "      <td>2.498394</td>\n",
       "      <td>1.415855</td>\n",
       "      <td>1</td>\n",
       "      <td>0</td>\n",
       "    </tr>\n",
       "    <tr>\n",
       "      <th>13</th>\n",
       "      <td>0.919924</td>\n",
       "      <td>1.354951</td>\n",
       "      <td>2.526649</td>\n",
       "      <td>1.343074</td>\n",
       "      <td>0</td>\n",
       "      <td>0</td>\n",
       "    </tr>\n",
       "    <tr>\n",
       "      <th>14</th>\n",
       "      <td>1.199432</td>\n",
       "      <td>1.565474</td>\n",
       "      <td>2.565129</td>\n",
       "      <td>1.326026</td>\n",
       "      <td>1</td>\n",
       "      <td>0</td>\n",
       "    </tr>\n",
       "    <tr>\n",
       "      <th>15</th>\n",
       "      <td>1.145236</td>\n",
       "      <td>1.226168</td>\n",
       "      <td>2.617762</td>\n",
       "      <td>1.299170</td>\n",
       "      <td>0</td>\n",
       "      <td>1</td>\n",
       "    </tr>\n",
       "    <tr>\n",
       "      <th>16</th>\n",
       "      <td>0.780131</td>\n",
       "      <td>1.215976</td>\n",
       "      <td>2.643461</td>\n",
       "      <td>1.269929</td>\n",
       "      <td>0</td>\n",
       "      <td>0</td>\n",
       "    </tr>\n",
       "    <tr>\n",
       "      <th>17</th>\n",
       "      <td>0.946572</td>\n",
       "      <td>1.450776</td>\n",
       "      <td>2.825743</td>\n",
       "      <td>1.253704</td>\n",
       "      <td>0</td>\n",
       "      <td>1</td>\n",
       "    </tr>\n",
       "    <tr>\n",
       "      <th>18</th>\n",
       "      <td>0.917492</td>\n",
       "      <td>1.141758</td>\n",
       "      <td>2.949196</td>\n",
       "      <td>1.242669</td>\n",
       "      <td>1</td>\n",
       "      <td>0</td>\n",
       "    </tr>\n",
       "    <tr>\n",
       "      <th>19</th>\n",
       "      <td>0.864197</td>\n",
       "      <td>1.535141</td>\n",
       "      <td>0.000000</td>\n",
       "      <td>1.227769</td>\n",
       "      <td>0</td>\n",
       "      <td>1</td>\n",
       "    </tr>\n",
       "    <tr>\n",
       "      <th>20</th>\n",
       "      <td>0.762539</td>\n",
       "      <td>1.138673</td>\n",
       "      <td>2.986645</td>\n",
       "      <td>1.184740</td>\n",
       "      <td>0</td>\n",
       "      <td>0</td>\n",
       "    </tr>\n",
       "    <tr>\n",
       "      <th>21</th>\n",
       "      <td>0.783895</td>\n",
       "      <td>1.537734</td>\n",
       "      <td>2.997373</td>\n",
       "      <td>1.113130</td>\n",
       "      <td>0</td>\n",
       "      <td>1</td>\n",
       "    </tr>\n",
       "    <tr>\n",
       "      <th>22</th>\n",
       "      <td>0.739946</td>\n",
       "      <td>1.227828</td>\n",
       "      <td>3.033193</td>\n",
       "      <td>1.103522</td>\n",
       "      <td>1</td>\n",
       "      <td>0</td>\n",
       "    </tr>\n",
       "    <tr>\n",
       "      <th>23</th>\n",
       "      <td>0.675325</td>\n",
       "      <td>1.057510</td>\n",
       "      <td>3.047687</td>\n",
       "      <td>1.087340</td>\n",
       "      <td>1</td>\n",
       "      <td>0</td>\n",
       "    </tr>\n",
       "    <tr>\n",
       "      <th>24</th>\n",
       "      <td>0.770440</td>\n",
       "      <td>0.992813</td>\n",
       "      <td>1.405748</td>\n",
       "      <td>1.085520</td>\n",
       "      <td>0</td>\n",
       "      <td>1</td>\n",
       "    </tr>\n",
       "    <tr>\n",
       "      <th>25</th>\n",
       "      <td>0.646647</td>\n",
       "      <td>1.395532</td>\n",
       "      <td>1.379626</td>\n",
       "      <td>1.074043</td>\n",
       "      <td>0</td>\n",
       "      <td>0</td>\n",
       "    </tr>\n",
       "    <tr>\n",
       "      <th>26</th>\n",
       "      <td>0.753289</td>\n",
       "      <td>1.441360</td>\n",
       "      <td>1.340501</td>\n",
       "      <td>1.057335</td>\n",
       "      <td>1</td>\n",
       "      <td>0</td>\n",
       "    </tr>\n",
       "    <tr>\n",
       "      <th>27</th>\n",
       "      <td>0.721076</td>\n",
       "      <td>1.278646</td>\n",
       "      <td>3.531838</td>\n",
       "      <td>1.050083</td>\n",
       "      <td>0</td>\n",
       "      <td>1</td>\n",
       "    </tr>\n",
       "    <tr>\n",
       "      <th>28</th>\n",
       "      <td>0.660515</td>\n",
       "      <td>1.826456</td>\n",
       "      <td>1.181482</td>\n",
       "      <td>1.032824</td>\n",
       "      <td>1</td>\n",
       "      <td>0</td>\n",
       "    </tr>\n",
       "    <tr>\n",
       "      <th>29</th>\n",
       "      <td>0.656055</td>\n",
       "      <td>1.530321</td>\n",
       "      <td>1.071384</td>\n",
       "      <td>1.010046</td>\n",
       "      <td>0</td>\n",
       "      <td>1</td>\n",
       "    </tr>\n",
       "    <tr>\n",
       "      <th>30</th>\n",
       "      <td>0.619945</td>\n",
       "      <td>1.156413</td>\n",
       "      <td>0.911312</td>\n",
       "      <td>0.999376</td>\n",
       "      <td>1</td>\n",
       "      <td>0</td>\n",
       "    </tr>\n",
       "    <tr>\n",
       "      <th>31</th>\n",
       "      <td>0.611364</td>\n",
       "      <td>1.527019</td>\n",
       "      <td>0.882182</td>\n",
       "      <td>0.974836</td>\n",
       "      <td>0</td>\n",
       "      <td>1</td>\n",
       "    </tr>\n",
       "    <tr>\n",
       "      <th>32</th>\n",
       "      <td>0.634089</td>\n",
       "      <td>1.292196</td>\n",
       "      <td>0.460852</td>\n",
       "      <td>0.974278</td>\n",
       "      <td>0</td>\n",
       "      <td>0</td>\n",
       "    </tr>\n",
       "    <tr>\n",
       "      <th>33</th>\n",
       "      <td>0.554939</td>\n",
       "      <td>1.030575</td>\n",
       "      <td>2.146348</td>\n",
       "      <td>0.967789</td>\n",
       "      <td>1</td>\n",
       "      <td>0</td>\n",
       "    </tr>\n",
       "    <tr>\n",
       "      <th>34</th>\n",
       "      <td>0.464261</td>\n",
       "      <td>1.576939</td>\n",
       "      <td>2.107977</td>\n",
       "      <td>0.967128</td>\n",
       "      <td>0</td>\n",
       "      <td>0</td>\n",
       "    </tr>\n",
       "    <tr>\n",
       "      <th>35</th>\n",
       "      <td>0.460140</td>\n",
       "      <td>0.850474</td>\n",
       "      <td>2.055176</td>\n",
       "      <td>0.964795</td>\n",
       "      <td>0</td>\n",
       "      <td>1</td>\n",
       "    </tr>\n",
       "    <tr>\n",
       "      <th>36</th>\n",
       "      <td>0.286638</td>\n",
       "      <td>1.270562</td>\n",
       "      <td>2.011268</td>\n",
       "      <td>0.907082</td>\n",
       "      <td>1</td>\n",
       "      <td>0</td>\n",
       "    </tr>\n",
       "    <tr>\n",
       "      <th>37</th>\n",
       "      <td>0.440699</td>\n",
       "      <td>0.512831</td>\n",
       "      <td>1.970294</td>\n",
       "      <td>0.899491</td>\n",
       "      <td>0</td>\n",
       "      <td>0</td>\n",
       "    </tr>\n",
       "    <tr>\n",
       "      <th>38</th>\n",
       "      <td>0.202296</td>\n",
       "      <td>0.659479</td>\n",
       "      <td>1.852651</td>\n",
       "      <td>0.812291</td>\n",
       "      <td>0</td>\n",
       "      <td>1</td>\n",
       "    </tr>\n",
       "    <tr>\n",
       "      <th>39</th>\n",
       "      <td>0.385585</td>\n",
       "      <td>0.829821</td>\n",
       "      <td>1.749993</td>\n",
       "      <td>0.810058</td>\n",
       "      <td>0</td>\n",
       "      <td>0</td>\n",
       "    </tr>\n",
       "    <tr>\n",
       "      <th>40</th>\n",
       "      <td>0.287543</td>\n",
       "      <td>1.185461</td>\n",
       "      <td>1.727957</td>\n",
       "      <td>0.782399</td>\n",
       "      <td>0</td>\n",
       "      <td>0</td>\n",
       "    </tr>\n",
       "    <tr>\n",
       "      <th>41</th>\n",
       "      <td>0.278929</td>\n",
       "      <td>0.847108</td>\n",
       "      <td>1.644707</td>\n",
       "      <td>0.777988</td>\n",
       "      <td>1</td>\n",
       "      <td>0</td>\n",
       "    </tr>\n",
       "    <tr>\n",
       "      <th>42</th>\n",
       "      <td>0.236409</td>\n",
       "      <td>0.961896</td>\n",
       "      <td>1.480011</td>\n",
       "      <td>0.714985</td>\n",
       "      <td>0</td>\n",
       "      <td>0</td>\n",
       "    </tr>\n",
       "    <tr>\n",
       "      <th>43</th>\n",
       "      <td>0.155057</td>\n",
       "      <td>1.273823</td>\n",
       "      <td>0.355342</td>\n",
       "      <td>0.697590</td>\n",
       "      <td>0</td>\n",
       "      <td>1</td>\n",
       "    </tr>\n",
       "    <tr>\n",
       "      <th>44</th>\n",
       "      <td>0.221777</td>\n",
       "      <td>1.548061</td>\n",
       "      <td>0.283347</td>\n",
       "      <td>0.652003</td>\n",
       "      <td>0</td>\n",
       "      <td>0</td>\n",
       "    </tr>\n",
       "    <tr>\n",
       "      <th>45</th>\n",
       "      <td>0.010002</td>\n",
       "      <td>1.241530</td>\n",
       "      <td>0.019039</td>\n",
       "      <td>0.649261</td>\n",
       "      <td>0</td>\n",
       "      <td>1</td>\n",
       "    </tr>\n",
       "    <tr>\n",
       "      <th>46</th>\n",
       "      <td>0.013155</td>\n",
       "      <td>1.158162</td>\n",
       "      <td>2.971145</td>\n",
       "      <td>0.494908</td>\n",
       "      <td>1</td>\n",
       "      <td>0</td>\n",
       "    </tr>\n",
       "    <tr>\n",
       "      <th>47</th>\n",
       "      <td>0.000000</td>\n",
       "      <td>1.354269</td>\n",
       "      <td>0.000000</td>\n",
       "      <td>0.425597</td>\n",
       "      <td>0</td>\n",
       "      <td>0</td>\n",
       "    </tr>\n",
       "    <tr>\n",
       "      <th>48</th>\n",
       "      <td>0.005420</td>\n",
       "      <td>0.517432</td>\n",
       "      <td>0.000000</td>\n",
       "      <td>0.356734</td>\n",
       "      <td>0</td>\n",
       "      <td>1</td>\n",
       "    </tr>\n",
       "    <tr>\n",
       "      <th>49</th>\n",
       "      <td>0.000000</td>\n",
       "      <td>1.169838</td>\n",
       "      <td>0.451731</td>\n",
       "      <td>0.146814</td>\n",
       "      <td>0</td>\n",
       "      <td>0</td>\n",
       "    </tr>\n",
       "  </tbody>\n",
       "</table>\n",
       "</div>"
      ],
      "text/plain": [
       "    R&D Spend  Administration  Marketing Spend    Profit  Florida  New York\n",
       "0    1.653492        1.368978         4.717841  1.922618        0         1\n",
       "1    1.625977        1.513776         4.438985  1.917921        0         0\n",
       "2    1.534415        1.011456         4.079345  1.910504        1         0\n",
       "3    1.443724        1.186719         3.831996  1.829020        0         1\n",
       "4    1.421073        0.913918         3.661684  1.661879        1         0\n",
       "5    1.318769        0.998147         3.628614  1.569911        0         1\n",
       "6    1.346155        1.471989         1.277168  1.561225        0         0\n",
       "7    1.302981        1.455301         3.238767  1.557526        1         0\n",
       "8    1.205425        1.487190         3.116133  1.522118        0         1\n",
       "9    1.233349        1.086792         3.049816  1.497600        0         0\n",
       "10   1.019131        1.105941         2.291610  1.461220        1         0\n",
       "11   1.006720        0.917906         2.497445  1.442594        0         0\n",
       "12   0.938638        1.273204         2.498394  1.415855        1         0\n",
       "13   0.919924        1.354951         2.526649  1.343074        0         0\n",
       "14   1.199432        1.565474         2.565129  1.326026        1         0\n",
       "15   1.145236        1.226168         2.617762  1.299170        0         1\n",
       "16   0.780131        1.215976         2.643461  1.269929        0         0\n",
       "17   0.946572        1.450776         2.825743  1.253704        0         1\n",
       "18   0.917492        1.141758         2.949196  1.242669        1         0\n",
       "19   0.864197        1.535141         0.000000  1.227769        0         1\n",
       "20   0.762539        1.138673         2.986645  1.184740        0         0\n",
       "21   0.783895        1.537734         2.997373  1.113130        0         1\n",
       "22   0.739946        1.227828         3.033193  1.103522        1         0\n",
       "23   0.675325        1.057510         3.047687  1.087340        1         0\n",
       "24   0.770440        0.992813         1.405748  1.085520        0         1\n",
       "25   0.646647        1.395532         1.379626  1.074043        0         0\n",
       "26   0.753289        1.441360         1.340501  1.057335        1         0\n",
       "27   0.721076        1.278646         3.531838  1.050083        0         1\n",
       "28   0.660515        1.826456         1.181482  1.032824        1         0\n",
       "29   0.656055        1.530321         1.071384  1.010046        0         1\n",
       "30   0.619945        1.156413         0.911312  0.999376        1         0\n",
       "31   0.611364        1.527019         0.882182  0.974836        0         1\n",
       "32   0.634089        1.292196         0.460852  0.974278        0         0\n",
       "33   0.554939        1.030575         2.146348  0.967789        1         0\n",
       "34   0.464261        1.576939         2.107977  0.967128        0         0\n",
       "35   0.460140        0.850474         2.055176  0.964795        0         1\n",
       "36   0.286638        1.270562         2.011268  0.907082        1         0\n",
       "37   0.440699        0.512831         1.970294  0.899491        0         0\n",
       "38   0.202296        0.659479         1.852651  0.812291        0         1\n",
       "39   0.385585        0.829821         1.749993  0.810058        0         0\n",
       "40   0.287543        1.185461         1.727957  0.782399        0         0\n",
       "41   0.278929        0.847108         1.644707  0.777988        1         0\n",
       "42   0.236409        0.961896         1.480011  0.714985        0         0\n",
       "43   0.155057        1.273823         0.355342  0.697590        0         1\n",
       "44   0.221777        1.548061         0.283347  0.652003        0         0\n",
       "45   0.010002        1.241530         0.019039  0.649261        0         1\n",
       "46   0.013155        1.158162         2.971145  0.494908        1         0\n",
       "47   0.000000        1.354269         0.000000  0.425597        0         0\n",
       "48   0.005420        0.517432         0.000000  0.356734        0         1\n",
       "49   0.000000        1.169838         0.451731  0.146814        0         0"
      ]
     },
     "execution_count": 12,
     "metadata": {},
     "output_type": "execute_result"
    }
   ],
   "source": [
    "df.drop('State', axis=1)"
   ]
  },
  {
   "cell_type": "code",
   "execution_count": 13,
   "metadata": {
    "id": "nwK5mGDLcOfV"
   },
   "outputs": [],
   "source": [
    "# sns.pairplot(df1, x_vars=['R&D Spend', 'Administration', 'Marketing Spend', 'Florida', 'New York'], y_vars='Profit',size=4, aspect=1, kind='scatter')\n",
    "# plt.show()\n"
   ]
  },
  {
   "cell_type": "code",
   "execution_count": 14,
   "metadata": {
    "id": "S4jBNc3FNHTz"
   },
   "outputs": [],
   "source": [
    "# Standardisation"
   ]
  },
  {
   "cell_type": "code",
   "execution_count": 15,
   "metadata": {
    "id": "CpSY5F7MNcaK"
   },
   "outputs": [],
   "source": [
    "# Simple linear regression of R&D vs profit \n",
    "# X = df[['R&D Spend', 'Administration', 'Marketing Spend', 'Florida', 'New York']]\n",
    "# y = df['Profit']\n"
   ]
  },
  {
   "cell_type": "code",
   "execution_count": 16,
   "metadata": {
    "id": "YLYxdfAzNcaM"
   },
   "outputs": [],
   "source": [
    "#Test train split\n",
    "\n",
    "from sklearn.model_selection import train_test_split\n",
    "df_train, df_test  = train_test_split(df, train_size = 0.7, test_size = 0.3, random_state = 100)"
   ]
  },
  {
   "cell_type": "code",
   "execution_count": 17,
   "metadata": {
    "colab": {
     "base_uri": "https://localhost:8080/",
     "height": 204
    },
    "executionInfo": {
     "elapsed": 53,
     "status": "ok",
     "timestamp": 1627280560073,
     "user": {
      "displayName": "Vaishnavee M",
      "photoUrl": "",
      "userId": "00238996371145262943"
     },
     "user_tz": -330
    },
    "id": "5y7yQjbFNcaN",
    "outputId": "c7d02ae8-b7ba-4ca4-f0dd-f1ad03c59058"
   },
   "outputs": [
    {
     "data": {
      "text/html": [
       "<div>\n",
       "<style scoped>\n",
       "    .dataframe tbody tr th:only-of-type {\n",
       "        vertical-align: middle;\n",
       "    }\n",
       "\n",
       "    .dataframe tbody tr th {\n",
       "        vertical-align: top;\n",
       "    }\n",
       "\n",
       "    .dataframe thead th {\n",
       "        text-align: right;\n",
       "    }\n",
       "</style>\n",
       "<table border=\"1\" class=\"dataframe\">\n",
       "  <thead>\n",
       "    <tr style=\"text-align: right;\">\n",
       "      <th></th>\n",
       "      <th>R&amp;D Spend</th>\n",
       "      <th>Administration</th>\n",
       "      <th>Marketing Spend</th>\n",
       "      <th>State</th>\n",
       "      <th>Profit</th>\n",
       "      <th>Florida</th>\n",
       "      <th>New York</th>\n",
       "    </tr>\n",
       "  </thead>\n",
       "  <tbody>\n",
       "    <tr>\n",
       "      <th>25</th>\n",
       "      <td>0.646647</td>\n",
       "      <td>1.395532</td>\n",
       "      <td>1.379626</td>\n",
       "      <td>California</td>\n",
       "      <td>1.074043</td>\n",
       "      <td>0</td>\n",
       "      <td>0</td>\n",
       "    </tr>\n",
       "    <tr>\n",
       "      <th>26</th>\n",
       "      <td>0.753289</td>\n",
       "      <td>1.441360</td>\n",
       "      <td>1.340501</td>\n",
       "      <td>Florida</td>\n",
       "      <td>1.057335</td>\n",
       "      <td>1</td>\n",
       "      <td>0</td>\n",
       "    </tr>\n",
       "    <tr>\n",
       "      <th>35</th>\n",
       "      <td>0.460140</td>\n",
       "      <td>0.850474</td>\n",
       "      <td>2.055176</td>\n",
       "      <td>New York</td>\n",
       "      <td>0.964795</td>\n",
       "      <td>0</td>\n",
       "      <td>1</td>\n",
       "    </tr>\n",
       "    <tr>\n",
       "      <th>17</th>\n",
       "      <td>0.946572</td>\n",
       "      <td>1.450776</td>\n",
       "      <td>2.825743</td>\n",
       "      <td>New York</td>\n",
       "      <td>1.253704</td>\n",
       "      <td>0</td>\n",
       "      <td>1</td>\n",
       "    </tr>\n",
       "    <tr>\n",
       "      <th>7</th>\n",
       "      <td>1.302981</td>\n",
       "      <td>1.455301</td>\n",
       "      <td>3.238767</td>\n",
       "      <td>Florida</td>\n",
       "      <td>1.557526</td>\n",
       "      <td>1</td>\n",
       "      <td>0</td>\n",
       "    </tr>\n",
       "  </tbody>\n",
       "</table>\n",
       "</div>"
      ],
      "text/plain": [
       "    R&D Spend  Administration  Marketing Spend       State    Profit  Florida  \\\n",
       "25   0.646647        1.395532         1.379626  California  1.074043        0   \n",
       "26   0.753289        1.441360         1.340501     Florida  1.057335        1   \n",
       "35   0.460140        0.850474         2.055176    New York  0.964795        0   \n",
       "17   0.946572        1.450776         2.825743    New York  1.253704        0   \n",
       "7    1.302981        1.455301         3.238767     Florida  1.557526        1   \n",
       "\n",
       "    New York  \n",
       "25         0  \n",
       "26         0  \n",
       "35         1  \n",
       "17         1  \n",
       "7          0  "
      ]
     },
     "execution_count": 17,
     "metadata": {},
     "output_type": "execute_result"
    }
   ],
   "source": [
    "df_train.head()"
   ]
  },
  {
   "cell_type": "code",
   "execution_count": 18,
   "metadata": {
    "colab": {
     "base_uri": "https://localhost:8080/",
     "height": 204
    },
    "executionInfo": {
     "elapsed": 51,
     "status": "ok",
     "timestamp": 1627280560073,
     "user": {
      "displayName": "Vaishnavee M",
      "photoUrl": "",
      "userId": "00238996371145262943"
     },
     "user_tz": -330
    },
    "id": "oRb4O0MRNcaO",
    "outputId": "a0365631-c3df-4026-c7bf-f60f8541db3b"
   },
   "outputs": [
    {
     "data": {
      "text/html": [
       "<div>\n",
       "<style scoped>\n",
       "    .dataframe tbody tr th:only-of-type {\n",
       "        vertical-align: middle;\n",
       "    }\n",
       "\n",
       "    .dataframe tbody tr th {\n",
       "        vertical-align: top;\n",
       "    }\n",
       "\n",
       "    .dataframe thead th {\n",
       "        text-align: right;\n",
       "    }\n",
       "</style>\n",
       "<table border=\"1\" class=\"dataframe\">\n",
       "  <thead>\n",
       "    <tr style=\"text-align: right;\">\n",
       "      <th></th>\n",
       "      <th>R&amp;D Spend</th>\n",
       "      <th>Administration</th>\n",
       "      <th>Marketing Spend</th>\n",
       "      <th>State</th>\n",
       "      <th>Profit</th>\n",
       "      <th>Florida</th>\n",
       "      <th>New York</th>\n",
       "    </tr>\n",
       "  </thead>\n",
       "  <tbody>\n",
       "    <tr>\n",
       "      <th>6</th>\n",
       "      <td>1.346155</td>\n",
       "      <td>1.471989</td>\n",
       "      <td>1.277168</td>\n",
       "      <td>California</td>\n",
       "      <td>1.561225</td>\n",
       "      <td>0</td>\n",
       "      <td>0</td>\n",
       "    </tr>\n",
       "    <tr>\n",
       "      <th>36</th>\n",
       "      <td>0.286638</td>\n",
       "      <td>1.270562</td>\n",
       "      <td>2.011268</td>\n",
       "      <td>Florida</td>\n",
       "      <td>0.907082</td>\n",
       "      <td>1</td>\n",
       "      <td>0</td>\n",
       "    </tr>\n",
       "    <tr>\n",
       "      <th>37</th>\n",
       "      <td>0.440699</td>\n",
       "      <td>0.512831</td>\n",
       "      <td>1.970294</td>\n",
       "      <td>California</td>\n",
       "      <td>0.899491</td>\n",
       "      <td>0</td>\n",
       "      <td>0</td>\n",
       "    </tr>\n",
       "    <tr>\n",
       "      <th>28</th>\n",
       "      <td>0.660515</td>\n",
       "      <td>1.826456</td>\n",
       "      <td>1.181482</td>\n",
       "      <td>Florida</td>\n",
       "      <td>1.032824</td>\n",
       "      <td>1</td>\n",
       "      <td>0</td>\n",
       "    </tr>\n",
       "    <tr>\n",
       "      <th>43</th>\n",
       "      <td>0.155057</td>\n",
       "      <td>1.273823</td>\n",
       "      <td>0.355342</td>\n",
       "      <td>New York</td>\n",
       "      <td>0.697590</td>\n",
       "      <td>0</td>\n",
       "      <td>1</td>\n",
       "    </tr>\n",
       "  </tbody>\n",
       "</table>\n",
       "</div>"
      ],
      "text/plain": [
       "    R&D Spend  Administration  Marketing Spend       State    Profit  Florida  \\\n",
       "6    1.346155        1.471989         1.277168  California  1.561225        0   \n",
       "36   0.286638        1.270562         2.011268     Florida  0.907082        1   \n",
       "37   0.440699        0.512831         1.970294  California  0.899491        0   \n",
       "28   0.660515        1.826456         1.181482     Florida  1.032824        1   \n",
       "43   0.155057        1.273823         0.355342    New York  0.697590        0   \n",
       "\n",
       "    New York  \n",
       "6          0  \n",
       "36         0  \n",
       "37         0  \n",
       "28         0  \n",
       "43         1  "
      ]
     },
     "execution_count": 18,
     "metadata": {},
     "output_type": "execute_result"
    }
   ],
   "source": [
    "df_test.head()"
   ]
  },
  {
   "cell_type": "code",
   "execution_count": 19,
   "metadata": {
    "id": "U_RPBHE1J3lf"
   },
   "outputs": [],
   "source": [
    "# from sklearn.preprocessing import MinMaxScaler"
   ]
  },
  {
   "cell_type": "code",
   "execution_count": 20,
   "metadata": {
    "id": "mTG6mwAwJ3lf"
   },
   "outputs": [],
   "source": [
    "# scaler = MinMaxScaler()"
   ]
  },
  {
   "cell_type": "code",
   "execution_count": 21,
   "metadata": {
    "id": "40cdheHqJ3lf"
   },
   "outputs": [],
   "source": [
    "# # Apply scaler() to all the columns except the 'yes-no' and 'dummy' variables\n",
    "# num_vars = ['R&D Spend', 'Administration', 'Marketing Spend']\n",
    "\n",
    "# df_train[num_vars] = scaler.fit_transform(df_train[num_vars])"
   ]
  },
  {
   "cell_type": "code",
   "execution_count": 22,
   "metadata": {
    "colab": {
     "base_uri": "https://localhost:8080/",
     "height": 204
    },
    "executionInfo": {
     "elapsed": 14,
     "status": "ok",
     "timestamp": 1627280560877,
     "user": {
      "displayName": "Vaishnavee M",
      "photoUrl": "",
      "userId": "00238996371145262943"
     },
     "user_tz": -330
    },
    "id": "SaY-2uuOJ3lf",
    "outputId": "43c27c2f-f4c3-4674-c7b5-58a534f56836"
   },
   "outputs": [
    {
     "data": {
      "text/html": [
       "<div>\n",
       "<style scoped>\n",
       "    .dataframe tbody tr th:only-of-type {\n",
       "        vertical-align: middle;\n",
       "    }\n",
       "\n",
       "    .dataframe tbody tr th {\n",
       "        vertical-align: top;\n",
       "    }\n",
       "\n",
       "    .dataframe thead th {\n",
       "        text-align: right;\n",
       "    }\n",
       "</style>\n",
       "<table border=\"1\" class=\"dataframe\">\n",
       "  <thead>\n",
       "    <tr style=\"text-align: right;\">\n",
       "      <th></th>\n",
       "      <th>R&amp;D Spend</th>\n",
       "      <th>Administration</th>\n",
       "      <th>Marketing Spend</th>\n",
       "      <th>State</th>\n",
       "      <th>Profit</th>\n",
       "      <th>Florida</th>\n",
       "      <th>New York</th>\n",
       "    </tr>\n",
       "  </thead>\n",
       "  <tbody>\n",
       "    <tr>\n",
       "      <th>25</th>\n",
       "      <td>0.646647</td>\n",
       "      <td>1.395532</td>\n",
       "      <td>1.379626</td>\n",
       "      <td>California</td>\n",
       "      <td>1.074043</td>\n",
       "      <td>0</td>\n",
       "      <td>0</td>\n",
       "    </tr>\n",
       "    <tr>\n",
       "      <th>26</th>\n",
       "      <td>0.753289</td>\n",
       "      <td>1.441360</td>\n",
       "      <td>1.340501</td>\n",
       "      <td>Florida</td>\n",
       "      <td>1.057335</td>\n",
       "      <td>1</td>\n",
       "      <td>0</td>\n",
       "    </tr>\n",
       "    <tr>\n",
       "      <th>35</th>\n",
       "      <td>0.460140</td>\n",
       "      <td>0.850474</td>\n",
       "      <td>2.055176</td>\n",
       "      <td>New York</td>\n",
       "      <td>0.964795</td>\n",
       "      <td>0</td>\n",
       "      <td>1</td>\n",
       "    </tr>\n",
       "    <tr>\n",
       "      <th>17</th>\n",
       "      <td>0.946572</td>\n",
       "      <td>1.450776</td>\n",
       "      <td>2.825743</td>\n",
       "      <td>New York</td>\n",
       "      <td>1.253704</td>\n",
       "      <td>0</td>\n",
       "      <td>1</td>\n",
       "    </tr>\n",
       "    <tr>\n",
       "      <th>7</th>\n",
       "      <td>1.302981</td>\n",
       "      <td>1.455301</td>\n",
       "      <td>3.238767</td>\n",
       "      <td>Florida</td>\n",
       "      <td>1.557526</td>\n",
       "      <td>1</td>\n",
       "      <td>0</td>\n",
       "    </tr>\n",
       "  </tbody>\n",
       "</table>\n",
       "</div>"
      ],
      "text/plain": [
       "    R&D Spend  Administration  Marketing Spend       State    Profit  Florida  \\\n",
       "25   0.646647        1.395532         1.379626  California  1.074043        0   \n",
       "26   0.753289        1.441360         1.340501     Florida  1.057335        1   \n",
       "35   0.460140        0.850474         2.055176    New York  0.964795        0   \n",
       "17   0.946572        1.450776         2.825743    New York  1.253704        0   \n",
       "7    1.302981        1.455301         3.238767     Florida  1.557526        1   \n",
       "\n",
       "    New York  \n",
       "25         0  \n",
       "26         0  \n",
       "35         1  \n",
       "17         1  \n",
       "7          0  "
      ]
     },
     "execution_count": 22,
     "metadata": {},
     "output_type": "execute_result"
    }
   ],
   "source": [
    "df_train.head()"
   ]
  },
  {
   "cell_type": "markdown",
   "metadata": {
    "id": "hIe7yQKocOfW"
   },
   "source": [
    "profit and R&D seem to be linearly correlated"
   ]
  },
  {
   "cell_type": "code",
   "execution_count": 23,
   "metadata": {
    "colab": {
     "base_uri": "https://localhost:8080/",
     "height": 344
    },
    "executionInfo": {
     "elapsed": 13,
     "status": "ok",
     "timestamp": 1627280560878,
     "user": {
      "displayName": "Vaishnavee M",
      "photoUrl": "",
      "userId": "00238996371145262943"
     },
     "user_tz": -330
    },
    "id": "lG4EGYcBcOfW",
    "outputId": "9fd29504-bf4a-416e-e037-3f8e729133b1"
   },
   "outputs": [
    {
     "data": {
      "image/png": "[encoded data removed]",
      "text/plain": [
       "<Figure size 432x288 with 2 Axes>"
      ]
     },
     "metadata": {
      "needs_background": "light"
     },
     "output_type": "display_data"
    }
   ],
   "source": [
    "sns.heatmap(df_train.corr(), cmap=\"YlGnBu\", annot = True)\n",
    "plt.show()"
   ]
  },
  {
   "cell_type": "code",
   "execution_count": 24,
   "metadata": {
    "id": "-BzTxajscOfW"
   },
   "outputs": [],
   "source": [
    "# Dividing train set into x and y\n",
    "y_train = df_train.pop('Profit')\n",
    "X_train = df_train"
   ]
  },
  {
   "cell_type": "code",
   "execution_count": 25,
   "metadata": {
    "id": "UhAsM4yadHL9"
   },
   "outputs": [],
   "source": [
    "#Building a linear model\n",
    "import statsmodels.api as sm"
   ]
  },
  {
   "cell_type": "code",
   "execution_count": 26,
   "metadata": {
    "id": "2ugKoSHKdUjL"
   },
   "outputs": [],
   "source": [
    "# Add a constant to get an intercept\n",
    "X_train_sm = sm.add_constant(X_train[['R&D Spend','Administration','Marketing Spend', 'Florida','New York']])\n",
    "\n",
    "# Fit the resgression line using 'OLS'\n",
    "lr = sm.OLS(y_train, X_train_sm).fit()\n"
   ]
  },
  {
   "cell_type": "code",
   "execution_count": 27,
   "metadata": {
    "colab": {
     "base_uri": "https://localhost:8080/"
    },
    "executionInfo": {
     "elapsed": 369,
     "status": "ok",
     "timestamp": 1627280612040,
     "user": {
      "displayName": "Vaishnavee M",
      "photoUrl": "",
      "userId": "00238996371145262943"
     },
     "user_tz": -330
    },
    "id": "IpacdIR3daAs",
    "outputId": "7d90e92e-84cb-47db-cf00-eaefbcb5c176"
   },
   "outputs": [
    {
     "data": {
      "text/plain": [
       "const              0.508884\n",
       "R&D Spend          0.840872\n",
       "Administration    -0.027943\n",
       "Marketing Spend    0.022766\n",
       "Florida           -0.032848\n",
       "New York          -0.052913\n",
       "dtype: float64"
      ]
     },
     "execution_count": 27,
     "metadata": {},
     "output_type": "execute_result"
    }
   ],
   "source": [
    "# Print the parameters, i.e. the intercept and the slope of the regression line fitted\n",
    "lr.params"
   ]
  },
  {
   "cell_type": "code",
   "execution_count": 28,
   "metadata": {
    "colab": {
     "base_uri": "https://localhost:8080/"
    },
    "executionInfo": {
     "elapsed": 606,
     "status": "ok",
     "timestamp": 1627280614992,
     "user": {
      "displayName": "Vaishnavee M",
      "photoUrl": "",
      "userId": "00238996371145262943"
     },
     "user_tz": -330
    },
    "id": "bMizrRLHdbmr",
    "outputId": "51f31da3-ad45-4619-c1bf-f59604fdd921"
   },
   "outputs": [
    {
     "name": "stdout",
     "output_type": "stream",
     "text": [
      "                            OLS Regression Results                            \n",
      "==============================================================================\n",
      "Dep. Variable:                 Profit   R-squared:                       0.966\n",
      "Model:                            OLS   Adj. R-squared:                  0.961\n",
      "Method:                 Least Squares   F-statistic:                     167.1\n",
      "Date:                Fri, 14 Jan 2022   Prob (F-statistic):           1.87e-20\n",
      "Time:                        20:06:45   Log-Likelihood:                 43.684\n",
      "No. Observations:                  35   AIC:                            -75.37\n",
      "Df Residuals:                      29   BIC:                            -66.04\n",
      "Df Model:                           5                                         \n",
      "Covariance Type:            nonrobust                                         \n",
      "===================================================================================\n",
      "                      coef    std err          t      P>|t|      [0.025      0.975]\n",
      "-----------------------------------------------------------------------------------\n",
      "const               0.5089      0.074      6.875      0.000       0.358       0.660\n",
      "R&D Spend           0.8409      0.045     18.696      0.000       0.749       0.933\n",
      "Administration     -0.0279      0.054     -0.515      0.610      -0.139       0.083\n",
      "Marketing Spend     0.0228      0.016      1.455      0.156      -0.009       0.055\n",
      "Florida            -0.0328      0.034     -0.971      0.340      -0.102       0.036\n",
      "New York           -0.0529      0.032     -1.630      0.114      -0.119       0.013\n",
      "==============================================================================\n",
      "Omnibus:                        0.515   Durbin-Watson:                   2.640\n",
      "Prob(Omnibus):                  0.773   Jarque-Bera (JB):                0.388\n",
      "Skew:                          -0.245   Prob(JB):                        0.824\n",
      "Kurtosis:                       2.840   Cond. No.                         21.6\n",
      "==============================================================================\n",
      "\n",
      "Notes:\n",
      "[1] Standard Errors assume that the covariance matrix of the errors is correctly specified.\n"
     ]
    }
   ],
   "source": [
    "# Performing a summary operation lists out all the different parameters of the regression line fitted\n",
    "print(lr.summary())"
   ]
  },
  {
   "cell_type": "markdown",
   "metadata": {
    "id": "yOMyRkNLd9cI"
   },
   "source": [
    "coefficient for R&D spend is 0.46, with a very low p value (~0)\n",
    "The coefficient is statistically significant. \\\\\n",
    "\n",
    "Adjusted R-squared value is 0.96\n",
    "Meaning that 96% of the variance in Profit is explained by the model\\\\\n",
    "\n",
    "F statistic has a very low p value. The model fit is statistically significant.\n",
    "\n",
    "However, it is important to note that the p-values of administration, New York, Florida co-efficients are very high which affects the explainability of the model. Next, we will build a model, removing this feature\n"
   ]
  },
  {
   "cell_type": "code",
   "execution_count": 29,
   "metadata": {
    "id": "Y0ul8wDKTwdo"
   },
   "outputs": [],
   "source": [
    "#This model has been bulit by dropping all three features together. This is not the right way. You need drop it one by one (feature with the highest p-value)\n",
    "#and check the model statistics\n",
    "\n",
    "# Add a constant to get an intercept\n",
    "X_train_sm = sm.add_constant(X_train[['R&D Spend','Marketing Spend']])\n",
    "\n",
    "# Fit the resgression line using 'OLS'\n",
    "lr_2 = sm.OLS(y_train, X_train_sm).fit()"
   ]
  },
  {
   "cell_type": "code",
   "execution_count": 30,
   "metadata": {
    "colab": {
     "base_uri": "https://localhost:8080/"
    },
    "executionInfo": {
     "elapsed": 185,
     "status": "ok",
     "timestamp": 1627280183898,
     "user": {
      "displayName": "Vaishnavee M",
      "photoUrl": "",
      "userId": "00238996371145262943"
     },
     "user_tz": -330
    },
    "id": "Y1IYxlx4UT42",
    "outputId": "05561b99-7a9a-4349-c0ae-9073dcecbe44"
   },
   "outputs": [
    {
     "data": {
      "text/plain": [
       "const              0.452123\n",
       "R&D Spend          0.824511\n",
       "Marketing Spend    0.025181\n",
       "dtype: float64"
      ]
     },
     "execution_count": 30,
     "metadata": {},
     "output_type": "execute_result"
    }
   ],
   "source": [
    "# Print the parameters, i.e. the intercept and the slope of the regression line fitted\n",
    "lr_2.params"
   ]
  },
  {
   "cell_type": "code",
   "execution_count": 31,
   "metadata": {
    "colab": {
     "base_uri": "https://localhost:8080/"
    },
    "executionInfo": {
     "elapsed": 168,
     "status": "ok",
     "timestamp": 1627280183901,
     "user": {
      "displayName": "Vaishnavee M",
      "photoUrl": "",
      "userId": "00238996371145262943"
     },
     "user_tz": -330
    },
    "id": "5e1te1StUYm4",
    "outputId": "4789b7ea-8d1f-4169-800b-d838c48a042f"
   },
   "outputs": [
    {
     "name": "stdout",
     "output_type": "stream",
     "text": [
      "                            OLS Regression Results                            \n",
      "==============================================================================\n",
      "Dep. Variable:                 Profit   R-squared:                       0.963\n",
      "Model:                            OLS   Adj. R-squared:                  0.961\n",
      "Method:                 Least Squares   F-statistic:                     419.5\n",
      "Date:                Fri, 14 Jan 2022   Prob (F-statistic):           1.10e-23\n",
      "Time:                        20:06:45   Log-Likelihood:                 42.092\n",
      "No. Observations:                  35   AIC:                            -78.18\n",
      "Df Residuals:                      32   BIC:                            -73.52\n",
      "Df Model:                           2                                         \n",
      "Covariance Type:            nonrobust                                         \n",
      "===================================================================================\n",
      "                      coef    std err          t      P>|t|      [0.025      0.975]\n",
      "-----------------------------------------------------------------------------------\n",
      "const               0.4521      0.029     15.858      0.000       0.394       0.510\n",
      "R&D Spend           0.8245      0.042     19.564      0.000       0.739       0.910\n",
      "Marketing Spend     0.0252      0.015      1.682      0.102      -0.005       0.056\n",
      "==============================================================================\n",
      "Omnibus:                        0.947   Durbin-Watson:                   2.510\n",
      "Prob(Omnibus):                  0.623   Jarque-Bera (JB):                0.722\n",
      "Skew:                          -0.343   Prob(JB):                        0.697\n",
      "Kurtosis:                       2.847   Cond. No.                         9.66\n",
      "==============================================================================\n",
      "\n",
      "Notes:\n",
      "[1] Standard Errors assume that the covariance matrix of the errors is correctly specified.\n"
     ]
    }
   ],
   "source": [
    "# Performing a summary operation lists out all the different parameters of the regression line fitted\n",
    "print(lr_2.summary())"
   ]
  },
  {
   "cell_type": "markdown",
   "metadata": {
    "id": "8nW2WLdQUebV"
   },
   "source": [
    "R-squared value didn't improve but the  coefficient of marketing spend still has a high p-value. Hence, we will remove that feature and build the next model."
   ]
  },
  {
   "cell_type": "code",
   "execution_count": null,
   "metadata": {
    "id": "CkKOhO53U0n8"
   },
   "outputs": [],
   "source": []
  },
  {
   "cell_type": "code",
   "execution_count": 32,
   "metadata": {
    "id": "0td71zOmU0_B"
   },
   "outputs": [],
   "source": [
    "# Add a constant to get an intercept\n",
    "X_train_sm = sm.add_constant(X_train['R&D Spend'])\n",
    "\n",
    "# Fit the resgression line using 'OLS'\n",
    "lr_3 = sm.OLS(y_train, X_train_sm).fit()"
   ]
  },
  {
   "cell_type": "code",
   "execution_count": 33,
   "metadata": {
    "colab": {
     "base_uri": "https://localhost:8080/"
    },
    "executionInfo": {
     "elapsed": 157,
     "status": "ok",
     "timestamp": 1627280183906,
     "user": {
      "displayName": "Vaishnavee M",
      "photoUrl": "",
      "userId": "00238996371145262943"
     },
     "user_tz": -330
    },
    "id": "ySWFibFxU0_B",
    "outputId": "bd27b877-3d5a-4440-f976-d1058ba1ab3f"
   },
   "outputs": [
    {
     "data": {
      "text/plain": [
       "const        0.468233\n",
       "R&D Spend    0.873932\n",
       "dtype: float64"
      ]
     },
     "execution_count": 33,
     "metadata": {},
     "output_type": "execute_result"
    }
   ],
   "source": [
    "# Print the parameters, i.e. the intercept and the slope of the regression line fitted\n",
    "lr_3.params"
   ]
  },
  {
   "cell_type": "code",
   "execution_count": 34,
   "metadata": {
    "colab": {
     "base_uri": "https://localhost:8080/"
    },
    "executionInfo": {
     "elapsed": 144,
     "status": "ok",
     "timestamp": 1627280183908,
     "user": {
      "displayName": "Vaishnavee M",
      "photoUrl": "",
      "userId": "00238996371145262943"
     },
     "user_tz": -330
    },
    "id": "vp3ZGNtxU0_C",
    "outputId": "c595da6c-4e73-4b01-89f5-2a1d086bfa55"
   },
   "outputs": [
    {
     "name": "stdout",
     "output_type": "stream",
     "text": [
      "                            OLS Regression Results                            \n",
      "==============================================================================\n",
      "Dep. Variable:                 Profit   R-squared:                       0.960\n",
      "Model:                            OLS   Adj. R-squared:                  0.959\n",
      "Method:                 Least Squares   F-statistic:                     792.2\n",
      "Date:                Fri, 14 Jan 2022   Prob (F-statistic):           1.20e-24\n",
      "Time:                        20:06:45   Log-Likelihood:                 40.609\n",
      "No. Observations:                  35   AIC:                            -77.22\n",
      "Df Residuals:                      33   BIC:                            -74.11\n",
      "Df Model:                           1                                         \n",
      "Covariance Type:            nonrobust                                         \n",
      "==============================================================================\n",
      "                 coef    std err          t      P>|t|      [0.025      0.975]\n",
      "------------------------------------------------------------------------------\n",
      "const          0.4682      0.028     16.971      0.000       0.412       0.524\n",
      "R&D Spend      0.8739      0.031     28.147      0.000       0.811       0.937\n",
      "==============================================================================\n",
      "Omnibus:                        1.025   Durbin-Watson:                   2.584\n",
      "Prob(Omnibus):                  0.599   Jarque-Bera (JB):                0.682\n",
      "Skew:                          -0.341   Prob(JB):                        0.711\n",
      "Kurtosis:                       2.939   Cond. No.                         3.96\n",
      "==============================================================================\n",
      "\n",
      "Notes:\n",
      "[1] Standard Errors assume that the covariance matrix of the errors is correctly specified.\n"
     ]
    }
   ],
   "source": [
    "# Performing a summary operation lists out all the different parameters of the regression line fitted\n",
    "print(lr_3.summary())"
   ]
  },
  {
   "cell_type": "markdown",
   "metadata": {
    "id": "RaP0gsGsfG1B"
   },
   "source": [
    "Model is statistically significant. Equation becomes $ Profit = 0.468 + 0.873* R&D spend $"
   ]
  },
  {
   "cell_type": "code",
   "execution_count": 35,
   "metadata": {
    "colab": {
     "base_uri": "https://localhost:8080/",
     "height": 265
    },
    "executionInfo": {
     "elapsed": 134,
     "status": "ok",
     "timestamp": 1627280183910,
     "user": {
      "displayName": "Vaishnavee M",
      "photoUrl": "",
      "userId": "00238996371145262943"
     },
     "user_tz": -330
    },
    "id": "yBwFrS8CfEz4",
    "outputId": "a8fcd2a0-ec69-44ca-af09-189cb713be5e"
   },
   "outputs": [
    {
     "data": {
      "image/png": "[encoded data removed]",
      "text/plain": [
       "<Figure size 432x288 with 1 Axes>"
      ]
     },
     "metadata": {
      "needs_background": "light"
     },
     "output_type": "display_data"
    }
   ],
   "source": [
    "#visulaising the model\n",
    "\n",
    "plt.scatter(X_train['R&D Spend'], y_train)\n",
    "plt.plot(X_train['R&D Spend'], 0.468 + 0.873*X_train['R&D Spend'], 'r')\n",
    "plt.show()"
   ]
  },
  {
   "cell_type": "code",
   "execution_count": 36,
   "metadata": {
    "colab": {
     "base_uri": "https://localhost:8080/",
     "height": 368
    },
    "executionInfo": {
     "elapsed": 134,
     "status": "ok",
     "timestamp": 1627280183913,
     "user": {
      "displayName": "Vaishnavee M",
      "photoUrl": "",
      "userId": "00238996371145262943"
     },
     "user_tz": -330
    },
    "id": "dGO7U3czftpi",
    "outputId": "f6e88c93-80a5-412e-e49c-ca54715d6d5b"
   },
   "outputs": [
    {
     "data": {
      "image/png": "[encoded data removed]",
      "text/plain": [
       "<Figure size 432x288 with 1 Axes>"
      ]
     },
     "metadata": {
      "needs_background": "light"
     },
     "output_type": "display_data"
    }
   ],
   "source": [
    "#Residual analysis\n",
    "\n",
    "y_train_pred = lr_3.predict(X_train_sm)\n",
    "res = (y_train - y_train_pred)\n",
    "fig = plt.figure()\n",
    "sns.distplot(res, bins = 5)\n",
    "fig.suptitle('Error Terms', fontsize = 15)                  \n",
    "plt.xlabel('y_train - y_train_pred', fontsize = 15)        \n",
    "plt.show()"
   ]
  },
  {
   "cell_type": "code",
   "execution_count": 37,
   "metadata": {
    "colab": {
     "base_uri": "https://localhost:8080/",
     "height": 265
    },
    "executionInfo": {
     "elapsed": 115,
     "status": "ok",
     "timestamp": 1627280183914,
     "user": {
      "displayName": "Vaishnavee M",
      "photoUrl": "",
      "userId": "00238996371145262943"
     },
     "user_tz": -330
    },
    "id": "0-nZ0O7SgPIK",
    "outputId": "46fe1e55-0a85-4a07-dd8e-df69d0cb6fd4"
   },
   "outputs": [
    {
     "data": {
      "image/png": "[encoded data removed]",
      "text/plain": [
       "<Figure size 432x288 with 1 Axes>"
      ]
     },
     "metadata": {
      "needs_background": "light"
     },
     "output_type": "display_data"
    }
   ],
   "source": [
    "plt.scatter(X_train['R&D Spend'],res)\n",
    "plt.show()"
   ]
  },
  {
   "cell_type": "code",
   "execution_count": 38,
   "metadata": {
    "id": "LzVpPrKWXxZq"
   },
   "outputs": [],
   "source": [
    "# Dividing test set into x and y\n",
    "y_test = df_test.pop('Profit')\n",
    "X_test = df_test"
   ]
  },
  {
   "cell_type": "code",
   "execution_count": 39,
   "metadata": {
    "colab": {
     "base_uri": "https://localhost:8080/"
    },
    "executionInfo": {
     "elapsed": 111,
     "status": "ok",
     "timestamp": 1627280183917,
     "user": {
      "displayName": "Vaishnavee M",
      "photoUrl": "",
      "userId": "00238996371145262943"
     },
     "user_tz": -330
    },
    "id": "13jbWA9ogXBV",
    "outputId": "14ea2633-d1af-46f2-87f7-706a44d111f4"
   },
   "outputs": [
    {
     "data": {
      "text/plain": [
       "6     1.644681\n",
       "36    0.718735\n",
       "37    0.853374\n",
       "28    1.045478\n",
       "43    0.603742\n",
       "dtype: float64"
      ]
     },
     "execution_count": 39,
     "metadata": {},
     "output_type": "execute_result"
    }
   ],
   "source": [
    "# prediction on train set\n",
    "\n",
    "# Add a constant to X_test\n",
    "X_test_sm = sm.add_constant(X_test['R&D Spend'])\n",
    "\n",
    "# Predict the y values corresponding to X_test_sm\n",
    "y_test_pred = lr_3.predict(X_test_sm)\n",
    "y_test_pred.head()\n"
   ]
  },
  {
   "cell_type": "code",
   "execution_count": 40,
   "metadata": {
    "colab": {
     "base_uri": "https://localhost:8080/"
    },
    "executionInfo": {
     "elapsed": 97,
     "status": "ok",
     "timestamp": 1627280183918,
     "user": {
      "displayName": "Vaishnavee M",
      "photoUrl": "",
      "userId": "00238996371145262943"
     },
     "user_tz": -330
    },
    "id": "5qw7U4Rbaau4",
    "outputId": "31e9b88c-546a-4b0b-d874-c2c1b2cff394"
   },
   "outputs": [
    {
     "data": {
      "text/plain": [
       "0.12415075758881597"
      ]
     },
     "execution_count": 40,
     "metadata": {},
     "output_type": "execute_result"
    }
   ],
   "source": [
    "from sklearn.metrics import mean_squared_error\n",
    "from sklearn.metrics import r2_score\n",
    "\n",
    "##### Looking at the RMSE\n",
    "\n",
    "#Returns the mean squared error; we'll take a square root\n",
    "np.sqrt(mean_squared_error(y_test, y_test_pred))"
   ]
  },
  {
   "cell_type": "code",
   "execution_count": 41,
   "metadata": {
    "colab": {
     "base_uri": "https://localhost:8080/"
    },
    "executionInfo": {
     "elapsed": 87,
     "status": "ok",
     "timestamp": 1627280183920,
     "user": {
      "displayName": "Vaishnavee M",
      "photoUrl": "",
      "userId": "00238996371145262943"
     },
     "user_tz": -330
    },
    "id": "zjNoUvzQgm8d",
    "outputId": "f4ff8b47-067f-4f9b-c24f-b60984ada964"
   },
   "outputs": [
    {
     "data": {
      "text/plain": [
       "0.9180698548847864"
      ]
     },
     "execution_count": 41,
     "metadata": {},
     "output_type": "execute_result"
    }
   ],
   "source": [
    "r_squared = r2_score(y_test, y_test_pred)\n",
    "r_squared"
   ]
  },
  {
   "cell_type": "code",
   "execution_count": 42,
   "metadata": {
    "colab": {
     "base_uri": "https://localhost:8080/",
     "height": 268
    },
    "executionInfo": {
     "elapsed": 59,
     "status": "ok",
     "timestamp": 1627280117262,
     "user": {
      "displayName": "Vaishnavee M",
      "photoUrl": "",
      "userId": "00238996371145262943"
     },
     "user_tz": -330
    },
    "id": "KfHyAkZmgoER",
    "outputId": "d519eb79-18f7-48fa-ebc7-b461e96751fe"
   },
   "outputs": [
    {
     "data": {
      "image/png": "[encoded data removed]",
      "text/plain": [
       "<Figure size 432x288 with 1 Axes>"
      ]
     },
     "metadata": {
      "needs_background": "light"
     },
     "output_type": "display_data"
    }
   ],
   "source": [
    "plt.scatter(X_test['R&D Spend'], y_test)\n",
    "plt.plot(X_test['R&D Spend'], 0.468 + 0.874 * X_test['R&D Spend'], 'r')\n",
    "plt.show()"
   ]
  },
  {
   "cell_type": "code",
   "execution_count": null,
   "metadata": {
    "id": "Ak5CMYH6c8WN"
   },
   "outputs": [],
   "source": []
  }
 ],
 "metadata": {
  "colab": {
   "name": "ML-recall_SGC_LR.ipynb",
   "provenance": []
  },
  "kernelspec": {
   "display_name": "Python 3",
   "language": "python",
   "name": "python3"
  },
  "language_info": {
   "codemirror_mode": {
    "name": "ipython",
    "version": 3
   },
   "file_extension": ".py",
   "mimetype": "text/x-python",
   "name": "python",
   "nbconvert_exporter": "python",
   "pygments_lexer": "ipython3",
   "version": "3.7.6"
  }
 },
 "nbformat": 4,
 "nbformat_minor": 1
}
